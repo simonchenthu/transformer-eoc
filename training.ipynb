{
 "cells": [
  {
   "cell_type": "code",
   "execution_count": 1,
   "id": "04e94a1b-4ae3-4184-9afe-e393ce8ae137",
   "metadata": {},
   "outputs": [],
   "source": [
    "\"\"\"\n",
    "Two phase-transition experiment (Cowsik et al. 2024)\n",
    "====================================================\n",
    "\n",
    "* Reproduces Section 5 (Figure 7) & Appendix D on Food-101.\n",
    "* Sweeps (alpha, sigma_w) grid, measures:\n",
    "      – λ_a  (token angle exponent, Appendix A)\n",
    "      – λ_g  (gradient exponent, log-ratio definition, Eq. 21)\n",
    "      – final test loss after 15 epochs\n",
    "\"\"\"\n",
    "\n",
    "import copy, math, argparse, time, itertools, os, warnings\n",
    "from pathlib import Path\n",
    "import numpy as np\n",
    "from tqdm import tqdm\n",
    "import torch, torch.nn as nn, torch.nn.functional as F\n",
    "import torchvision\n",
    "from torchvision import transforms\n",
    "from torch.utils.data import DataLoader\n",
    "import matplotlib.pyplot as plt\n",
    "import matplotlib as mpl\n"
   ]
  },
  {
   "cell_type": "code",
   "execution_count": 2,
   "id": "ad6b98cf-ebf4-4914-a807-c2785288ceb4",
   "metadata": {},
   "outputs": [],
   "source": [
    "# ── deterministic seeding helper ───────────────────────────────────────────\n",
    "def set_global_seed(seed: int):\n",
    "    # random.seed(seed)\n",
    "    np.random.seed(seed)\n",
    "    torch.manual_seed(seed)\n",
    "    torch.cuda.manual_seed_all(seed)\n",
    "    # for full determinism (slows some ops):\n",
    "    torch.backends.cudnn.deterministic = True\n",
    "    torch.backends.cudnn.benchmark = False"
   ]
  },
  {
   "cell_type": "code",
   "execution_count": 3,
   "id": "00c8b74a-bd71-4863-836e-aefda85b92d5",
   "metadata": {},
   "outputs": [],
   "source": [
    "# ---------------------------------------------------------------------\n",
    "# 0.  Food-101 dataloaders (128×128 → 16×16 patches)\n",
    "# ---------------------------------------------------------------------\n",
    "class CachedFood101(torch.utils.data.Dataset):\n",
    "    def __init__(self, cache_file, device):\n",
    "        obj = torch.load(cache_file, map_location=device)\n",
    "        self.x, self.y = obj[\"images\"], obj[\"labels\"]     # plain tensors\n",
    "\n",
    "    def __len__(self):             return len(self.y)\n",
    "    def __getitem__(self, idx):    return self.x[idx], self.y[idx]\n",
    "        \n",
    "\n",
    "def food101_loaders(data_root, batch_size=256, need_download=False, num_workers=0):\n",
    "    print(f\"[data] Preparing Food-101 in {data_root} …\", flush=True)\n",
    "    # Start data \n",
    "    tfm = transforms.Compose([\n",
    "        transforms.Resize(128),        # 128 on short side\n",
    "        transforms.CenterCrop(128),    # enforce square crop\n",
    "        transforms.ToTensor(),            # 0-1\n",
    "        transforms.Lambda(lambda x: (x-0.5)*2)   # ℝ in [-1,1]\n",
    "    ])\n",
    "    train = torchvision.datasets.Food101(data_root, split='train', download=need_download, transform=tfm)\n",
    "    test  = torchvision.datasets.Food101(data_root, split='test',  download=need_download, transform=tfm)\n",
    "    \n",
    "    # ── print dataset detail──────────────────────────────────────────────\n",
    "    print(f\"[data] ✓ train  {len(train):6d} images | \"\n",
    "          f\"test {len(test):5d} images  · batch={batch_size} \"\n",
    "          f\"({num_workers} workers)\\n\", flush=True)\n",
    "\n",
    "    # ── cache dataset──────────────────────────────────────────────\n",
    "    cache_train_path = data_root / \"food101_128px_train.pt\"\n",
    "    if not cache_train_path.exists():\n",
    "        xs_train = torch.zeros(len(train), 3, 128, 128, dtype=torch.float32)\n",
    "        ys_train = torch.zeros(len(train), dtype=torch.int64)\n",
    "        for i, (img, lab) in enumerate(tqdm(train, desc=\"preprocess\")):\n",
    "            xs_train[i] = img\n",
    "            ys_train[i] = lab\n",
    "        torch.save({\"images\": xs_train, \"labels\": ys_train}, cache_train_path)\n",
    "        print(\"✓ saved\", cache_train_path)\n",
    "    else:\n",
    "        print(\"✓ existed\", cache_train_path)\n",
    "\n",
    "    cache_test_path = data_root / \"food101_128px_test.pt\"\n",
    "    if not cache_test_path.exists():\n",
    "        xs_test = torch.zeros(len(test), 3, 128, 128, dtype=torch.float32)\n",
    "        ys_test = torch.zeros(len(test), dtype=torch.int64)\n",
    "        for i, (img, lab) in enumerate(tqdm(test, desc=\"preprocess\")):\n",
    "            xs_test[i] = img\n",
    "            ys_test[i] = lab\n",
    "        torch.save({\"images\": xs_test, \"labels\": ys_test}, cache_test_path)\n",
    "        print(\"✓ saved\", cache_test_path)\n",
    "    else:\n",
    "        print(\"✓ existed\", cache_test_path)\n",
    "\n",
    "    # ── cache dataset loader──────────────────────────────────────────────\n",
    "    train_cache = CachedFood101(cache_train_path, device='cuda')  ####### Load full dataset to cuda for efficiency #######\n",
    "    test_cache = CachedFood101(cache_test_path, device='cuda')    ####### Load full dataset to cuda for efficiency #######\n",
    "\n",
    "    train_loader = DataLoader(\n",
    "        train_cache, batch_size=batch_size, shuffle=True,\n",
    "        num_workers=num_workers,    # 0 is fine (no JPEG decoding!)\n",
    "        pin_memory=False\n",
    "    )\n",
    "    test_loader  = DataLoader(\n",
    "        test_cache,  batch_size=256, shuffle=False,\n",
    "        num_workers=0,\n",
    "        pin_memory=False\n",
    "    )\n",
    "\n",
    "    return train_loader, test_loader\n"
   ]
  },
  {
   "cell_type": "code",
   "execution_count": 4,
   "id": "9c92e0a1-65e3-4e93-a8a8-0e943150d7d6",
   "metadata": {},
   "outputs": [],
   "source": [
    "# ---------------------------------------------------------------------\n",
    "# 1.  Patch-to-token stem  (16×16 patches ⇒ 64-dim token)\n",
    "# ---------------------------------------------------------------------\n",
    "class PatchStem(nn.Module):\n",
    "    def __init__(self, d=64, patch=16):\n",
    "        super().__init__()\n",
    "        self.conv = nn.Conv2d(3, d, kernel_size=patch, stride=patch)\n",
    "\n",
    "    def forward(self, x):                      # (B,3,128,128)\n",
    "        x = self.conv(x)                       # (B,d,8,8)\n",
    "        return x.flatten(2).transpose(1,2)     # (B,64, d)\n"
   ]
  },
  {
   "cell_type": "code",
   "execution_count": 5,
   "id": "b15f2f95-fa4d-46db-9b22-0f2b435164c8",
   "metadata": {},
   "outputs": [],
   "source": [
    "# ---------------------------------------------------------------------\n",
    "# 2.  One-head transformer layer  (d = 64)\n",
    "# ---------------------------------------------------------------------\n",
    "class OneHeadLayer(nn.Module):\n",
    "    def __init__(self, d, sigma_A, sigma_w, alpha):\n",
    "        super().__init__()\n",
    "        self.d = d\n",
    "        self.alpha = alpha\n",
    "        self.alphatilde = math.sqrt(max(1-alpha**2, 0.0))\n",
    "\n",
    "        inv = 1.0 / math.sqrt(d)\n",
    "        self.Q = nn.Parameter(torch.randn(d,d)*inv)\n",
    "        self.K = nn.Parameter(torch.randn(d,d)*inv*sigma_A)\n",
    "        self.V = nn.Parameter(torch.randn(d,d)*inv)\n",
    "        self.W0 = nn.Parameter(torch.randn(d,d)*inv*sigma_w)\n",
    "        self.W1 = nn.Parameter(torch.randn(d,d)*inv*sigma_w)\n",
    "        self.W2 = nn.Parameter(torch.randn(d,d)*inv*sigma_w)\n",
    "\n",
    "    @staticmethod\n",
    "    def norm(x):\n",
    "        return x / (torch.linalg.vector_norm(x, dim=-1, keepdim=True)+1e-9) * math.sqrt(x.shape[-1])\n",
    "\n",
    "    def forward(self, x):\n",
    "        # attention layer with pre-layernorm\n",
    "        y = self.norm(x)\n",
    "        A = torch.softmax((y@self.Q)@(y@self.K).transpose(-2,-1)/math.sqrt(self.d), dim=-1)\n",
    "        x = self.alphatilde*x + self.alpha*(A@(y@self.V))\n",
    "\n",
    "        # mlp\n",
    "        y = self.norm(x)\n",
    "        h = torch.tanh(y@self.W0)\n",
    "        out = torch.tanh(h@self.W1)@self.W2\n",
    "        return self.alphatilde*x + self.alpha*out\n"
   ]
  },
  {
   "cell_type": "code",
   "execution_count": 6,
   "id": "33bc12c0-db2c-4a70-8564-5ae3375758a3",
   "metadata": {},
   "outputs": [],
   "source": [
    "# ---------------------------------------------------------------------\n",
    "# 3.  ViT-tiny backbone + classifier\n",
    "# ---------------------------------------------------------------------\n",
    "class TinyViT(nn.Module):\n",
    "    def __init__(self, L, d, sigma_A, sigma_w, alpha, n_cls=101):\n",
    "        super().__init__()\n",
    "        self.stem = PatchStem(d)\n",
    "        # CLS token + position embeds\n",
    "        self.cls = nn.Parameter(torch.zeros(1,1,d))\n",
    "        self.pe  = nn.Parameter(torch.randn(1,65,d)/math.sqrt(d))\n",
    "\n",
    "        self.layers = nn.ModuleList([\n",
    "            OneHeadLayer(d, sigma_A, sigma_w, alpha) for _ in range(L)\n",
    "        ])\n",
    "        self.head = nn.Linear(d, n_cls)\n",
    "\n",
    "    def forward(self, img):\n",
    "        tok = self.stem(img)              # (B,64,d)\n",
    "        cls = self.cls.repeat(img.size(0), 1, 1)      # same initial CLS token at input (zero vector)\n",
    "        x = torch.cat([cls, tok], dim=1) + self.pe\n",
    "        for layer in self.layers:\n",
    "            x = layer(x)\n",
    "        return self.head(x[:,0])\n"
   ]
  },
  {
   "cell_type": "code",
   "execution_count": 7,
   "id": "4bc80f88-1990-4ebb-ac20-3a325ceb560c",
   "metadata": {},
   "outputs": [],
   "source": [
    "# ---------------------------------------------------------------------\n",
    "# 4.  λ_a (1-layer, Appendix A)  &  λ_g (log-ratio, 16-layers)\n",
    "# ---------------------------------------------------------------------\n",
    "@torch.no_grad()\n",
    "def sample_correlated_tokens(d: int,\n",
    "                             n_tokens: int,\n",
    "                             cos_init: float = .99,\n",
    "                             dtype: torch.dtype = torch.float64, \n",
    "                             device: str = \"cuda\") -> torch.Tensor:\n",
    "    \"\"\"\n",
    "    Returns an (n, d) tensor whose rows X_i satisfy\n",
    "        E[X_i·X_i]       = d\n",
    "        E[X_i·X_j]       = cos_theta * d    (i≠j)\n",
    "        Cov((X_i)_a,(X_j)_b) = 0 for a≠b, ∀ i,j\n",
    "\n",
    "    Construction\n",
    "    ------------\n",
    "    For each coordinate k=1…d draw a *shared* latent g_k ~ N(0,1).\n",
    "    For each token i draw an independent η_{ik} ~ N(0,1).\n",
    "        X_{ik} = √cos_theta · g_k + √(1−cos_theta) · η_{ik}.\n",
    "    Coordinates are independent because g_k and η_{ik} vary with k.\n",
    "    \"\"\"\n",
    "    g   = torch.randn(d,           dtype=dtype, device=device)                      # shared across tokens\n",
    "    eta = torch.randn(n_tokens, d, dtype=dtype, device=device)                      # independent noise\n",
    "    x   = math.sqrt(cos_init) * g + math.sqrt(1. - cos_init) * eta   # broadcast add\n",
    "    return x        # no layer-norm ⇒ coordinate-wise independence preserved\n",
    "\n",
    "\n",
    "@torch.no_grad()\n",
    "def estimate_lambda_a(model,\n",
    "                      d: int = 64,\n",
    "                      n_tokens: int = 256,\n",
    "                      cos_init: float = .99,\n",
    "                      device: str = \"cuda\") -> float:\n",
    "    \"\"\"\n",
    "    Estimate λ_a using *exactly the current weights* of ``model``.\n",
    "\n",
    "    Parameters\n",
    "    ----------\n",
    "    model         : TinyViT or any nn.Module with `.layers` attribute\n",
    "    d             : token dimension (same as model.d)\n",
    "    n_tokens      : number of tokens to probe\n",
    "    cos0          : initial token–token cosine (≈ 0.99 in the paper)\n",
    "    device        : match model's device\n",
    "\n",
    "    Returns\n",
    "    -------\n",
    "    lambda_a (float)\n",
    "    \"\"\"\n",
    "    # build a lightweight float64 *view* of the model\n",
    "    model_fp64 = copy.deepcopy(model).to(dtype=torch.float64, device=device)\n",
    "    model_fp64.eval()\n",
    "    \n",
    "    ####### TO DO: use fewer layers to make the computation stable ########\n",
    "    # --- multi-layer slope ----------------------------------------\n",
    "    lambda_a_lst = []\n",
    "    for layer in model_fp64.layers:\n",
    "        # generate input test tokens for each layer\n",
    "        x0 = sample_correlated_tokens(d=d, n_tokens=n_tokens, cos_init=cos_init, \n",
    "                                  dtype=torch.float64, device=device).unsqueeze(0)\n",
    "        \n",
    "        # pass through the layer\n",
    "        x1 = x0\n",
    "        x1 = layer(x1)\n",
    "        \n",
    "        # compute inner products   (include i=j terms exactly as the authors do)\n",
    "        cos0 = (x0.squeeze() @ x0.squeeze().T)\n",
    "        cos1 = (x1.squeeze() @ x1.squeeze().T)\n",
    "\n",
    "        eye_mask = torch.eye(n_tokens, dtype=torch.bool, device=x0.device)\n",
    "        # compute average inner products\n",
    "        q       = cos0[eye_mask].mean().item()      # ⟨diag(cos0)⟩\n",
    "        q_prime = cos1[eye_mask].mean().item()      # ⟨diag(cos1)⟩\n",
    "        p       = cos0[~eye_mask].mean().item()     # ⟨off-diag(cos0)⟩\n",
    "        p_prime = cos1[~eye_mask].mean().item()     # ⟨off-diag(cos1)⟩\n",
    "    \n",
    "        lambda_a_lst.append(math.log((1.0 - p_prime/q_prime) / (1.0 - p/q)))\n",
    "    return np.mean(lambda_a_lst)\n",
    "\n",
    "def estimate_lambda_g(model, \n",
    "                      d: int = 64, \n",
    "                      n_tokens: int = 256,\n",
    "                      cos_init: float = .99,\n",
    "                      device: str = \"cuda\") -> float:\n",
    "    \n",
    "    # build a lightweight float64 *view* of the model\n",
    "    model_fp64 = copy.deepcopy(model).to(dtype=torch.float64, device=device)\n",
    "    model_fp64.eval()\n",
    "    \n",
    "    x0 = sample_correlated_tokens(d=d, n_tokens=n_tokens, cos_init=cos_init, \n",
    "                                  dtype=torch.float64, device=device).unsqueeze(0)   # (1,n,d)\n",
    "    x0.requires_grad_(True)\n",
    "    \n",
    "    x = x0\n",
    "    for layer in model_fp64.layers:\n",
    "        x = layer(x)\n",
    "    R = torch.randn_like(x)\n",
    "    s = (x*R).sum()\n",
    "    grad = torch.autograd.grad(s, x0)[0]\n",
    "    \n",
    "    num = torch.sum(grad**2)\n",
    "    denom = torch.sum(R**2)\n",
    "    return math.log((num/denom).item()) / len(model.layers)\n"
   ]
  },
  {
   "cell_type": "code",
   "execution_count": 8,
   "id": "b932360f-5356-4325-8029-dcc996292cb4",
   "metadata": {},
   "outputs": [],
   "source": [
    "@torch.no_grad()\n",
    "def evaluate_topk(model, loader, device, k=(1, 5)):\n",
    "    \"\"\"\n",
    "    Returns a dict  {'top1': err1, 'top5': err5, 'loss': avg_ce_loss}\n",
    "    where err1 / err5 are *error* rates (1 − accuracy).\n",
    "    \"\"\"\n",
    "    total   = 0\n",
    "    correct_top1 = 0\n",
    "    correct_top5 = 0\n",
    "    loss_sum = 0.0\n",
    "\n",
    "    model.eval()\n",
    "    for xb, yb in loader:\n",
    "        # the whole dataset has already been loaded on cuda\n",
    "        # xb, yb = xb.to(device, non_blocking=True), yb.to(device, non_blocking=True) \n",
    "        logits = model(xb)\n",
    "\n",
    "        # cross-entropy for avg test loss\n",
    "        loss_sum += F.cross_entropy(logits, yb, reduction='sum').item()\n",
    "\n",
    "        # top-k\n",
    "        maxk = max(k)\n",
    "        _, pred_topk = logits.topk(maxk, dim=1)       # (B, maxk)\n",
    "        pred_topk = pred_topk.t()                     # (maxk, B)\n",
    "        correct_matrix = pred_topk.eq(yb.view(1, -1).expand_as(pred_topk))\n",
    "\n",
    "        correct_top1 += correct_matrix[:1].sum().item()\n",
    "        correct_top5 += correct_matrix[:5].sum().item()\n",
    "        total        += yb.size(0)\n",
    "\n",
    "    top1_err = 1.0 - correct_top1 / total\n",
    "    top5_err = 1.0 - correct_top5 / total\n",
    "    avg_loss = loss_sum / total\n",
    "    return {'top1': top1_err, 'top5': top5_err, 'loss': avg_loss}"
   ]
  },
  {
   "cell_type": "code",
   "execution_count": 9,
   "id": "05146fe3-732f-408f-8975-794f016bd7d6",
   "metadata": {},
   "outputs": [],
   "source": [
    "# ---------------------------------------------------------------------\n",
    "# 5.  Train-and-evaluate routine (15 epochs, Adam, lr 3e-4)\n",
    "# ---------------------------------------------------------------------\n",
    "def train_eval(model, loaders, alpha, sigma_w, epochs=15, \n",
    "               device='cuda', save_dir=\"models\"):\n",
    "    \n",
    "    Path(save_dir).mkdir(parents=True, exist_ok=True)\n",
    "    \n",
    "    train_loader, test_loader = loaders\n",
    "    opt = torch.optim.Adam(model.parameters(), lr=3e-4)\n",
    "\n",
    "    # ----- validation accuracy and loss (initialization) -----\n",
    "    metrics_init = evaluate_topk(model, test_loader, device)\n",
    "\n",
    "    # ----- training -----\n",
    "    print(f\"[σ_w={sigma_w:4.2f}, α={alpha:4.2f}] training start!\", flush=True)\n",
    "    for epoch in tqdm(range(epochs)):\n",
    "        model.train()\n",
    "        for xb, yb in train_loader:\n",
    "            opt.zero_grad()\n",
    "            loss = F.cross_entropy(model(xb), yb)\n",
    "            loss.backward()\n",
    "            opt.step()\n",
    "\n",
    "    # ----- validation accuracy and loss -----\n",
    "    metrics = evaluate_topk(model, test_loader, device)\n",
    "\n",
    "    # ─── checkpoint ─────────────────────────────────────────────────\n",
    "    ckpt_path = (Path(save_dir) /\n",
    "                 f\"alpha_{alpha:.3f}_sigmaw_{sigma_w:.3f}_top5err{metrics['top5']:.3f}.pt\")\n",
    "    torch.save({\n",
    "        \"model_state\": model.state_dict(),\n",
    "        \"alpha\": alpha,\n",
    "        \"sigma_w\": sigma_w,\n",
    "        \"epoch\": epochs,\n",
    "        \"metrics\": metrics,\n",
    "        \"metrics_init\": metrics_init,\n",
    "    }, ckpt_path)\n",
    "    print(f\"    [save] → {ckpt_path}\", flush=True)\n",
    "\n",
    "    return metrics, metrics_init\n"
   ]
  },
  {
   "cell_type": "code",
   "execution_count": 10,
   "id": "ed17a9a5-d046-463d-bc90-2443494bd6b5",
   "metadata": {
    "scrolled": true
   },
   "outputs": [
    {
     "name": "stdout",
     "output_type": "stream",
     "text": [
      "[data] Preparing Food-101 in data …\n",
      "[data] ✓ train   75750 images | test 25250 images  · batch=256 (0 workers)\n",
      "\n",
      "✓ existed data/food101_128px_train.pt\n",
      "✓ existed data/food101_128px_test.pt\n"
     ]
    },
    {
     "name": "stderr",
     "output_type": "stream",
     "text": [
      "/tmp/ipykernel_12282/2230714450.py:6: FutureWarning: You are using `torch.load` with `weights_only=False` (the current default value), which uses the default pickle module implicitly. It is possible to construct malicious pickle data which will execute arbitrary code during unpickling (See https://github.com/pytorch/pytorch/blob/main/SECURITY.md#untrusted-models for more details). In a future release, the default value for `weights_only` will be flipped to `True`. This limits the functions that could be executed during unpickling. Arbitrary objects will no longer be allowed to be loaded via this mode unless they are explicitly allowlisted by the user via `torch.serialization.add_safe_globals`. We recommend you start setting `weights_only=True` for any use case where you don't have full control of the loaded file. Please open an issue on GitHub for any issues related to this experimental feature.\n",
      "  obj = torch.load(cache_file, map_location=device)\n"
     ]
    },
    {
     "name": "stdout",
     "output_type": "stream",
     "text": [
      "[σ_w=0.20, α=0.05] training start!\n"
     ]
    },
    {
     "name": "stderr",
     "output_type": "stream",
     "text": [
      "100%|██████████| 15/15 [00:41<00:00,  2.79s/it]\n"
     ]
    },
    {
     "name": "stdout",
     "output_type": "stream",
     "text": [
      "    [save] → models/alpha_0.050_sigmaw_0.200_top50.594.pt\n",
      "    [λ] λ_a=+3.35064e-04, λ_g=-4.96460e-03, \n",
      "    [test init] test init top1=99.10%, test init top5=95.35%, test init loss=4.624\n",
      "    [test] test top1=83.12%, test top5=59.41%, test loss=3.549\n",
      "[σ_w=0.20, α=0.10] training start!\n"
     ]
    },
    {
     "name": "stderr",
     "output_type": "stream",
     "text": [
      "100%|██████████| 15/15 [00:41<00:00,  2.77s/it]\n"
     ]
    },
    {
     "name": "stdout",
     "output_type": "stream",
     "text": [
      "    [save] → models/alpha_0.097_sigmaw_0.200_top50.548.pt\n",
      "    [λ] λ_a=-1.83169e-02, λ_g=-1.90310e-02, \n",
      "    [test init] test init top1=98.97%, test init top5=94.88%, test init loss=4.628\n",
      "    [test] test top1=79.92%, test top5=54.78%, test loss=3.390\n",
      "[σ_w=0.20, α=0.14] training start!\n"
     ]
    },
    {
     "name": "stderr",
     "output_type": "stream",
     "text": [
      "100%|██████████| 15/15 [00:41<00:00,  2.77s/it]\n"
     ]
    },
    {
     "name": "stdout",
     "output_type": "stream",
     "text": [
      "    [save] → models/alpha_0.145_sigmaw_0.200_top50.541.pt\n",
      "    [λ] λ_a=-2.82404e-02, λ_g=-4.22506e-02, \n",
      "    [test init] test init top1=98.95%, test init top5=94.95%, test init loss=4.642\n",
      "    [test] test top1=80.02%, test top5=54.11%, test loss=3.362\n",
      "[σ_w=0.20, α=0.19] training start!\n"
     ]
    },
    {
     "name": "stderr",
     "output_type": "stream",
     "text": [
      "100%|██████████| 15/15 [00:41<00:00,  2.77s/it]\n"
     ]
    },
    {
     "name": "stdout",
     "output_type": "stream",
     "text": [
      "    [save] → models/alpha_0.192_sigmaw_0.200_top50.532.pt\n",
      "    [λ] λ_a=-4.28362e-02, λ_g=-7.49258e-02, \n",
      "    [test init] test init top1=99.09%, test init top5=94.95%, test init loss=4.657\n",
      "    [test] test top1=79.44%, test top5=53.23%, test loss=3.318\n",
      "[σ_w=0.20, α=0.24] training start!\n"
     ]
    },
    {
     "name": "stderr",
     "output_type": "stream",
     "text": [
      "100%|██████████| 15/15 [00:41<00:00,  2.77s/it]\n"
     ]
    },
    {
     "name": "stdout",
     "output_type": "stream",
     "text": [
      "    [save] → models/alpha_0.239_sigmaw_0.200_top50.526.pt\n",
      "    [λ] λ_a=-5.67582e-02, λ_g=-1.17460e-01, \n",
      "    [test init] test init top1=98.93%, test init top5=95.10%, test init loss=4.666\n",
      "    [test] test top1=78.69%, test top5=52.58%, test loss=3.313\n",
      "[σ_w=0.20, α=0.29] training start!\n"
     ]
    },
    {
     "name": "stderr",
     "output_type": "stream",
     "text": [
      "100%|██████████| 15/15 [00:41<00:00,  2.77s/it]\n"
     ]
    },
    {
     "name": "stdout",
     "output_type": "stream",
     "text": [
      "    [save] → models/alpha_0.287_sigmaw_0.200_top50.526.pt\n",
      "    [λ] λ_a=-9.40442e-02, λ_g=-1.68597e-01, \n",
      "    [test init] test init top1=98.77%, test init top5=94.52%, test init loss=4.691\n",
      "    [test] test top1=78.34%, test top5=52.59%, test loss=3.300\n",
      "[σ_w=0.20, α=0.33] training start!\n"
     ]
    },
    {
     "name": "stderr",
     "output_type": "stream",
     "text": [
      "100%|██████████| 15/15 [00:41<00:00,  2.77s/it]\n"
     ]
    },
    {
     "name": "stdout",
     "output_type": "stream",
     "text": [
      "    [save] → models/alpha_0.334_sigmaw_0.200_top50.522.pt\n",
      "    [λ] λ_a=-1.31527e-01, λ_g=-2.32747e-01, \n",
      "    [test init] test init top1=98.97%, test init top5=95.08%, test init loss=4.700\n",
      "    [test] test top1=78.74%, test top5=52.22%, test loss=3.288\n",
      "[σ_w=0.20, α=0.38] training start!\n"
     ]
    },
    {
     "name": "stderr",
     "output_type": "stream",
     "text": [
      "100%|██████████| 15/15 [00:41<00:00,  2.77s/it]\n"
     ]
    },
    {
     "name": "stdout",
     "output_type": "stream",
     "text": [
      "    [save] → models/alpha_0.382_sigmaw_0.200_top50.528.pt\n",
      "    [λ] λ_a=-1.66883e-01, λ_g=-2.92721e-01, \n",
      "    [test init] test init top1=99.20%, test init top5=95.58%, test init loss=4.687\n",
      "    [test] test top1=79.00%, test top5=52.84%, test loss=3.317\n",
      "[σ_w=0.20, α=0.43] training start!\n"
     ]
    },
    {
     "name": "stderr",
     "output_type": "stream",
     "text": [
      "100%|██████████| 15/15 [00:41<00:00,  2.77s/it]\n"
     ]
    },
    {
     "name": "stdout",
     "output_type": "stream",
     "text": [
      "    [save] → models/alpha_0.429_sigmaw_0.200_top50.549.pt\n",
      "    [λ] λ_a=-2.16790e-01, λ_g=-3.60501e-01, \n",
      "    [test init] test init top1=99.05%, test init top5=95.16%, test init loss=4.668\n",
      "    [test] test top1=80.43%, test top5=54.90%, test loss=3.385\n",
      "[σ_w=0.20, α=0.48] training start!\n"
     ]
    },
    {
     "name": "stderr",
     "output_type": "stream",
     "text": [
      "100%|██████████| 15/15 [00:41<00:00,  2.77s/it]\n"
     ]
    },
    {
     "name": "stdout",
     "output_type": "stream",
     "text": [
      "    [save] → models/alpha_0.476_sigmaw_0.200_top50.540.pt\n",
      "    [λ] λ_a=-2.99024e-01, λ_g=-3.21126e-01, \n",
      "    [test init] test init top1=99.22%, test init top5=95.48%, test init loss=4.672\n",
      "    [test] test top1=80.02%, test top5=54.02%, test loss=3.357\n",
      "[σ_w=0.20, α=0.52] training start!\n"
     ]
    },
    {
     "name": "stderr",
     "output_type": "stream",
     "text": [
      "100%|██████████| 15/15 [00:41<00:00,  2.77s/it]\n"
     ]
    },
    {
     "name": "stdout",
     "output_type": "stream",
     "text": [
      "    [save] → models/alpha_0.524_sigmaw_0.200_top50.551.pt\n",
      "    [λ] λ_a=-2.83633e-01, λ_g=-3.82459e-01, \n",
      "    [test init] test init top1=99.12%, test init top5=94.92%, test init loss=4.685\n",
      "    [test] test top1=80.44%, test top5=55.12%, test loss=3.392\n",
      "[σ_w=0.20, α=0.57] training start!\n"
     ]
    },
    {
     "name": "stderr",
     "output_type": "stream",
     "text": [
      "100%|██████████| 15/15 [00:41<00:00,  2.77s/it]\n"
     ]
    },
    {
     "name": "stdout",
     "output_type": "stream",
     "text": [
      "    [save] → models/alpha_0.571_sigmaw_0.200_top50.564.pt\n",
      "    [λ] λ_a=-3.90297e-01, λ_g=-4.45110e-01, \n",
      "    [test init] test init top1=98.88%, test init top5=94.59%, test init loss=4.681\n",
      "    [test] test top1=81.82%, test top5=56.39%, test loss=3.447\n",
      "[σ_w=0.20, α=0.62] training start!\n"
     ]
    },
    {
     "name": "stderr",
     "output_type": "stream",
     "text": [
      "100%|██████████| 15/15 [00:41<00:00,  2.77s/it]\n"
     ]
    },
    {
     "name": "stdout",
     "output_type": "stream",
     "text": [
      "    [save] → models/alpha_0.618_sigmaw_0.200_top50.582.pt\n",
      "    [λ] λ_a=-5.32074e-01, λ_g=-3.73866e-01, \n",
      "    [test init] test init top1=99.04%, test init top5=95.06%, test init loss=4.681\n",
      "    [test] test top1=82.36%, test top5=58.20%, test loss=3.516\n",
      "[σ_w=0.20, α=0.67] training start!\n"
     ]
    },
    {
     "name": "stderr",
     "output_type": "stream",
     "text": [
      "100%|██████████| 15/15 [00:41<00:00,  2.77s/it]\n"
     ]
    },
    {
     "name": "stdout",
     "output_type": "stream",
     "text": [
      "    [save] → models/alpha_0.666_sigmaw_0.200_top50.597.pt\n",
      "    [λ] λ_a=-5.87913e-01, λ_g=-5.20920e-01, \n",
      "    [test init] test init top1=98.88%, test init top5=94.54%, test init loss=4.678\n",
      "    [test] test top1=83.54%, test top5=59.74%, test loss=3.563\n",
      "[σ_w=0.20, α=0.71] training start!\n"
     ]
    },
    {
     "name": "stderr",
     "output_type": "stream",
     "text": [
      "100%|██████████| 15/15 [00:41<00:00,  2.77s/it]\n"
     ]
    },
    {
     "name": "stdout",
     "output_type": "stream",
     "text": [
      "    [save] → models/alpha_0.713_sigmaw_0.200_top50.606.pt\n",
      "    [λ] λ_a=-7.45568e-01, λ_g=-4.00555e-01, \n",
      "    [test init] test init top1=99.12%, test init top5=95.56%, test init loss=4.682\n",
      "    [test] test top1=84.02%, test top5=60.55%, test loss=3.590\n",
      "[σ_w=0.20, α=0.76] training start!\n"
     ]
    },
    {
     "name": "stderr",
     "output_type": "stream",
     "text": [
      "100%|██████████| 15/15 [00:41<00:00,  2.77s/it]\n"
     ]
    },
    {
     "name": "stdout",
     "output_type": "stream",
     "text": [
      "    [save] → models/alpha_0.761_sigmaw_0.200_top50.617.pt\n",
      "    [λ] λ_a=-8.27668e-01, λ_g=-4.39661e-01, \n",
      "    [test init] test init top1=99.03%, test init top5=95.17%, test init loss=4.663\n",
      "    [test] test top1=84.97%, test top5=61.73%, test loss=3.651\n",
      "[σ_w=0.20, α=0.81] training start!\n"
     ]
    },
    {
     "name": "stderr",
     "output_type": "stream",
     "text": [
      "100%|██████████| 15/15 [00:41<00:00,  2.76s/it]\n"
     ]
    },
    {
     "name": "stdout",
     "output_type": "stream",
     "text": [
      "    [save] → models/alpha_0.808_sigmaw_0.200_top50.636.pt\n",
      "    [λ] λ_a=-1.06581e+00, λ_g=-2.90457e-01, \n",
      "    [test init] test init top1=99.24%, test init top5=95.24%, test init loss=4.680\n",
      "    [test] test top1=86.23%, test top5=63.57%, test loss=3.702\n",
      "[σ_w=0.20, α=0.86] training start!\n"
     ]
    },
    {
     "name": "stderr",
     "output_type": "stream",
     "text": [
      "100%|██████████| 15/15 [00:41<00:00,  2.77s/it]\n"
     ]
    },
    {
     "name": "stdout",
     "output_type": "stream",
     "text": [
      "    [save] → models/alpha_0.855_sigmaw_0.200_top50.644.pt\n",
      "    [λ] λ_a=-1.24462e+00, λ_g=-4.44750e-01, \n",
      "    [test init] test init top1=99.01%, test init top5=94.50%, test init loss=4.653\n",
      "    [test] test top1=86.32%, test top5=64.41%, test loss=3.715\n",
      "[σ_w=0.20, α=0.90] training start!\n"
     ]
    },
    {
     "name": "stderr",
     "output_type": "stream",
     "text": [
      "100%|██████████| 15/15 [00:41<00:00,  2.77s/it]\n"
     ]
    },
    {
     "name": "stdout",
     "output_type": "stream",
     "text": [
      "    [save] → models/alpha_0.903_sigmaw_0.200_top50.675.pt\n",
      "    [λ] λ_a=-1.78261e+00, λ_g=-5.61528e-01, \n",
      "    [test init] test init top1=99.10%, test init top5=94.97%, test init loss=4.638\n",
      "    [test] test top1=88.37%, test top5=67.49%, test loss=3.821\n",
      "[σ_w=0.20, α=0.95] training start!\n"
     ]
    },
    {
     "name": "stderr",
     "output_type": "stream",
     "text": [
      "100%|██████████| 15/15 [00:41<00:00,  2.77s/it]\n"
     ]
    },
    {
     "name": "stdout",
     "output_type": "stream",
     "text": [
      "    [save] → models/alpha_0.950_sigmaw_0.200_top50.787.pt\n",
      "    [λ] λ_a=-2.43471e+00, λ_g=-4.72816e-01, \n",
      "    [test init] test init top1=98.87%, test init top5=95.12%, test init loss=4.628\n",
      "    [test] test top1=93.64%, test top5=78.66%, test loss=4.192\n",
      "[σ_w=0.40, α=0.05] training start!\n"
     ]
    },
    {
     "name": "stderr",
     "output_type": "stream",
     "text": [
      "100%|██████████| 15/15 [00:41<00:00,  2.77s/it]\n"
     ]
    },
    {
     "name": "stdout",
     "output_type": "stream",
     "text": [
      "    [save] → models/alpha_0.050_sigmaw_0.400_top50.606.pt\n",
      "    [λ] λ_a=+1.47864e-03, λ_g=-4.94961e-03, \n",
      "    [test init] test init top1=99.03%, test init top5=95.27%, test init loss=4.620\n",
      "    [test] test top1=83.83%, test top5=60.63%, test loss=3.576\n",
      "[σ_w=0.40, α=0.10] training start!\n"
     ]
    },
    {
     "name": "stderr",
     "output_type": "stream",
     "text": [
      "100%|██████████| 15/15 [00:41<00:00,  2.77s/it]\n"
     ]
    },
    {
     "name": "stdout",
     "output_type": "stream",
     "text": [
      "    [save] → models/alpha_0.097_sigmaw_0.400_top50.554.pt\n",
      "    [λ] λ_a=-1.24339e-02, λ_g=-1.89954e-02, \n",
      "    [test init] test init top1=99.12%, test init top5=95.22%, test init loss=4.626\n",
      "    [test] test top1=80.47%, test top5=55.44%, test loss=3.406\n",
      "[σ_w=0.40, α=0.14] training start!\n"
     ]
    },
    {
     "name": "stderr",
     "output_type": "stream",
     "text": [
      "100%|██████████| 15/15 [00:41<00:00,  2.77s/it]\n"
     ]
    },
    {
     "name": "stdout",
     "output_type": "stream",
     "text": [
      "    [save] → models/alpha_0.145_sigmaw_0.400_top50.523.pt\n",
      "    [λ] λ_a=-1.63084e-02, λ_g=-4.21890e-02, \n",
      "    [test init] test init top1=99.03%, test init top5=95.11%, test init loss=4.646\n",
      "    [test] test top1=78.65%, test top5=52.31%, test loss=3.286\n",
      "[σ_w=0.40, α=0.19] training start!\n"
     ]
    },
    {
     "name": "stderr",
     "output_type": "stream",
     "text": [
      "100%|██████████| 15/15 [00:41<00:00,  2.77s/it]\n"
     ]
    },
    {
     "name": "stdout",
     "output_type": "stream",
     "text": [
      "    [save] → models/alpha_0.192_sigmaw_0.400_top50.512.pt\n",
      "    [λ] λ_a=+2.85944e-03, λ_g=-7.48512e-02, \n",
      "    [test init] test init top1=98.85%, test init top5=94.87%, test init loss=4.647\n",
      "    [test] test top1=77.60%, test top5=51.15%, test loss=3.234\n",
      "[σ_w=0.40, α=0.24] training start!\n"
     ]
    },
    {
     "name": "stderr",
     "output_type": "stream",
     "text": [
      "100%|██████████| 15/15 [00:41<00:00,  2.77s/it]\n"
     ]
    },
    {
     "name": "stdout",
     "output_type": "stream",
     "text": [
      "    [save] → models/alpha_0.239_sigmaw_0.400_top50.515.pt\n",
      "    [λ] λ_a=-6.21846e-02, λ_g=-1.17273e-01, \n",
      "    [test init] test init top1=99.05%, test init top5=94.99%, test init loss=4.676\n",
      "    [test] test top1=77.90%, test top5=51.52%, test loss=3.253\n",
      "[σ_w=0.40, α=0.29] training start!\n"
     ]
    },
    {
     "name": "stderr",
     "output_type": "stream",
     "text": [
      "100%|██████████| 15/15 [00:41<00:00,  2.77s/it]\n"
     ]
    },
    {
     "name": "stdout",
     "output_type": "stream",
     "text": [
      "    [save] → models/alpha_0.287_sigmaw_0.400_top50.516.pt\n",
      "    [λ] λ_a=-1.18236e-01, λ_g=-1.69726e-01, \n",
      "    [test init] test init top1=99.19%, test init top5=95.25%, test init loss=4.704\n",
      "    [test] test top1=78.02%, test top5=51.61%, test loss=3.260\n",
      "[σ_w=0.40, α=0.33] training start!\n"
     ]
    },
    {
     "name": "stderr",
     "output_type": "stream",
     "text": [
      "100%|██████████| 15/15 [00:41<00:00,  2.77s/it]\n"
     ]
    },
    {
     "name": "stdout",
     "output_type": "stream",
     "text": [
      "    [save] → models/alpha_0.334_sigmaw_0.400_top50.520.pt\n",
      "    [λ] λ_a=-1.25375e-01, λ_g=-2.32177e-01, \n",
      "    [test init] test init top1=99.12%, test init top5=95.41%, test init loss=4.696\n",
      "    [test] test top1=78.19%, test top5=52.04%, test loss=3.280\n",
      "[σ_w=0.40, α=0.38] training start!\n"
     ]
    },
    {
     "name": "stderr",
     "output_type": "stream",
     "text": [
      "100%|██████████| 15/15 [00:41<00:00,  2.77s/it]\n"
     ]
    },
    {
     "name": "stdout",
     "output_type": "stream",
     "text": [
      "    [save] → models/alpha_0.382_sigmaw_0.400_top50.520.pt\n",
      "    [λ] λ_a=-1.05786e-01, λ_g=-2.94910e-01, \n",
      "    [test init] test init top1=99.06%, test init top5=95.17%, test init loss=4.689\n",
      "    [test] test top1=78.46%, test top5=52.02%, test loss=3.286\n",
      "[σ_w=0.40, α=0.43] training start!\n"
     ]
    },
    {
     "name": "stderr",
     "output_type": "stream",
     "text": [
      "100%|██████████| 15/15 [00:41<00:00,  2.77s/it]\n"
     ]
    },
    {
     "name": "stdout",
     "output_type": "stream",
     "text": [
      "    [save] → models/alpha_0.429_sigmaw_0.400_top50.529.pt\n",
      "    [λ] λ_a=-2.19096e-01, λ_g=-3.78644e-01, \n",
      "    [test init] test init top1=99.03%, test init top5=95.19%, test init loss=4.697\n",
      "    [test] test top1=78.94%, test top5=52.90%, test loss=3.309\n",
      "[σ_w=0.40, α=0.48] training start!\n"
     ]
    },
    {
     "name": "stderr",
     "output_type": "stream",
     "text": [
      "100%|██████████| 15/15 [00:41<00:00,  2.77s/it]\n"
     ]
    },
    {
     "name": "stdout",
     "output_type": "stream",
     "text": [
      "    [save] → models/alpha_0.476_sigmaw_0.400_top50.550.pt\n",
      "    [λ] λ_a=-2.06643e-01, λ_g=-4.26005e-01, \n",
      "    [test init] test init top1=98.72%, test init top5=94.43%, test init loss=4.681\n",
      "    [test] test top1=80.35%, test top5=55.03%, test loss=3.384\n",
      "[σ_w=0.40, α=0.52] training start!\n"
     ]
    },
    {
     "name": "stderr",
     "output_type": "stream",
     "text": [
      "100%|██████████| 15/15 [00:41<00:00,  2.77s/it]\n"
     ]
    },
    {
     "name": "stdout",
     "output_type": "stream",
     "text": [
      "    [save] → models/alpha_0.524_sigmaw_0.400_top50.545.pt\n",
      "    [λ] λ_a=-3.05468e-01, λ_g=-3.98214e-01, \n",
      "    [test init] test init top1=99.10%, test init top5=95.08%, test init loss=4.690\n",
      "    [test] test top1=80.18%, test top5=54.54%, test loss=3.389\n",
      "[σ_w=0.40, α=0.57] training start!\n"
     ]
    },
    {
     "name": "stderr",
     "output_type": "stream",
     "text": [
      "100%|██████████| 15/15 [00:41<00:00,  2.77s/it]\n"
     ]
    },
    {
     "name": "stdout",
     "output_type": "stream",
     "text": [
      "    [save] → models/alpha_0.571_sigmaw_0.400_top50.567.pt\n",
      "    [λ] λ_a=-3.85124e-01, λ_g=-3.27967e-01, \n",
      "    [test init] test init top1=99.04%, test init top5=95.12%, test init loss=4.689\n",
      "    [test] test top1=81.81%, test top5=56.72%, test loss=3.468\n",
      "[σ_w=0.40, α=0.62] training start!\n"
     ]
    },
    {
     "name": "stderr",
     "output_type": "stream",
     "text": [
      "100%|██████████| 15/15 [00:41<00:00,  2.77s/it]\n"
     ]
    },
    {
     "name": "stdout",
     "output_type": "stream",
     "text": [
      "    [save] → models/alpha_0.618_sigmaw_0.400_top50.576.pt\n",
      "    [λ] λ_a=-5.64275e-01, λ_g=-3.55767e-01, \n",
      "    [test init] test init top1=98.96%, test init top5=95.10%, test init loss=4.657\n",
      "    [test] test top1=81.96%, test top5=57.61%, test loss=3.480\n",
      "[σ_w=0.40, α=0.67] training start!\n"
     ]
    },
    {
     "name": "stderr",
     "output_type": "stream",
     "text": [
      "100%|██████████| 15/15 [00:41<00:00,  2.77s/it]\n"
     ]
    },
    {
     "name": "stdout",
     "output_type": "stream",
     "text": [
      "    [save] → models/alpha_0.666_sigmaw_0.400_top50.589.pt\n",
      "    [λ] λ_a=-4.91558e-01, λ_g=-4.35323e-01, \n",
      "    [test init] test init top1=98.78%, test init top5=94.61%, test init loss=4.655\n",
      "    [test] test top1=83.02%, test top5=58.91%, test loss=3.534\n",
      "[σ_w=0.40, α=0.71] training start!\n"
     ]
    },
    {
     "name": "stderr",
     "output_type": "stream",
     "text": [
      "100%|██████████| 15/15 [00:41<00:00,  2.77s/it]\n"
     ]
    },
    {
     "name": "stdout",
     "output_type": "stream",
     "text": [
      "    [save] → models/alpha_0.713_sigmaw_0.400_top50.602.pt\n",
      "    [λ] λ_a=-7.07571e-01, λ_g=-4.39743e-01, \n",
      "    [test init] test init top1=99.02%, test init top5=95.13%, test init loss=4.672\n",
      "    [test] test top1=84.34%, test top5=60.22%, test loss=3.592\n",
      "[σ_w=0.40, α=0.76] training start!\n"
     ]
    },
    {
     "name": "stderr",
     "output_type": "stream",
     "text": [
      "100%|██████████| 15/15 [00:41<00:00,  2.77s/it]\n"
     ]
    },
    {
     "name": "stdout",
     "output_type": "stream",
     "text": [
      "    [save] → models/alpha_0.761_sigmaw_0.400_top50.656.pt\n",
      "    [λ] λ_a=-8.56376e-01, λ_g=-4.29423e-01, \n",
      "    [test init] test init top1=98.96%, test init top5=94.94%, test init loss=4.660\n",
      "    [test] test top1=87.33%, test top5=65.63%, test loss=3.755\n",
      "[σ_w=0.40, α=0.81] training start!\n"
     ]
    },
    {
     "name": "stderr",
     "output_type": "stream",
     "text": [
      "100%|██████████| 15/15 [00:41<00:00,  2.77s/it]\n"
     ]
    },
    {
     "name": "stdout",
     "output_type": "stream",
     "text": [
      "    [save] → models/alpha_0.808_sigmaw_0.400_top50.643.pt\n",
      "    [λ] λ_a=-1.04085e+00, λ_g=-5.34046e-01, \n",
      "    [test init] test init top1=99.14%, test init top5=94.41%, test init loss=4.656\n",
      "    [test] test top1=86.55%, test top5=64.30%, test loss=3.722\n",
      "[σ_w=0.40, α=0.86] training start!\n"
     ]
    },
    {
     "name": "stderr",
     "output_type": "stream",
     "text": [
      "100%|██████████| 15/15 [00:41<00:00,  2.77s/it]\n"
     ]
    },
    {
     "name": "stdout",
     "output_type": "stream",
     "text": [
      "    [save] → models/alpha_0.855_sigmaw_0.400_top50.650.pt\n",
      "    [λ] λ_a=-1.42916e+00, λ_g=-5.05240e-01, \n",
      "    [test init] test init top1=98.81%, test init top5=94.12%, test init loss=4.651\n",
      "    [test] test top1=86.95%, test top5=65.01%, test loss=3.742\n",
      "[σ_w=0.40, α=0.90] training start!\n"
     ]
    },
    {
     "name": "stderr",
     "output_type": "stream",
     "text": [
      "100%|██████████| 15/15 [00:41<00:00,  2.77s/it]\n"
     ]
    },
    {
     "name": "stdout",
     "output_type": "stream",
     "text": [
      "    [save] → models/alpha_0.903_sigmaw_0.400_top50.692.pt\n",
      "    [λ] λ_a=-1.62801e+00, λ_g=-3.85773e-01, \n",
      "    [test init] test init top1=98.80%, test init top5=95.04%, test init loss=4.644\n",
      "    [test] test top1=89.50%, test top5=69.23%, test loss=3.877\n",
      "[σ_w=0.40, α=0.95] training start!\n"
     ]
    },
    {
     "name": "stderr",
     "output_type": "stream",
     "text": [
      "100%|██████████| 15/15 [00:41<00:00,  2.77s/it]\n"
     ]
    },
    {
     "name": "stdout",
     "output_type": "stream",
     "text": [
      "    [save] → models/alpha_0.950_sigmaw_0.400_top50.707.pt\n",
      "    [λ] λ_a=-2.32207e+00, λ_g=-5.15301e-01, \n",
      "    [test init] test init top1=99.02%, test init top5=94.93%, test init loss=4.631\n",
      "    [test] test top1=90.24%, test top5=70.72%, test loss=3.927\n",
      "[σ_w=0.60, α=0.05] training start!\n"
     ]
    },
    {
     "name": "stderr",
     "output_type": "stream",
     "text": [
      "100%|██████████| 15/15 [00:41<00:00,  2.78s/it]\n"
     ]
    },
    {
     "name": "stdout",
     "output_type": "stream",
     "text": [
      "    [save] → models/alpha_0.050_sigmaw_0.600_top50.575.pt\n",
      "    [λ] λ_a=-3.92394e-03, λ_g=-4.96135e-03, \n",
      "    [test init] test init top1=99.01%, test init top5=94.83%, test init loss=4.623\n",
      "    [test] test top1=82.10%, test top5=57.51%, test loss=3.487\n",
      "[σ_w=0.60, α=0.10] training start!\n"
     ]
    },
    {
     "name": "stderr",
     "output_type": "stream",
     "text": [
      "100%|██████████| 15/15 [00:41<00:00,  2.77s/it]\n"
     ]
    },
    {
     "name": "stdout",
     "output_type": "stream",
     "text": [
      "    [save] → models/alpha_0.097_sigmaw_0.600_top50.539.pt\n",
      "    [λ] λ_a=-1.35833e-02, λ_g=-1.88513e-02, \n",
      "    [test init] test init top1=98.88%, test init top5=94.86%, test init loss=4.622\n",
      "    [test] test top1=80.25%, test top5=53.94%, test loss=3.363\n",
      "[σ_w=0.60, α=0.14] training start!\n"
     ]
    },
    {
     "name": "stderr",
     "output_type": "stream",
     "text": [
      "100%|██████████| 15/15 [00:41<00:00,  2.77s/it]\n"
     ]
    },
    {
     "name": "stdout",
     "output_type": "stream",
     "text": [
      "    [save] → models/alpha_0.145_sigmaw_0.600_top50.517.pt\n",
      "    [λ] λ_a=-2.92156e-02, λ_g=-4.14649e-02, \n",
      "    [test init] test init top1=99.06%, test init top5=95.09%, test init loss=4.642\n",
      "    [test] test top1=77.74%, test top5=51.69%, test loss=3.262\n",
      "[σ_w=0.60, α=0.19] training start!\n"
     ]
    },
    {
     "name": "stderr",
     "output_type": "stream",
     "text": [
      "100%|██████████| 15/15 [00:41<00:00,  2.77s/it]\n"
     ]
    },
    {
     "name": "stdout",
     "output_type": "stream",
     "text": [
      "    [save] → models/alpha_0.192_sigmaw_0.600_top50.501.pt\n",
      "    [λ] λ_a=-4.83524e-02, λ_g=-7.29779e-02, \n",
      "    [test init] test init top1=99.05%, test init top5=95.38%, test init loss=4.680\n",
      "    [test] test top1=76.78%, test top5=50.10%, test loss=3.206\n",
      "[σ_w=0.60, α=0.24] training start!\n"
     ]
    },
    {
     "name": "stderr",
     "output_type": "stream",
     "text": [
      "100%|██████████| 15/15 [00:41<00:00,  2.77s/it]\n"
     ]
    },
    {
     "name": "stdout",
     "output_type": "stream",
     "text": [
      "    [save] → models/alpha_0.239_sigmaw_0.600_top50.506.pt\n",
      "    [λ] λ_a=-5.09551e-02, λ_g=-1.15269e-01, \n",
      "    [test init] test init top1=98.93%, test init top5=95.50%, test init loss=4.680\n",
      "    [test] test top1=77.24%, test top5=50.61%, test loss=3.225\n",
      "[σ_w=0.60, α=0.29] training start!\n"
     ]
    },
    {
     "name": "stderr",
     "output_type": "stream",
     "text": [
      "100%|██████████| 15/15 [00:41<00:00,  2.77s/it]\n"
     ]
    },
    {
     "name": "stdout",
     "output_type": "stream",
     "text": [
      "    [save] → models/alpha_0.287_sigmaw_0.600_top50.523.pt\n",
      "    [λ] λ_a=-1.01136e-01, λ_g=-1.67753e-01, \n",
      "    [test init] test init top1=98.97%, test init top5=95.31%, test init loss=4.680\n",
      "    [test] test top1=78.08%, test top5=52.28%, test loss=3.276\n",
      "[σ_w=0.60, α=0.33] training start!\n"
     ]
    },
    {
     "name": "stderr",
     "output_type": "stream",
     "text": [
      "100%|██████████| 15/15 [00:41<00:00,  2.77s/it]\n"
     ]
    },
    {
     "name": "stdout",
     "output_type": "stream",
     "text": [
      "    [save] → models/alpha_0.334_sigmaw_0.600_top50.513.pt\n",
      "    [λ] λ_a=-1.20630e-01, λ_g=-2.30584e-01, \n",
      "    [test init] test init top1=98.53%, test init top5=94.24%, test init loss=4.697\n",
      "    [test] test top1=78.47%, test top5=51.31%, test loss=3.271\n",
      "[σ_w=0.60, α=0.38] training start!\n"
     ]
    },
    {
     "name": "stderr",
     "output_type": "stream",
     "text": [
      "100%|██████████| 15/15 [00:41<00:00,  2.78s/it]\n"
     ]
    },
    {
     "name": "stdout",
     "output_type": "stream",
     "text": [
      "    [save] → models/alpha_0.382_sigmaw_0.600_top50.532.pt\n",
      "    [λ] λ_a=-1.28005e-01, λ_g=-2.96606e-01, \n",
      "    [test init] test init top1=99.05%, test init top5=95.70%, test init loss=4.683\n",
      "    [test] test top1=79.07%, test top5=53.22%, test loss=3.326\n",
      "[σ_w=0.60, α=0.43] training start!\n"
     ]
    },
    {
     "name": "stderr",
     "output_type": "stream",
     "text": [
      "100%|██████████| 15/15 [00:41<00:00,  2.77s/it]\n"
     ]
    },
    {
     "name": "stdout",
     "output_type": "stream",
     "text": [
      "    [save] → models/alpha_0.429_sigmaw_0.600_top50.525.pt\n",
      "    [λ] λ_a=-2.19897e-01, λ_g=-3.41525e-01, \n",
      "    [test init] test init top1=98.95%, test init top5=95.16%, test init loss=4.713\n",
      "    [test] test top1=78.77%, test top5=52.46%, test loss=3.293\n",
      "[σ_w=0.60, α=0.48] training start!\n"
     ]
    },
    {
     "name": "stderr",
     "output_type": "stream",
     "text": [
      "100%|██████████| 15/15 [00:41<00:00,  2.77s/it]\n"
     ]
    },
    {
     "name": "stdout",
     "output_type": "stream",
     "text": [
      "    [save] → models/alpha_0.476_sigmaw_0.600_top50.530.pt\n",
      "    [λ] λ_a=-2.99446e-01, λ_g=-3.68152e-01, \n",
      "    [test init] test init top1=98.84%, test init top5=94.93%, test init loss=4.703\n",
      "    [test] test top1=79.16%, test top5=53.04%, test loss=3.326\n",
      "[σ_w=0.60, α=0.52] training start!\n"
     ]
    },
    {
     "name": "stderr",
     "output_type": "stream",
     "text": [
      "100%|██████████| 15/15 [00:41<00:00,  2.77s/it]\n"
     ]
    },
    {
     "name": "stdout",
     "output_type": "stream",
     "text": [
      "    [save] → models/alpha_0.524_sigmaw_0.600_top50.548.pt\n",
      "    [λ] λ_a=-3.16550e-01, λ_g=-4.80370e-01, \n",
      "    [test init] test init top1=98.86%, test init top5=94.42%, test init loss=4.686\n",
      "    [test] test top1=80.48%, test top5=54.77%, test loss=3.392\n",
      "[σ_w=0.60, α=0.57] training start!\n"
     ]
    },
    {
     "name": "stderr",
     "output_type": "stream",
     "text": [
      "100%|██████████| 15/15 [00:41<00:00,  2.77s/it]\n"
     ]
    },
    {
     "name": "stdout",
     "output_type": "stream",
     "text": [
      "    [save] → models/alpha_0.571_sigmaw_0.600_top50.558.pt\n",
      "    [λ] λ_a=-4.52760e-01, λ_g=-3.34811e-01, \n",
      "    [test init] test init top1=99.17%, test init top5=95.09%, test init loss=4.674\n",
      "    [test] test top1=81.17%, test top5=55.81%, test loss=3.429\n",
      "[σ_w=0.60, α=0.62] training start!\n"
     ]
    },
    {
     "name": "stderr",
     "output_type": "stream",
     "text": [
      "100%|██████████| 15/15 [00:41<00:00,  2.77s/it]\n"
     ]
    },
    {
     "name": "stdout",
     "output_type": "stream",
     "text": [
      "    [save] → models/alpha_0.618_sigmaw_0.600_top50.583.pt\n",
      "    [λ] λ_a=-5.07561e-01, λ_g=-3.74969e-01, \n",
      "    [test init] test init top1=98.82%, test init top5=95.05%, test init loss=4.683\n",
      "    [test] test top1=83.11%, test top5=58.28%, test loss=3.509\n",
      "[σ_w=0.60, α=0.67] training start!\n"
     ]
    },
    {
     "name": "stderr",
     "output_type": "stream",
     "text": [
      "100%|██████████| 15/15 [00:41<00:00,  2.77s/it]\n"
     ]
    },
    {
     "name": "stdout",
     "output_type": "stream",
     "text": [
      "    [save] → models/alpha_0.666_sigmaw_0.600_top50.585.pt\n",
      "    [λ] λ_a=-5.31547e-01, λ_g=-4.07624e-01, \n",
      "    [test init] test init top1=98.95%, test init top5=94.80%, test init loss=4.660\n",
      "    [test] test top1=82.99%, test top5=58.49%, test loss=3.519\n",
      "[σ_w=0.60, α=0.71] training start!\n"
     ]
    },
    {
     "name": "stderr",
     "output_type": "stream",
     "text": [
      "100%|██████████| 15/15 [00:41<00:00,  2.77s/it]\n"
     ]
    },
    {
     "name": "stdout",
     "output_type": "stream",
     "text": [
      "    [save] → models/alpha_0.713_sigmaw_0.600_top50.620.pt\n",
      "    [λ] λ_a=-6.97683e-01, λ_g=-4.70399e-01, \n",
      "    [test init] test init top1=99.02%, test init top5=95.22%, test init loss=4.664\n",
      "    [test] test top1=85.21%, test top5=61.96%, test loss=3.641\n",
      "[σ_w=0.60, α=0.76] training start!\n"
     ]
    },
    {
     "name": "stderr",
     "output_type": "stream",
     "text": [
      "100%|██████████| 15/15 [00:41<00:00,  2.77s/it]\n"
     ]
    },
    {
     "name": "stdout",
     "output_type": "stream",
     "text": [
      "    [save] → models/alpha_0.761_sigmaw_0.600_top50.624.pt\n",
      "    [λ] λ_a=-9.05509e-01, λ_g=-4.51215e-01, \n",
      "    [test init] test init top1=98.98%, test init top5=94.43%, test init loss=4.695\n",
      "    [test] test top1=85.52%, test top5=62.39%, test loss=3.654\n",
      "[σ_w=0.60, α=0.81] training start!\n"
     ]
    },
    {
     "name": "stderr",
     "output_type": "stream",
     "text": [
      "100%|██████████| 15/15 [00:41<00:00,  2.77s/it]\n"
     ]
    },
    {
     "name": "stdout",
     "output_type": "stream",
     "text": [
      "    [save] → models/alpha_0.808_sigmaw_0.600_top50.718.pt\n",
      "    [λ] λ_a=-1.05563e+00, λ_g=-3.34932e-01, \n",
      "    [test init] test init top1=98.95%, test init top5=95.14%, test init loss=4.659\n",
      "    [test] test top1=90.41%, test top5=71.76%, test loss=3.967\n",
      "[σ_w=0.60, α=0.86] training start!\n"
     ]
    },
    {
     "name": "stderr",
     "output_type": "stream",
     "text": [
      "100%|██████████| 15/15 [00:41<00:00,  2.77s/it]\n"
     ]
    },
    {
     "name": "stdout",
     "output_type": "stream",
     "text": [
      "    [save] → models/alpha_0.855_sigmaw_0.600_top50.667.pt\n",
      "    [λ] λ_a=-1.38739e+00, λ_g=-4.14450e-01, \n",
      "    [test init] test init top1=98.91%, test init top5=95.06%, test init loss=4.655\n",
      "    [test] test top1=87.81%, test top5=66.67%, test loss=3.770\n",
      "[σ_w=0.60, α=0.90] training start!\n"
     ]
    },
    {
     "name": "stderr",
     "output_type": "stream",
     "text": [
      "100%|██████████| 15/15 [00:41<00:00,  2.77s/it]\n"
     ]
    },
    {
     "name": "stdout",
     "output_type": "stream",
     "text": [
      "    [save] → models/alpha_0.903_sigmaw_0.600_top50.844.pt\n",
      "    [λ] λ_a=-1.60279e+00, λ_g=-4.57662e-01, \n",
      "    [test init] test init top1=99.06%, test init top5=94.49%, test init loss=4.647\n",
      "    [test] test top1=95.75%, test top5=84.39%, test loss=4.401\n",
      "[σ_w=0.60, α=0.95] training start!\n"
     ]
    },
    {
     "name": "stderr",
     "output_type": "stream",
     "text": [
      "100%|██████████| 15/15 [00:41<00:00,  2.77s/it]\n"
     ]
    },
    {
     "name": "stdout",
     "output_type": "stream",
     "text": [
      "    [save] → models/alpha_0.950_sigmaw_0.600_top50.924.pt\n",
      "    [λ] λ_a=-2.31252e+00, λ_g=-4.65845e-01, \n",
      "    [test init] test init top1=98.91%, test init top5=94.88%, test init loss=4.636\n",
      "    [test] test top1=98.41%, test top5=92.37%, test loss=4.571\n",
      "[σ_w=0.80, α=0.05] training start!\n"
     ]
    },
    {
     "name": "stderr",
     "output_type": "stream",
     "text": [
      "100%|██████████| 15/15 [00:41<00:00,  2.77s/it]\n"
     ]
    },
    {
     "name": "stdout",
     "output_type": "stream",
     "text": [
      "    [save] → models/alpha_0.050_sigmaw_0.800_top50.574.pt\n",
      "    [λ] λ_a=-4.14978e-03, λ_g=-4.28970e-03, \n",
      "    [test init] test init top1=98.93%, test init top5=94.82%, test init loss=4.625\n",
      "    [test] test top1=81.81%, test top5=57.39%, test loss=3.486\n",
      "[σ_w=0.80, α=0.10] training start!\n"
     ]
    },
    {
     "name": "stderr",
     "output_type": "stream",
     "text": [
      "100%|██████████| 15/15 [00:41<00:00,  2.77s/it]\n"
     ]
    },
    {
     "name": "stdout",
     "output_type": "stream",
     "text": [
      "    [save] → models/alpha_0.097_sigmaw_0.800_top50.521.pt\n",
      "    [λ] λ_a=-3.03030e-03, λ_g=-1.80634e-02, \n",
      "    [test init] test init top1=98.86%, test init top5=94.86%, test init loss=4.629\n",
      "    [test] test top1=78.30%, test top5=52.10%, test loss=3.282\n",
      "[σ_w=0.80, α=0.14] training start!\n"
     ]
    },
    {
     "name": "stderr",
     "output_type": "stream",
     "text": [
      "100%|██████████| 15/15 [00:41<00:00,  2.77s/it]\n"
     ]
    },
    {
     "name": "stdout",
     "output_type": "stream",
     "text": [
      "    [save] → models/alpha_0.145_sigmaw_0.800_top50.506.pt\n",
      "    [λ] λ_a=-3.52895e-03, λ_g=-4.08830e-02, \n",
      "    [test init] test init top1=99.12%, test init top5=95.44%, test init loss=4.652\n",
      "    [test] test top1=77.26%, test top5=50.62%, test loss=3.223\n",
      "[σ_w=0.80, α=0.19] training start!\n"
     ]
    },
    {
     "name": "stderr",
     "output_type": "stream",
     "text": [
      "100%|██████████| 15/15 [00:41<00:00,  2.77s/it]\n"
     ]
    },
    {
     "name": "stdout",
     "output_type": "stream",
     "text": [
      "    [save] → models/alpha_0.192_sigmaw_0.800_top50.499.pt\n",
      "    [λ] λ_a=-2.69688e-02, λ_g=-7.04465e-02, \n",
      "    [test init] test init top1=98.97%, test init top5=95.10%, test init loss=4.676\n",
      "    [test] test top1=76.74%, test top5=49.92%, test loss=3.198\n",
      "[σ_w=0.80, α=0.24] training start!\n"
     ]
    },
    {
     "name": "stderr",
     "output_type": "stream",
     "text": [
      "100%|██████████| 15/15 [00:41<00:00,  2.77s/it]\n"
     ]
    },
    {
     "name": "stdout",
     "output_type": "stream",
     "text": [
      "    [save] → models/alpha_0.239_sigmaw_0.800_top50.500.pt\n",
      "    [λ] λ_a=-5.09738e-02, λ_g=-1.08731e-01, \n",
      "    [test init] test init top1=98.98%, test init top5=94.69%, test init loss=4.667\n",
      "    [test] test top1=76.52%, test top5=49.96%, test loss=3.191\n",
      "[σ_w=0.80, α=0.29] training start!\n"
     ]
    },
    {
     "name": "stderr",
     "output_type": "stream",
     "text": [
      "100%|██████████| 15/15 [00:41<00:00,  2.77s/it]\n"
     ]
    },
    {
     "name": "stdout",
     "output_type": "stream",
     "text": [
      "    [save] → models/alpha_0.287_sigmaw_0.800_top50.505.pt\n",
      "    [λ] λ_a=-1.24147e-01, λ_g=-1.56305e-01, \n",
      "    [test init] test init top1=99.03%, test init top5=95.41%, test init loss=4.695\n",
      "    [test] test top1=77.34%, test top5=50.54%, test loss=3.228\n",
      "[σ_w=0.80, α=0.33] training start!\n"
     ]
    },
    {
     "name": "stderr",
     "output_type": "stream",
     "text": [
      "100%|██████████| 15/15 [00:41<00:00,  2.77s/it]\n"
     ]
    },
    {
     "name": "stdout",
     "output_type": "stream",
     "text": [
      "    [save] → models/alpha_0.334_sigmaw_0.800_top50.512.pt\n",
      "    [λ] λ_a=-1.41347e-01, λ_g=-2.18940e-01, \n",
      "    [test init] test init top1=99.02%, test init top5=95.12%, test init loss=4.699\n",
      "    [test] test top1=78.11%, test top5=51.20%, test loss=3.247\n",
      "[σ_w=0.80, α=0.38] training start!\n"
     ]
    },
    {
     "name": "stderr",
     "output_type": "stream",
     "text": [
      "100%|██████████| 15/15 [00:41<00:00,  2.77s/it]\n"
     ]
    },
    {
     "name": "stdout",
     "output_type": "stream",
     "text": [
      "    [save] → models/alpha_0.382_sigmaw_0.800_top50.506.pt\n",
      "    [λ] λ_a=-1.29923e-01, λ_g=-2.75565e-01, \n",
      "    [test init] test init top1=99.07%, test init top5=95.39%, test init loss=4.696\n",
      "    [test] test top1=77.21%, test top5=50.63%, test loss=3.219\n",
      "[σ_w=0.80, α=0.43] training start!\n"
     ]
    },
    {
     "name": "stderr",
     "output_type": "stream",
     "text": [
      "100%|██████████| 15/15 [00:41<00:00,  2.77s/it]\n"
     ]
    },
    {
     "name": "stdout",
     "output_type": "stream",
     "text": [
      "    [save] → models/alpha_0.429_sigmaw_0.800_top50.511.pt\n",
      "    [λ] λ_a=-1.88295e-01, λ_g=-3.49055e-01, \n",
      "    [test init] test init top1=99.19%, test init top5=94.76%, test init loss=4.726\n",
      "    [test] test top1=78.06%, test top5=51.10%, test loss=3.243\n",
      "[σ_w=0.80, α=0.48] training start!\n"
     ]
    },
    {
     "name": "stderr",
     "output_type": "stream",
     "text": [
      "100%|██████████| 15/15 [00:41<00:00,  2.78s/it]\n"
     ]
    },
    {
     "name": "stdout",
     "output_type": "stream",
     "text": [
      "    [save] → models/alpha_0.476_sigmaw_0.800_top50.516.pt\n",
      "    [λ] λ_a=-3.10775e-01, λ_g=-3.97115e-01, \n",
      "    [test init] test init top1=98.97%, test init top5=94.77%, test init loss=4.695\n",
      "    [test] test top1=78.10%, test top5=51.58%, test loss=3.265\n",
      "[σ_w=0.80, α=0.52] training start!\n"
     ]
    },
    {
     "name": "stderr",
     "output_type": "stream",
     "text": [
      "100%|██████████| 15/15 [00:41<00:00,  2.77s/it]\n"
     ]
    },
    {
     "name": "stdout",
     "output_type": "stream",
     "text": [
      "    [save] → models/alpha_0.524_sigmaw_0.800_top50.550.pt\n",
      "    [λ] λ_a=-3.26798e-01, λ_g=-4.13927e-01, \n",
      "    [test init] test init top1=98.89%, test init top5=94.72%, test init loss=4.695\n",
      "    [test] test top1=80.50%, test top5=54.95%, test loss=3.386\n",
      "[σ_w=0.80, α=0.57] training start!\n"
     ]
    },
    {
     "name": "stderr",
     "output_type": "stream",
     "text": [
      "100%|██████████| 15/15 [00:41<00:00,  2.77s/it]\n"
     ]
    },
    {
     "name": "stdout",
     "output_type": "stream",
     "text": [
      "    [save] → models/alpha_0.571_sigmaw_0.800_top50.563.pt\n",
      "    [λ] λ_a=-4.14077e-01, λ_g=-4.67793e-01, \n",
      "    [test init] test init top1=99.12%, test init top5=95.50%, test init loss=4.696\n",
      "    [test] test top1=81.39%, test top5=56.27%, test loss=3.432\n",
      "[σ_w=0.80, α=0.62] training start!\n"
     ]
    },
    {
     "name": "stderr",
     "output_type": "stream",
     "text": [
      "100%|██████████| 15/15 [00:41<00:00,  2.77s/it]\n"
     ]
    },
    {
     "name": "stdout",
     "output_type": "stream",
     "text": [
      "    [save] → models/alpha_0.618_sigmaw_0.800_top50.584.pt\n",
      "    [λ] λ_a=-4.35241e-01, λ_g=-4.36603e-01, \n",
      "    [test init] test init top1=98.97%, test init top5=95.28%, test init loss=4.690\n",
      "    [test] test top1=82.70%, test top5=58.43%, test loss=3.515\n",
      "[σ_w=0.80, α=0.67] training start!\n"
     ]
    },
    {
     "name": "stderr",
     "output_type": "stream",
     "text": [
      "100%|██████████| 15/15 [00:41<00:00,  2.77s/it]\n"
     ]
    },
    {
     "name": "stdout",
     "output_type": "stream",
     "text": [
      "    [save] → models/alpha_0.666_sigmaw_0.800_top50.582.pt\n",
      "    [λ] λ_a=-6.07328e-01, λ_g=-4.43906e-01, \n",
      "    [test init] test init top1=99.00%, test init top5=95.31%, test init loss=4.687\n",
      "    [test] test top1=82.80%, test top5=58.21%, test loss=3.513\n",
      "[σ_w=0.80, α=0.71] training start!\n"
     ]
    },
    {
     "name": "stderr",
     "output_type": "stream",
     "text": [
      "100%|██████████| 15/15 [00:41<00:00,  2.78s/it]\n"
     ]
    },
    {
     "name": "stdout",
     "output_type": "stream",
     "text": [
      "    [save] → models/alpha_0.713_sigmaw_0.800_top50.625.pt\n",
      "    [λ] λ_a=-6.82745e-01, λ_g=-2.75763e-01, \n",
      "    [test init] test init top1=99.16%, test init top5=94.76%, test init loss=4.686\n",
      "    [test] test top1=85.29%, test top5=62.51%, test loss=3.641\n",
      "[σ_w=0.80, α=0.76] training start!\n"
     ]
    },
    {
     "name": "stderr",
     "output_type": "stream",
     "text": [
      "100%|██████████| 15/15 [00:41<00:00,  2.77s/it]\n"
     ]
    },
    {
     "name": "stdout",
     "output_type": "stream",
     "text": [
      "    [save] → models/alpha_0.761_sigmaw_0.800_top50.623.pt\n",
      "    [λ] λ_a=-8.86664e-01, λ_g=-3.23480e-01, \n",
      "    [test init] test init top1=99.25%, test init top5=95.45%, test init loss=4.675\n",
      "    [test] test top1=85.55%, test top5=62.27%, test loss=3.647\n",
      "[σ_w=0.80, α=0.81] training start!\n"
     ]
    },
    {
     "name": "stderr",
     "output_type": "stream",
     "text": [
      "100%|██████████| 15/15 [00:41<00:00,  2.77s/it]\n"
     ]
    },
    {
     "name": "stdout",
     "output_type": "stream",
     "text": [
      "    [save] → models/alpha_0.808_sigmaw_0.800_top50.721.pt\n",
      "    [λ] λ_a=-1.00133e+00, λ_g=-4.55012e-01, \n",
      "    [test init] test init top1=98.88%, test init top5=95.02%, test init loss=4.680\n",
      "    [test] test top1=90.43%, test top5=72.09%, test loss=3.955\n",
      "[σ_w=0.80, α=0.86] training start!\n"
     ]
    },
    {
     "name": "stderr",
     "output_type": "stream",
     "text": [
      "100%|██████████| 15/15 [00:41<00:00,  2.77s/it]\n"
     ]
    },
    {
     "name": "stdout",
     "output_type": "stream",
     "text": [
      "    [save] → models/alpha_0.855_sigmaw_0.800_top50.715.pt\n",
      "    [λ] λ_a=-1.37227e+00, λ_g=-2.83434e-01, \n",
      "    [test init] test init top1=99.10%, test init top5=95.13%, test init loss=4.670\n",
      "    [test] test top1=90.55%, test top5=71.50%, test loss=3.929\n",
      "[σ_w=0.80, α=0.90] training start!\n"
     ]
    },
    {
     "name": "stderr",
     "output_type": "stream",
     "text": [
      "100%|██████████| 15/15 [00:41<00:00,  2.77s/it]\n"
     ]
    },
    {
     "name": "stdout",
     "output_type": "stream",
     "text": [
      "    [save] → models/alpha_0.903_sigmaw_0.800_top50.933.pt\n",
      "    [λ] λ_a=-1.60723e+00, λ_g=-4.30579e-01, \n",
      "    [test init] test init top1=98.94%, test init top5=94.84%, test init loss=4.650\n",
      "    [test] test top1=98.63%, test top5=93.29%, test loss=4.593\n",
      "[σ_w=0.80, α=0.95] training start!\n"
     ]
    },
    {
     "name": "stderr",
     "output_type": "stream",
     "text": [
      "100%|██████████| 15/15 [00:41<00:00,  2.77s/it]\n"
     ]
    },
    {
     "name": "stdout",
     "output_type": "stream",
     "text": [
      "    [save] → models/alpha_0.950_sigmaw_0.800_top50.922.pt\n",
      "    [λ] λ_a=-2.16155e+00, λ_g=-3.59453e-01, \n",
      "    [test init] test init top1=99.12%, test init top5=95.43%, test init loss=4.650\n",
      "    [test] test top1=98.35%, test top5=92.23%, test loss=4.571\n",
      "[σ_w=1.00, α=0.05] training start!\n"
     ]
    },
    {
     "name": "stderr",
     "output_type": "stream",
     "text": [
      "100%|██████████| 15/15 [00:41<00:00,  2.77s/it]\n"
     ]
    },
    {
     "name": "stdout",
     "output_type": "stream",
     "text": [
      "    [save] → models/alpha_0.050_sigmaw_1.000_top50.566.pt\n",
      "    [λ] λ_a=-4.96362e-05, λ_g=-4.35528e-03, \n",
      "    [test init] test init top1=98.93%, test init top5=95.19%, test init loss=4.625\n",
      "    [test] test top1=81.66%, test top5=56.59%, test loss=3.446\n",
      "[σ_w=1.00, α=0.10] training start!\n"
     ]
    },
    {
     "name": "stderr",
     "output_type": "stream",
     "text": [
      "100%|██████████| 15/15 [00:41<00:00,  2.77s/it]\n"
     ]
    },
    {
     "name": "stdout",
     "output_type": "stream",
     "text": [
      "    [save] → models/alpha_0.097_sigmaw_1.000_top50.525.pt\n",
      "    [λ] λ_a=-6.04833e-03, λ_g=-1.53938e-02, \n",
      "    [test init] test init top1=99.20%, test init top5=95.19%, test init loss=4.640\n",
      "    [test] test top1=78.91%, test top5=52.53%, test loss=3.301\n",
      "[σ_w=1.00, α=0.14] training start!\n"
     ]
    },
    {
     "name": "stderr",
     "output_type": "stream",
     "text": [
      "100%|██████████| 15/15 [00:41<00:00,  2.77s/it]\n"
     ]
    },
    {
     "name": "stdout",
     "output_type": "stream",
     "text": [
      "    [save] → models/alpha_0.145_sigmaw_1.000_top50.511.pt\n",
      "    [λ] λ_a=-1.29205e-02, λ_g=-3.49957e-02, \n",
      "    [test init] test init top1=98.94%, test init top5=94.84%, test init loss=4.650\n",
      "    [test] test top1=77.50%, test top5=51.14%, test loss=3.233\n",
      "[σ_w=1.00, α=0.19] training start!\n"
     ]
    },
    {
     "name": "stderr",
     "output_type": "stream",
     "text": [
      "100%|██████████| 15/15 [00:41<00:00,  2.77s/it]\n"
     ]
    },
    {
     "name": "stdout",
     "output_type": "stream",
     "text": [
      "    [save] → models/alpha_0.192_sigmaw_1.000_top50.494.pt\n",
      "    [λ] λ_a=-4.52048e-02, λ_g=-6.10130e-02, \n",
      "    [test init] test init top1=99.28%, test init top5=95.50%, test init loss=4.674\n",
      "    [test] test top1=76.45%, test top5=49.40%, test loss=3.170\n",
      "[σ_w=1.00, α=0.24] training start!\n"
     ]
    },
    {
     "name": "stderr",
     "output_type": "stream",
     "text": [
      "100%|██████████| 15/15 [00:41<00:00,  2.77s/it]\n"
     ]
    },
    {
     "name": "stdout",
     "output_type": "stream",
     "text": [
      "    [save] → models/alpha_0.239_sigmaw_1.000_top50.499.pt\n",
      "    [λ] λ_a=-7.10427e-02, λ_g=-8.93097e-02, \n",
      "    [test init] test init top1=98.87%, test init top5=94.85%, test init loss=4.689\n",
      "    [test] test top1=76.75%, test top5=49.93%, test loss=3.185\n",
      "[σ_w=1.00, α=0.29] training start!\n"
     ]
    },
    {
     "name": "stderr",
     "output_type": "stream",
     "text": [
      "100%|██████████| 15/15 [00:41<00:00,  2.77s/it]\n"
     ]
    },
    {
     "name": "stdout",
     "output_type": "stream",
     "text": [
      "    [save] → models/alpha_0.287_sigmaw_1.000_top50.493.pt\n",
      "    [λ] λ_a=-8.73929e-02, λ_g=-1.36087e-01, \n",
      "    [test init] test init top1=99.22%, test init top5=95.37%, test init loss=4.694\n",
      "    [test] test top1=76.39%, test top5=49.28%, test loss=3.177\n",
      "[σ_w=1.00, α=0.33] training start!\n"
     ]
    },
    {
     "name": "stderr",
     "output_type": "stream",
     "text": [
      "100%|██████████| 15/15 [00:41<00:00,  2.77s/it]\n"
     ]
    },
    {
     "name": "stdout",
     "output_type": "stream",
     "text": [
      "    [save] → models/alpha_0.334_sigmaw_1.000_top50.495.pt\n",
      "    [λ] λ_a=-8.57728e-02, λ_g=-1.64435e-01, \n",
      "    [test init] test init top1=98.95%, test init top5=95.47%, test init loss=4.719\n",
      "    [test] test top1=76.25%, test top5=49.53%, test loss=3.174\n",
      "[σ_w=1.00, α=0.38] training start!\n"
     ]
    },
    {
     "name": "stderr",
     "output_type": "stream",
     "text": [
      "100%|██████████| 15/15 [00:41<00:00,  2.77s/it]\n"
     ]
    },
    {
     "name": "stdout",
     "output_type": "stream",
     "text": [
      "    [save] → models/alpha_0.382_sigmaw_1.000_top50.507.pt\n",
      "    [λ] λ_a=-2.08874e-01, λ_g=-2.40751e-01, \n",
      "    [test init] test init top1=99.14%, test init top5=95.10%, test init loss=4.711\n",
      "    [test] test top1=77.33%, test top5=50.71%, test loss=3.215\n",
      "[σ_w=1.00, α=0.43] training start!\n"
     ]
    },
    {
     "name": "stderr",
     "output_type": "stream",
     "text": [
      "100%|██████████| 15/15 [00:41<00:00,  2.77s/it]\n"
     ]
    },
    {
     "name": "stdout",
     "output_type": "stream",
     "text": [
      "    [save] → models/alpha_0.429_sigmaw_1.000_top50.515.pt\n",
      "    [λ] λ_a=-1.72389e-01, λ_g=-2.83270e-01, \n",
      "    [test init] test init top1=99.07%, test init top5=95.26%, test init loss=4.715\n",
      "    [test] test top1=78.01%, test top5=51.52%, test loss=3.257\n",
      "[σ_w=1.00, α=0.48] training start!\n"
     ]
    },
    {
     "name": "stderr",
     "output_type": "stream",
     "text": [
      "100%|██████████| 15/15 [00:41<00:00,  2.77s/it]\n"
     ]
    },
    {
     "name": "stdout",
     "output_type": "stream",
     "text": [
      "    [save] → models/alpha_0.476_sigmaw_1.000_top50.531.pt\n",
      "    [λ] λ_a=-1.76799e-01, λ_g=-2.44382e-01, \n",
      "    [test init] test init top1=99.11%, test init top5=94.79%, test init loss=4.734\n",
      "    [test] test top1=79.08%, test top5=53.13%, test loss=3.327\n",
      "[σ_w=1.00, α=0.52] training start!\n"
     ]
    },
    {
     "name": "stderr",
     "output_type": "stream",
     "text": [
      "100%|██████████| 15/15 [00:41<00:00,  2.77s/it]\n"
     ]
    },
    {
     "name": "stdout",
     "output_type": "stream",
     "text": [
      "    [save] → models/alpha_0.524_sigmaw_1.000_top50.543.pt\n",
      "    [λ] λ_a=-2.37490e-01, λ_g=-2.86397e-01, \n",
      "    [test init] test init top1=99.07%, test init top5=95.23%, test init loss=4.691\n",
      "    [test] test top1=80.21%, test top5=54.32%, test loss=3.362\n",
      "[σ_w=1.00, α=0.57] training start!\n"
     ]
    },
    {
     "name": "stderr",
     "output_type": "stream",
     "text": [
      "100%|██████████| 15/15 [00:41<00:00,  2.77s/it]\n"
     ]
    },
    {
     "name": "stdout",
     "output_type": "stream",
     "text": [
      "    [save] → models/alpha_0.571_sigmaw_1.000_top50.561.pt\n",
      "    [λ] λ_a=-3.92419e-01, λ_g=-3.57557e-01, \n",
      "    [test init] test init top1=98.97%, test init top5=94.97%, test init loss=4.694\n",
      "    [test] test top1=81.29%, test top5=56.15%, test loss=3.445\n",
      "[σ_w=1.00, α=0.62] training start!\n"
     ]
    },
    {
     "name": "stderr",
     "output_type": "stream",
     "text": [
      "100%|██████████| 15/15 [00:41<00:00,  2.77s/it]\n"
     ]
    },
    {
     "name": "stdout",
     "output_type": "stream",
     "text": [
      "    [save] → models/alpha_0.618_sigmaw_1.000_top50.581.pt\n",
      "    [λ] λ_a=-4.60536e-01, λ_g=-4.24497e-01, \n",
      "    [test init] test init top1=99.16%, test init top5=95.25%, test init loss=4.706\n",
      "    [test] test top1=82.58%, test top5=58.08%, test loss=3.509\n",
      "[σ_w=1.00, α=0.67] training start!\n"
     ]
    },
    {
     "name": "stderr",
     "output_type": "stream",
     "text": [
      "100%|██████████| 15/15 [00:41<00:00,  2.77s/it]\n"
     ]
    },
    {
     "name": "stdout",
     "output_type": "stream",
     "text": [
      "    [save] → models/alpha_0.666_sigmaw_1.000_top50.610.pt\n",
      "    [λ] λ_a=-5.88791e-01, λ_g=-2.21299e-01, \n",
      "    [test init] test init top1=99.17%, test init top5=95.37%, test init loss=4.710\n",
      "    [test] test top1=84.36%, test top5=61.03%, test loss=3.606\n",
      "[σ_w=1.00, α=0.71] training start!\n"
     ]
    },
    {
     "name": "stderr",
     "output_type": "stream",
     "text": [
      "100%|██████████| 15/15 [00:41<00:00,  2.77s/it]\n"
     ]
    },
    {
     "name": "stdout",
     "output_type": "stream",
     "text": [
      "    [save] → models/alpha_0.713_sigmaw_1.000_top50.622.pt\n",
      "    [λ] λ_a=-6.44611e-01, λ_g=-3.41130e-01, \n",
      "    [test init] test init top1=99.21%, test init top5=95.44%, test init loss=4.700\n",
      "    [test] test top1=85.09%, test top5=62.18%, test loss=3.622\n",
      "[σ_w=1.00, α=0.76] training start!\n"
     ]
    },
    {
     "name": "stderr",
     "output_type": "stream",
     "text": [
      "100%|██████████| 15/15 [00:41<00:00,  2.77s/it]\n"
     ]
    },
    {
     "name": "stdout",
     "output_type": "stream",
     "text": [
      "    [save] → models/alpha_0.761_sigmaw_1.000_top50.644.pt\n",
      "    [λ] λ_a=-8.56330e-01, λ_g=-2.74113e-01, \n",
      "    [test init] test init top1=99.04%, test init top5=95.06%, test init loss=4.680\n",
      "    [test] test top1=86.69%, test top5=64.38%, test loss=3.719\n",
      "[σ_w=1.00, α=0.81] training start!\n"
     ]
    },
    {
     "name": "stderr",
     "output_type": "stream",
     "text": [
      "100%|██████████| 15/15 [00:41<00:00,  2.77s/it]\n"
     ]
    },
    {
     "name": "stdout",
     "output_type": "stream",
     "text": [
      "    [save] → models/alpha_0.808_sigmaw_1.000_top50.795.pt\n",
      "    [λ] λ_a=-9.75712e-01, λ_g=-2.26897e-01, \n",
      "    [test init] test init top1=99.07%, test init top5=94.78%, test init loss=4.682\n",
      "    [test] test top1=93.99%, test top5=79.52%, test loss=4.203\n",
      "[σ_w=1.00, α=0.86] training start!\n"
     ]
    },
    {
     "name": "stderr",
     "output_type": "stream",
     "text": [
      "100%|██████████| 15/15 [00:41<00:00,  2.77s/it]\n"
     ]
    },
    {
     "name": "stdout",
     "output_type": "stream",
     "text": [
      "    [save] → models/alpha_0.855_sigmaw_1.000_top50.919.pt\n",
      "    [λ] λ_a=-1.29437e+00, λ_g=-3.15883e-01, \n",
      "    [test init] test init top1=98.89%, test init top5=94.91%, test init loss=4.691\n",
      "    [test] test top1=98.18%, test top5=91.93%, test loss=4.569\n",
      "[σ_w=1.00, α=0.90] training start!\n"
     ]
    },
    {
     "name": "stderr",
     "output_type": "stream",
     "text": [
      "100%|██████████| 15/15 [00:41<00:00,  2.77s/it]\n"
     ]
    },
    {
     "name": "stdout",
     "output_type": "stream",
     "text": [
      "    [save] → models/alpha_0.903_sigmaw_1.000_top50.912.pt\n",
      "    [λ] λ_a=-1.57165e+00, λ_g=-5.22031e-01, \n",
      "    [test init] test init top1=99.10%, test init top5=95.39%, test init loss=4.687\n",
      "    [test] test top1=97.98%, test top5=91.16%, test loss=4.559\n",
      "[σ_w=1.00, α=0.95] training start!\n"
     ]
    },
    {
     "name": "stderr",
     "output_type": "stream",
     "text": [
      "100%|██████████| 15/15 [00:41<00:00,  2.77s/it]\n"
     ]
    },
    {
     "name": "stdout",
     "output_type": "stream",
     "text": [
      "    [save] → models/alpha_0.950_sigmaw_1.000_top50.922.pt\n",
      "    [λ] λ_a=-2.16695e+00, λ_g=-1.78921e-01, \n",
      "    [test init] test init top1=98.81%, test init top5=94.49%, test init loss=4.666\n",
      "    [test] test top1=98.21%, test top5=92.18%, test loss=4.569\n",
      "[σ_w=1.20, α=0.05] training start!\n"
     ]
    },
    {
     "name": "stderr",
     "output_type": "stream",
     "text": [
      "100%|██████████| 15/15 [00:41<00:00,  2.78s/it]\n"
     ]
    },
    {
     "name": "stdout",
     "output_type": "stream",
     "text": [
      "    [save] → models/alpha_0.050_sigmaw_1.200_top50.564.pt\n",
      "    [λ] λ_a=-4.45138e-03, λ_g=-3.68993e-03, \n",
      "    [test init] test init top1=98.99%, test init top5=94.71%, test init loss=4.626\n",
      "    [test] test top1=81.16%, test top5=56.42%, test loss=3.445\n",
      "[σ_w=1.20, α=0.10] training start!\n"
     ]
    },
    {
     "name": "stderr",
     "output_type": "stream",
     "text": [
      "100%|██████████| 15/15 [00:41<00:00,  2.77s/it]\n"
     ]
    },
    {
     "name": "stdout",
     "output_type": "stream",
     "text": [
      "    [save] → models/alpha_0.097_sigmaw_1.200_top50.535.pt\n",
      "    [λ] λ_a=-1.48218e-02, λ_g=-1.14721e-02, \n",
      "    [test init] test init top1=98.90%, test init top5=94.61%, test init loss=4.637\n",
      "    [test] test top1=79.31%, test top5=53.52%, test loss=3.334\n",
      "[σ_w=1.20, α=0.14] training start!\n"
     ]
    },
    {
     "name": "stderr",
     "output_type": "stream",
     "text": [
      "100%|██████████| 15/15 [00:41<00:00,  2.77s/it]\n"
     ]
    },
    {
     "name": "stdout",
     "output_type": "stream",
     "text": [
      "    [save] → models/alpha_0.145_sigmaw_1.200_top50.507.pt\n",
      "    [λ] λ_a=-1.44054e-02, λ_g=-2.62354e-02, \n",
      "    [test init] test init top1=98.89%, test init top5=94.87%, test init loss=4.651\n",
      "    [test] test top1=77.33%, test top5=50.73%, test loss=3.225\n",
      "[σ_w=1.20, α=0.19] training start!\n"
     ]
    },
    {
     "name": "stderr",
     "output_type": "stream",
     "text": [
      "100%|██████████| 15/15 [00:41<00:00,  2.77s/it]\n"
     ]
    },
    {
     "name": "stdout",
     "output_type": "stream",
     "text": [
      "    [save] → models/alpha_0.192_sigmaw_1.200_top50.505.pt\n",
      "    [λ] λ_a=-2.45216e-02, λ_g=-5.89806e-02, \n",
      "    [test init] test init top1=98.88%, test init top5=94.48%, test init loss=4.678\n",
      "    [test] test top1=77.10%, test top5=50.46%, test loss=3.226\n",
      "[σ_w=1.20, α=0.24] training start!\n"
     ]
    },
    {
     "name": "stderr",
     "output_type": "stream",
     "text": [
      "100%|██████████| 15/15 [00:41<00:00,  2.78s/it]\n"
     ]
    },
    {
     "name": "stdout",
     "output_type": "stream",
     "text": [
      "    [save] → models/alpha_0.239_sigmaw_1.200_top50.491.pt\n",
      "    [λ] λ_a=-6.81883e-02, λ_g=-6.72152e-02, \n",
      "    [test init] test init top1=99.20%, test init top5=95.35%, test init loss=4.696\n",
      "    [test] test top1=76.55%, test top5=49.07%, test loss=3.170\n",
      "[σ_w=1.20, α=0.29] training start!\n"
     ]
    },
    {
     "name": "stderr",
     "output_type": "stream",
     "text": [
      "100%|██████████| 15/15 [00:41<00:00,  2.77s/it]\n"
     ]
    },
    {
     "name": "stdout",
     "output_type": "stream",
     "text": [
      "    [save] → models/alpha_0.287_sigmaw_1.200_top50.502.pt\n",
      "    [λ] λ_a=-4.19035e-02, λ_g=-1.07223e-01, \n",
      "    [test init] test init top1=99.19%, test init top5=95.47%, test init loss=4.692\n",
      "    [test] test top1=76.46%, test top5=50.15%, test loss=3.196\n",
      "[σ_w=1.20, α=0.33] training start!\n"
     ]
    },
    {
     "name": "stderr",
     "output_type": "stream",
     "text": [
      "100%|██████████| 15/15 [00:41<00:00,  2.77s/it]\n"
     ]
    },
    {
     "name": "stdout",
     "output_type": "stream",
     "text": [
      "    [save] → models/alpha_0.334_sigmaw_1.200_top50.509.pt\n",
      "    [λ] λ_a=-1.06494e-01, λ_g=-1.19598e-01, \n",
      "    [test init] test init top1=99.12%, test init top5=94.97%, test init loss=4.703\n",
      "    [test] test top1=77.06%, test top5=50.92%, test loss=3.215\n",
      "[σ_w=1.20, α=0.38] training start!\n"
     ]
    },
    {
     "name": "stderr",
     "output_type": "stream",
     "text": [
      "100%|██████████| 15/15 [00:41<00:00,  2.77s/it]\n"
     ]
    },
    {
     "name": "stdout",
     "output_type": "stream",
     "text": [
      "    [save] → models/alpha_0.382_sigmaw_1.200_top50.497.pt\n",
      "    [λ] λ_a=-7.68510e-02, λ_g=-1.67457e-01, \n",
      "    [test init] test init top1=99.08%, test init top5=95.22%, test init loss=4.727\n",
      "    [test] test top1=76.54%, test top5=49.74%, test loss=3.189\n",
      "[σ_w=1.20, α=0.43] training start!\n"
     ]
    },
    {
     "name": "stderr",
     "output_type": "stream",
     "text": [
      "100%|██████████| 15/15 [00:41<00:00,  2.77s/it]\n"
     ]
    },
    {
     "name": "stdout",
     "output_type": "stream",
     "text": [
      "    [save] → models/alpha_0.429_sigmaw_1.200_top50.506.pt\n",
      "    [λ] λ_a=-1.42445e-01, λ_g=-2.40308e-01, \n",
      "    [test init] test init top1=98.96%, test init top5=94.98%, test init loss=4.722\n",
      "    [test] test top1=76.83%, test top5=50.58%, test loss=3.212\n",
      "[σ_w=1.20, α=0.48] training start!\n"
     ]
    },
    {
     "name": "stderr",
     "output_type": "stream",
     "text": [
      "100%|██████████| 15/15 [00:41<00:00,  2.77s/it]\n"
     ]
    },
    {
     "name": "stdout",
     "output_type": "stream",
     "text": [
      "    [save] → models/alpha_0.476_sigmaw_1.200_top50.518.pt\n",
      "    [λ] λ_a=-1.62346e-01, λ_g=-2.47610e-01, \n",
      "    [test init] test init top1=99.26%, test init top5=95.40%, test init loss=4.754\n",
      "    [test] test top1=77.81%, test top5=51.84%, test loss=3.259\n",
      "[σ_w=1.20, α=0.52] training start!\n"
     ]
    },
    {
     "name": "stderr",
     "output_type": "stream",
     "text": [
      "100%|██████████| 15/15 [00:41<00:00,  2.77s/it]\n"
     ]
    },
    {
     "name": "stdout",
     "output_type": "stream",
     "text": [
      "    [save] → models/alpha_0.524_sigmaw_1.200_top50.533.pt\n",
      "    [λ] λ_a=-3.29274e-01, λ_g=-2.90411e-01, \n",
      "    [test init] test init top1=98.92%, test init top5=95.08%, test init loss=4.740\n",
      "    [test] test top1=79.39%, test top5=53.31%, test loss=3.327\n",
      "[σ_w=1.20, α=0.57] training start!\n"
     ]
    },
    {
     "name": "stderr",
     "output_type": "stream",
     "text": [
      "100%|██████████| 15/15 [00:41<00:00,  2.77s/it]\n"
     ]
    },
    {
     "name": "stdout",
     "output_type": "stream",
     "text": [
      "    [save] → models/alpha_0.571_sigmaw_1.200_top50.553.pt\n",
      "    [λ] λ_a=-3.83815e-01, λ_g=-3.68554e-01, \n",
      "    [test init] test init top1=99.09%, test init top5=94.72%, test init loss=4.752\n",
      "    [test] test top1=80.75%, test top5=55.31%, test loss=3.417\n",
      "[σ_w=1.20, α=0.62] training start!\n"
     ]
    },
    {
     "name": "stderr",
     "output_type": "stream",
     "text": [
      "100%|██████████| 15/15 [00:41<00:00,  2.77s/it]\n"
     ]
    },
    {
     "name": "stdout",
     "output_type": "stream",
     "text": [
      "    [save] → models/alpha_0.618_sigmaw_1.200_top50.591.pt\n",
      "    [λ] λ_a=-4.63576e-01, λ_g=-3.03466e-01, \n",
      "    [test init] test init top1=99.03%, test init top5=94.95%, test init loss=4.713\n",
      "    [test] test top1=83.01%, test top5=59.12%, test loss=3.528\n",
      "[σ_w=1.20, α=0.67] training start!\n"
     ]
    },
    {
     "name": "stderr",
     "output_type": "stream",
     "text": [
      "100%|██████████| 15/15 [00:41<00:00,  2.77s/it]\n"
     ]
    },
    {
     "name": "stdout",
     "output_type": "stream",
     "text": [
      "    [save] → models/alpha_0.666_sigmaw_1.200_top50.603.pt\n",
      "    [λ] λ_a=-5.23603e-01, λ_g=-2.31463e-01, \n",
      "    [test init] test init top1=99.00%, test init top5=95.31%, test init loss=4.715\n",
      "    [test] test top1=83.94%, test top5=60.31%, test loss=3.573\n",
      "[σ_w=1.20, α=0.71] training start!\n"
     ]
    },
    {
     "name": "stderr",
     "output_type": "stream",
     "text": [
      "100%|██████████| 15/15 [00:41<00:00,  2.77s/it]\n"
     ]
    },
    {
     "name": "stdout",
     "output_type": "stream",
     "text": [
      "    [save] → models/alpha_0.713_sigmaw_1.200_top50.638.pt\n",
      "    [λ] λ_a=-5.31781e-01, λ_g=-2.53181e-01, \n",
      "    [test init] test init top1=99.10%, test init top5=95.03%, test init loss=4.694\n",
      "    [test] test top1=86.13%, test top5=63.77%, test loss=3.684\n",
      "[σ_w=1.20, α=0.76] training start!\n"
     ]
    },
    {
     "name": "stderr",
     "output_type": "stream",
     "text": [
      "100%|██████████| 15/15 [00:41<00:00,  2.77s/it]\n"
     ]
    },
    {
     "name": "stdout",
     "output_type": "stream",
     "text": [
      "    [save] → models/alpha_0.761_sigmaw_1.200_top50.689.pt\n",
      "    [λ] λ_a=-6.83723e-01, λ_g=-3.46938e-01, \n",
      "    [test init] test init top1=99.06%, test init top5=94.92%, test init loss=4.693\n",
      "    [test] test top1=88.80%, test top5=68.89%, test loss=3.833\n",
      "[σ_w=1.20, α=0.81] training start!\n"
     ]
    },
    {
     "name": "stderr",
     "output_type": "stream",
     "text": [
      "100%|██████████| 15/15 [00:41<00:00,  2.77s/it]\n"
     ]
    },
    {
     "name": "stdout",
     "output_type": "stream",
     "text": [
      "    [save] → models/alpha_0.808_sigmaw_1.200_top50.700.pt\n",
      "    [λ] λ_a=-8.14653e-01, λ_g=-3.23874e-01, \n",
      "    [test init] test init top1=98.94%, test init top5=94.86%, test init loss=4.729\n",
      "    [test] test top1=89.62%, test top5=70.03%, test loss=3.875\n",
      "[σ_w=1.20, α=0.86] training start!\n"
     ]
    },
    {
     "name": "stderr",
     "output_type": "stream",
     "text": [
      "100%|██████████| 15/15 [00:41<00:00,  2.77s/it]\n"
     ]
    },
    {
     "name": "stdout",
     "output_type": "stream",
     "text": [
      "    [save] → models/alpha_0.855_sigmaw_1.200_top50.919.pt\n",
      "    [λ] λ_a=-1.01394e+00, λ_g=-6.12516e-02, \n",
      "    [test init] test init top1=98.80%, test init top5=95.01%, test init loss=4.726\n",
      "    [test] test top1=98.13%, test top5=91.86%, test loss=4.565\n",
      "[σ_w=1.20, α=0.90] training start!\n"
     ]
    },
    {
     "name": "stderr",
     "output_type": "stream",
     "text": [
      "100%|██████████| 15/15 [00:41<00:00,  2.77s/it]\n"
     ]
    },
    {
     "name": "stdout",
     "output_type": "stream",
     "text": [
      "    [save] → models/alpha_0.903_sigmaw_1.200_top50.934.pt\n",
      "    [λ] λ_a=-1.31628e+00, λ_g=-9.40695e-02, \n",
      "    [test init] test init top1=98.93%, test init top5=94.94%, test init loss=4.705\n",
      "    [test] test top1=98.55%, test top5=93.40%, test loss=4.598\n",
      "[σ_w=1.20, α=0.95] training start!\n"
     ]
    },
    {
     "name": "stderr",
     "output_type": "stream",
     "text": [
      "100%|██████████| 15/15 [00:41<00:00,  2.77s/it]\n"
     ]
    },
    {
     "name": "stdout",
     "output_type": "stream",
     "text": [
      "    [save] → models/alpha_0.950_sigmaw_1.200_top50.924.pt\n",
      "    [λ] λ_a=-2.14425e+00, λ_g=+6.48924e-02, \n",
      "    [test init] test init top1=98.82%, test init top5=94.59%, test init loss=4.706\n",
      "    [test] test top1=98.42%, test top5=92.37%, test loss=4.572\n",
      "[σ_w=1.40, α=0.05] training start!\n"
     ]
    },
    {
     "name": "stderr",
     "output_type": "stream",
     "text": [
      "100%|██████████| 15/15 [00:41<00:00,  2.77s/it]\n"
     ]
    },
    {
     "name": "stdout",
     "output_type": "stream",
     "text": [
      "    [save] → models/alpha_0.050_sigmaw_1.400_top50.565.pt\n",
      "    [λ] λ_a=-3.99835e-03, λ_g=-2.20805e-03, \n",
      "    [test init] test init top1=98.95%, test init top5=94.89%, test init loss=4.632\n",
      "    [test] test top1=81.32%, test top5=56.52%, test loss=3.451\n",
      "[σ_w=1.40, α=0.10] training start!\n"
     ]
    },
    {
     "name": "stderr",
     "output_type": "stream",
     "text": [
      "100%|██████████| 15/15 [00:41<00:00,  2.77s/it]\n"
     ]
    },
    {
     "name": "stdout",
     "output_type": "stream",
     "text": [
      "    [save] → models/alpha_0.097_sigmaw_1.400_top50.522.pt\n",
      "    [λ] λ_a=+5.06852e-03, λ_g=-4.64907e-03, \n",
      "    [test init] test init top1=99.09%, test init top5=95.54%, test init loss=4.648\n",
      "    [test] test top1=78.61%, test top5=52.20%, test loss=3.292\n",
      "[σ_w=1.40, α=0.14] training start!\n"
     ]
    },
    {
     "name": "stderr",
     "output_type": "stream",
     "text": [
      "100%|██████████| 15/15 [00:41<00:00,  2.77s/it]\n"
     ]
    },
    {
     "name": "stdout",
     "output_type": "stream",
     "text": [
      "    [save] → models/alpha_0.145_sigmaw_1.400_top50.511.pt\n",
      "    [λ] λ_a=-1.10337e-02, λ_g=-1.46481e-02, \n",
      "    [test init] test init top1=98.97%, test init top5=95.15%, test init loss=4.661\n",
      "    [test] test top1=77.62%, test top5=51.06%, test loss=3.239\n",
      "[σ_w=1.40, α=0.19] training start!\n"
     ]
    },
    {
     "name": "stderr",
     "output_type": "stream",
     "text": [
      "100%|██████████| 15/15 [00:41<00:00,  2.77s/it]\n"
     ]
    },
    {
     "name": "stdout",
     "output_type": "stream",
     "text": [
      "    [save] → models/alpha_0.192_sigmaw_1.400_top50.505.pt\n",
      "    [λ] λ_a=-6.38757e-02, λ_g=-3.30303e-02, \n",
      "    [test init] test init top1=98.86%, test init top5=94.59%, test init loss=4.672\n",
      "    [test] test top1=77.46%, test top5=50.45%, test loss=3.221\n",
      "[σ_w=1.40, α=0.24] training start!\n"
     ]
    },
    {
     "name": "stderr",
     "output_type": "stream",
     "text": [
      "100%|██████████| 15/15 [00:41<00:00,  2.77s/it]\n"
     ]
    },
    {
     "name": "stdout",
     "output_type": "stream",
     "text": [
      "    [save] → models/alpha_0.239_sigmaw_1.400_top50.498.pt\n",
      "    [λ] λ_a=-7.71494e-02, λ_g=-3.82161e-02, \n",
      "    [test init] test init top1=99.01%, test init top5=95.14%, test init loss=4.731\n",
      "    [test] test top1=76.51%, test top5=49.75%, test loss=3.192\n",
      "[σ_w=1.40, α=0.29] training start!\n"
     ]
    },
    {
     "name": "stderr",
     "output_type": "stream",
     "text": [
      "100%|██████████| 15/15 [00:41<00:00,  2.77s/it]\n"
     ]
    },
    {
     "name": "stdout",
     "output_type": "stream",
     "text": [
      "    [save] → models/alpha_0.287_sigmaw_1.400_top50.506.pt\n",
      "    [λ] λ_a=-1.01966e-02, λ_g=-7.19685e-02, \n",
      "    [test init] test init top1=98.99%, test init top5=95.01%, test init loss=4.719\n",
      "    [test] test top1=77.08%, test top5=50.60%, test loss=3.221\n",
      "[σ_w=1.40, α=0.33] training start!\n"
     ]
    },
    {
     "name": "stderr",
     "output_type": "stream",
     "text": [
      "100%|██████████| 15/15 [00:41<00:00,  2.78s/it]\n"
     ]
    },
    {
     "name": "stdout",
     "output_type": "stream",
     "text": [
      "    [save] → models/alpha_0.334_sigmaw_1.400_top50.507.pt\n",
      "    [λ] λ_a=-8.88835e-02, λ_g=-8.47700e-02, \n",
      "    [test init] test init top1=98.97%, test init top5=95.10%, test init loss=4.723\n",
      "    [test] test top1=77.10%, test top5=50.68%, test loss=3.212\n",
      "[σ_w=1.40, α=0.38] training start!\n"
     ]
    },
    {
     "name": "stderr",
     "output_type": "stream",
     "text": [
      "100%|██████████| 15/15 [00:41<00:00,  2.77s/it]\n"
     ]
    },
    {
     "name": "stdout",
     "output_type": "stream",
     "text": [
      "    [save] → models/alpha_0.382_sigmaw_1.400_top50.500.pt\n",
      "    [λ] λ_a=-1.31457e-01, λ_g=-9.98469e-02, \n",
      "    [test init] test init top1=99.00%, test init top5=94.76%, test init loss=4.739\n",
      "    [test] test top1=76.74%, test top5=50.00%, test loss=3.191\n",
      "[σ_w=1.40, α=0.43] training start!\n"
     ]
    },
    {
     "name": "stderr",
     "output_type": "stream",
     "text": [
      "100%|██████████| 15/15 [00:41<00:00,  2.77s/it]\n"
     ]
    },
    {
     "name": "stdout",
     "output_type": "stream",
     "text": [
      "    [save] → models/alpha_0.429_sigmaw_1.400_top50.522.pt\n",
      "    [λ] λ_a=-1.73948e-01, λ_g=-1.48298e-01, \n",
      "    [test init] test init top1=98.93%, test init top5=94.78%, test init loss=4.730\n",
      "    [test] test top1=78.22%, test top5=52.15%, test loss=3.285\n",
      "[σ_w=1.40, α=0.48] training start!\n"
     ]
    },
    {
     "name": "stderr",
     "output_type": "stream",
     "text": [
      "100%|██████████| 15/15 [00:41<00:00,  2.77s/it]\n"
     ]
    },
    {
     "name": "stdout",
     "output_type": "stream",
     "text": [
      "    [save] → models/alpha_0.476_sigmaw_1.400_top50.535.pt\n",
      "    [λ] λ_a=-1.41546e-01, λ_g=-1.44214e-01, \n",
      "    [test init] test init top1=98.91%, test init top5=95.05%, test init loss=4.749\n",
      "    [test] test top1=79.32%, test top5=53.47%, test loss=3.330\n",
      "[σ_w=1.40, α=0.52] training start!\n"
     ]
    },
    {
     "name": "stderr",
     "output_type": "stream",
     "text": [
      "100%|██████████| 15/15 [00:41<00:00,  2.77s/it]\n"
     ]
    },
    {
     "name": "stdout",
     "output_type": "stream",
     "text": [
      "    [save] → models/alpha_0.524_sigmaw_1.400_top50.540.pt\n",
      "    [λ] λ_a=-1.62967e-01, λ_g=-1.06380e-01, \n",
      "    [test init] test init top1=99.27%, test init top5=95.54%, test init loss=4.799\n",
      "    [test] test top1=79.54%, test top5=54.03%, test loss=3.349\n",
      "[σ_w=1.40, α=0.57] training start!\n"
     ]
    },
    {
     "name": "stderr",
     "output_type": "stream",
     "text": [
      "100%|██████████| 15/15 [00:41<00:00,  2.77s/it]\n"
     ]
    },
    {
     "name": "stdout",
     "output_type": "stream",
     "text": [
      "    [save] → models/alpha_0.571_sigmaw_1.400_top50.572.pt\n",
      "    [λ] λ_a=-2.73280e-01, λ_g=-1.94836e-01, \n",
      "    [test init] test init top1=98.80%, test init top5=94.58%, test init loss=4.746\n",
      "    [test] test top1=81.70%, test top5=57.24%, test loss=3.466\n",
      "[σ_w=1.40, α=0.62] training start!\n"
     ]
    },
    {
     "name": "stderr",
     "output_type": "stream",
     "text": [
      "100%|██████████| 15/15 [00:41<00:00,  2.77s/it]\n"
     ]
    },
    {
     "name": "stdout",
     "output_type": "stream",
     "text": [
      "    [save] → models/alpha_0.618_sigmaw_1.400_top50.607.pt\n",
      "    [λ] λ_a=-2.94640e-01, λ_g=-2.95120e-01, \n",
      "    [test init] test init top1=99.10%, test init top5=95.21%, test init loss=4.808\n",
      "    [test] test top1=84.15%, test top5=60.69%, test loss=3.581\n",
      "[σ_w=1.40, α=0.67] training start!\n"
     ]
    },
    {
     "name": "stderr",
     "output_type": "stream",
     "text": [
      "100%|██████████| 15/15 [00:41<00:00,  2.77s/it]\n"
     ]
    },
    {
     "name": "stdout",
     "output_type": "stream",
     "text": [
      "    [save] → models/alpha_0.666_sigmaw_1.400_top50.606.pt\n",
      "    [λ] λ_a=-3.52202e-01, λ_g=-8.59615e-02, \n",
      "    [test init] test init top1=99.05%, test init top5=94.83%, test init loss=4.768\n",
      "    [test] test top1=84.40%, test top5=60.63%, test loss=3.584\n",
      "[σ_w=1.40, α=0.71] training start!\n"
     ]
    },
    {
     "name": "stderr",
     "output_type": "stream",
     "text": [
      "100%|██████████| 15/15 [00:41<00:00,  2.77s/it]\n"
     ]
    },
    {
     "name": "stdout",
     "output_type": "stream",
     "text": [
      "    [save] → models/alpha_0.713_sigmaw_1.400_top50.653.pt\n",
      "    [λ] λ_a=-4.24375e-01, λ_g=-1.46856e-01, \n",
      "    [test init] test init top1=99.16%, test init top5=95.22%, test init loss=4.765\n",
      "    [test] test top1=86.83%, test top5=65.34%, test loss=3.737\n",
      "[σ_w=1.40, α=0.76] training start!\n"
     ]
    },
    {
     "name": "stderr",
     "output_type": "stream",
     "text": [
      "100%|██████████| 15/15 [00:41<00:00,  2.77s/it]\n"
     ]
    },
    {
     "name": "stdout",
     "output_type": "stream",
     "text": [
      "    [save] → models/alpha_0.761_sigmaw_1.400_top50.862.pt\n",
      "    [λ] λ_a=-5.04024e-01, λ_g=-6.60813e-02, \n",
      "    [test init] test init top1=99.03%, test init top5=95.08%, test init loss=4.762\n",
      "    [test] test top1=96.17%, test top5=86.25%, test loss=4.416\n",
      "[σ_w=1.40, α=0.81] training start!\n"
     ]
    },
    {
     "name": "stderr",
     "output_type": "stream",
     "text": [
      "100%|██████████| 15/15 [00:41<00:00,  2.78s/it]\n"
     ]
    },
    {
     "name": "stdout",
     "output_type": "stream",
     "text": [
      "    [save] → models/alpha_0.808_sigmaw_1.400_top50.919.pt\n",
      "    [λ] λ_a=-8.85689e-01, λ_g=-8.12783e-02, \n",
      "    [test init] test init top1=98.97%, test init top5=95.17%, test init loss=4.760\n",
      "    [test] test top1=98.26%, test top5=91.88%, test loss=4.559\n",
      "[σ_w=1.40, α=0.86] training start!\n"
     ]
    },
    {
     "name": "stderr",
     "output_type": "stream",
     "text": [
      "100%|██████████| 15/15 [00:41<00:00,  2.77s/it]\n"
     ]
    },
    {
     "name": "stdout",
     "output_type": "stream",
     "text": [
      "    [save] → models/alpha_0.855_sigmaw_1.400_top50.922.pt\n",
      "    [λ] λ_a=-9.18210e-01, λ_g=+2.02648e-01, \n",
      "    [test init] test init top1=99.02%, test init top5=94.90%, test init loss=4.768\n",
      "    [test] test top1=98.27%, test top5=92.19%, test loss=4.570\n",
      "[σ_w=1.40, α=0.90] training start!\n"
     ]
    },
    {
     "name": "stderr",
     "output_type": "stream",
     "text": [
      "100%|██████████| 15/15 [00:41<00:00,  2.77s/it]\n"
     ]
    },
    {
     "name": "stdout",
     "output_type": "stream",
     "text": [
      "    [save] → models/alpha_0.903_sigmaw_1.400_top50.925.pt\n",
      "    [λ] λ_a=-1.42366e+00, λ_g=-4.04159e-01, \n",
      "    [test init] test init top1=98.93%, test init top5=94.98%, test init loss=4.743\n",
      "    [test] test top1=98.43%, test top5=92.51%, test loss=4.580\n",
      "[σ_w=1.40, α=0.95] training start!\n"
     ]
    },
    {
     "name": "stderr",
     "output_type": "stream",
     "text": [
      "100%|██████████| 15/15 [00:41<00:00,  2.77s/it]\n"
     ]
    },
    {
     "name": "stdout",
     "output_type": "stream",
     "text": [
      "    [save] → models/alpha_0.950_sigmaw_1.400_top50.923.pt\n",
      "    [λ] λ_a=-1.80374e+00, λ_g=+1.18280e-01, \n",
      "    [test init] test init top1=99.13%, test init top5=95.09%, test init loss=4.744\n",
      "    [test] test top1=98.20%, test top5=92.29%, test loss=4.569\n",
      "[σ_w=1.60, α=0.05] training start!\n"
     ]
    },
    {
     "name": "stderr",
     "output_type": "stream",
     "text": [
      "100%|██████████| 15/15 [00:41<00:00,  2.77s/it]\n"
     ]
    },
    {
     "name": "stdout",
     "output_type": "stream",
     "text": [
      "    [save] → models/alpha_0.050_sigmaw_1.600_top50.559.pt\n",
      "    [λ] λ_a=-2.20671e-03, λ_g=+2.60110e-04, \n",
      "    [test init] test init top1=98.93%, test init top5=95.15%, test init loss=4.625\n",
      "    [test] test top1=81.12%, test top5=55.86%, test loss=3.428\n",
      "[σ_w=1.60, α=0.10] training start!\n"
     ]
    },
    {
     "name": "stderr",
     "output_type": "stream",
     "text": [
      "100%|██████████| 15/15 [00:41<00:00,  2.77s/it]\n"
     ]
    },
    {
     "name": "stdout",
     "output_type": "stream",
     "text": [
      "    [save] → models/alpha_0.097_sigmaw_1.600_top50.526.pt\n",
      "    [λ] λ_a=+2.27722e-02, λ_g=-8.48759e-04, \n",
      "    [test init] test init top1=99.05%, test init top5=95.13%, test init loss=4.653\n",
      "    [test] test top1=78.68%, test top5=52.60%, test loss=3.300\n",
      "[σ_w=1.60, α=0.14] training start!\n"
     ]
    },
    {
     "name": "stderr",
     "output_type": "stream",
     "text": [
      "100%|██████████| 15/15 [00:41<00:00,  2.77s/it]\n"
     ]
    },
    {
     "name": "stdout",
     "output_type": "stream",
     "text": [
      "    [save] → models/alpha_0.145_sigmaw_1.600_top50.510.pt\n",
      "    [λ] λ_a=+4.74670e-03, λ_g=+2.00834e-02, \n",
      "    [test init] test init top1=99.12%, test init top5=95.35%, test init loss=4.683\n",
      "    [test] test top1=77.54%, test top5=51.02%, test loss=3.233\n",
      "[σ_w=1.60, α=0.19] training start!\n"
     ]
    },
    {
     "name": "stderr",
     "output_type": "stream",
     "text": [
      "100%|██████████| 15/15 [00:41<00:00,  2.77s/it]\n"
     ]
    },
    {
     "name": "stdout",
     "output_type": "stream",
     "text": [
      "    [save] → models/alpha_0.192_sigmaw_1.600_top50.511.pt\n",
      "    [λ] λ_a=-1.65859e-02, λ_g=+1.70418e-02, \n",
      "    [test init] test init top1=98.86%, test init top5=94.67%, test init loss=4.722\n",
      "    [test] test top1=77.51%, test top5=51.08%, test loss=3.232\n",
      "[σ_w=1.60, α=0.24] training start!\n"
     ]
    },
    {
     "name": "stderr",
     "output_type": "stream",
     "text": [
      "100%|██████████| 15/15 [00:41<00:00,  2.77s/it]\n"
     ]
    },
    {
     "name": "stdout",
     "output_type": "stream",
     "text": [
      "    [save] → models/alpha_0.239_sigmaw_1.600_top50.508.pt\n",
      "    [λ] λ_a=+9.79165e-03, λ_g=-9.31505e-03, \n",
      "    [test init] test init top1=99.07%, test init top5=95.39%, test init loss=4.735\n",
      "    [test] test top1=77.64%, test top5=50.82%, test loss=3.236\n",
      "[σ_w=1.60, α=0.29] training start!\n"
     ]
    },
    {
     "name": "stderr",
     "output_type": "stream",
     "text": [
      "100%|██████████| 15/15 [00:41<00:00,  2.77s/it]\n"
     ]
    },
    {
     "name": "stdout",
     "output_type": "stream",
     "text": [
      "    [save] → models/alpha_0.287_sigmaw_1.600_top50.518.pt\n",
      "    [λ] λ_a=-7.45544e-02, λ_g=-4.46063e-03, \n",
      "    [test init] test init top1=98.98%, test init top5=95.17%, test init loss=4.763\n",
      "    [test] test top1=77.75%, test top5=51.84%, test loss=3.258\n",
      "[σ_w=1.60, α=0.33] training start!\n"
     ]
    },
    {
     "name": "stderr",
     "output_type": "stream",
     "text": [
      "100%|██████████| 15/15 [00:41<00:00,  2.77s/it]\n"
     ]
    },
    {
     "name": "stdout",
     "output_type": "stream",
     "text": [
      "    [save] → models/alpha_0.334_sigmaw_1.600_top50.509.pt\n",
      "    [λ] λ_a=+2.51133e-02, λ_g=+1.02817e-02, \n",
      "    [test init] test init top1=98.79%, test init top5=94.71%, test init loss=4.758\n",
      "    [test] test top1=77.32%, test top5=50.90%, test loss=3.230\n",
      "[σ_w=1.60, α=0.38] training start!\n"
     ]
    },
    {
     "name": "stderr",
     "output_type": "stream",
     "text": [
      "100%|██████████| 15/15 [00:41<00:00,  2.77s/it]\n"
     ]
    },
    {
     "name": "stdout",
     "output_type": "stream",
     "text": [
      "    [save] → models/alpha_0.382_sigmaw_1.600_top50.519.pt\n",
      "    [λ] λ_a=-1.94342e-02, λ_g=-3.00052e-02, \n",
      "    [test init] test init top1=99.11%, test init top5=95.30%, test init loss=4.807\n",
      "    [test] test top1=78.15%, test top5=51.94%, test loss=3.262\n",
      "[σ_w=1.60, α=0.43] training start!\n"
     ]
    },
    {
     "name": "stderr",
     "output_type": "stream",
     "text": [
      "100%|██████████| 15/15 [00:41<00:00,  2.77s/it]\n"
     ]
    },
    {
     "name": "stdout",
     "output_type": "stream",
     "text": [
      "    [save] → models/alpha_0.429_sigmaw_1.600_top50.542.pt\n",
      "    [λ] λ_a=-1.83695e-02, λ_g=-1.78682e-02, \n",
      "    [test init] test init top1=98.95%, test init top5=95.05%, test init loss=4.791\n",
      "    [test] test top1=79.78%, test top5=54.24%, test loss=3.353\n",
      "[σ_w=1.60, α=0.48] training start!\n"
     ]
    },
    {
     "name": "stderr",
     "output_type": "stream",
     "text": [
      "100%|██████████| 15/15 [00:41<00:00,  2.77s/it]\n"
     ]
    },
    {
     "name": "stdout",
     "output_type": "stream",
     "text": [
      "    [save] → models/alpha_0.476_sigmaw_1.600_top50.543.pt\n",
      "    [λ] λ_a=-1.55981e-01, λ_g=-4.12774e-02, \n",
      "    [test init] test init top1=99.03%, test init top5=95.14%, test init loss=4.817\n",
      "    [test] test top1=79.62%, test top5=54.32%, test loss=3.355\n",
      "[σ_w=1.60, α=0.52] training start!\n"
     ]
    },
    {
     "name": "stderr",
     "output_type": "stream",
     "text": [
      "100%|██████████| 15/15 [00:41<00:00,  2.77s/it]\n"
     ]
    },
    {
     "name": "stdout",
     "output_type": "stream",
     "text": [
      "    [save] → models/alpha_0.524_sigmaw_1.600_top50.552.pt\n",
      "    [λ] λ_a=-6.69630e-02, λ_g=-7.81233e-02, \n",
      "    [test init] test init top1=98.94%, test init top5=94.82%, test init loss=4.771\n",
      "    [test] test top1=80.53%, test top5=55.22%, test loss=3.392\n",
      "[σ_w=1.60, α=0.57] training start!\n"
     ]
    },
    {
     "name": "stderr",
     "output_type": "stream",
     "text": [
      "100%|██████████| 15/15 [00:41<00:00,  2.77s/it]\n"
     ]
    },
    {
     "name": "stdout",
     "output_type": "stream",
     "text": [
      "    [save] → models/alpha_0.571_sigmaw_1.600_top50.587.pt\n",
      "    [λ] λ_a=-1.62576e-01, λ_g=-4.78165e-04, \n",
      "    [test init] test init top1=99.13%, test init top5=95.39%, test init loss=4.821\n",
      "    [test] test top1=83.07%, test top5=58.68%, test loss=3.518\n",
      "[σ_w=1.60, α=0.62] training start!\n"
     ]
    },
    {
     "name": "stderr",
     "output_type": "stream",
     "text": [
      "100%|██████████| 15/15 [00:41<00:00,  2.77s/it]\n"
     ]
    },
    {
     "name": "stdout",
     "output_type": "stream",
     "text": [
      "    [save] → models/alpha_0.618_sigmaw_1.600_top50.618.pt\n",
      "    [λ] λ_a=-2.31492e-01, λ_g=-2.68440e-01, \n",
      "    [test init] test init top1=99.07%, test init top5=94.97%, test init loss=4.812\n",
      "    [test] test top1=84.80%, test top5=61.81%, test loss=3.626\n",
      "[σ_w=1.60, α=0.67] training start!\n"
     ]
    },
    {
     "name": "stderr",
     "output_type": "stream",
     "text": [
      "100%|██████████| 15/15 [00:41<00:00,  2.77s/it]\n"
     ]
    },
    {
     "name": "stdout",
     "output_type": "stream",
     "text": [
      "    [save] → models/alpha_0.666_sigmaw_1.600_top50.640.pt\n",
      "    [λ] λ_a=-2.32364e-01, λ_g=+6.84230e-03, \n",
      "    [test init] test init top1=98.98%, test init top5=95.11%, test init loss=4.816\n",
      "    [test] test top1=86.60%, test top5=63.95%, test loss=3.688\n",
      "[σ_w=1.60, α=0.71] training start!\n"
     ]
    },
    {
     "name": "stderr",
     "output_type": "stream",
     "text": [
      "100%|██████████| 15/15 [00:41<00:00,  2.77s/it]\n"
     ]
    },
    {
     "name": "stdout",
     "output_type": "stream",
     "text": [
      "    [save] → models/alpha_0.713_sigmaw_1.600_top50.710.pt\n",
      "    [λ] λ_a=-3.91056e-01, λ_g=+2.94339e-02, \n",
      "    [test init] test init top1=98.98%, test init top5=95.01%, test init loss=4.778\n",
      "    [test] test top1=90.46%, test top5=71.01%, test loss=3.918\n",
      "[σ_w=1.60, α=0.76] training start!\n"
     ]
    },
    {
     "name": "stderr",
     "output_type": "stream",
     "text": [
      "100%|██████████| 15/15 [00:41<00:00,  2.77s/it]\n"
     ]
    },
    {
     "name": "stdout",
     "output_type": "stream",
     "text": [
      "    [save] → models/alpha_0.761_sigmaw_1.600_top50.901.pt\n",
      "    [λ] λ_a=-5.34759e-01, λ_g=-8.53026e-02, \n",
      "    [test init] test init top1=98.94%, test init top5=94.67%, test init loss=4.828\n",
      "    [test] test top1=97.77%, test top5=90.08%, test loss=4.532\n",
      "[σ_w=1.60, α=0.81] training start!\n"
     ]
    },
    {
     "name": "stderr",
     "output_type": "stream",
     "text": [
      "100%|██████████| 15/15 [00:41<00:00,  2.77s/it]\n"
     ]
    },
    {
     "name": "stdout",
     "output_type": "stream",
     "text": [
      "    [save] → models/alpha_0.808_sigmaw_1.600_top50.804.pt\n",
      "    [λ] λ_a=-6.15161e-01, λ_g=-8.15720e-02, \n",
      "    [test init] test init top1=98.97%, test init top5=95.09%, test init loss=4.802\n",
      "    [test] test top1=94.42%, test top5=80.38%, test loss=4.215\n",
      "[σ_w=1.60, α=0.86] training start!\n"
     ]
    },
    {
     "name": "stderr",
     "output_type": "stream",
     "text": [
      "100%|██████████| 15/15 [00:41<00:00,  2.77s/it]\n"
     ]
    },
    {
     "name": "stdout",
     "output_type": "stream",
     "text": [
      "    [save] → models/alpha_0.855_sigmaw_1.600_top50.943.pt\n",
      "    [λ] λ_a=-8.31711e-01, λ_g=+1.28448e-01, \n",
      "    [test init] test init top1=99.07%, test init top5=95.15%, test init loss=4.822\n",
      "    [test] test top1=98.77%, test top5=94.28%, test loss=4.632\n",
      "[σ_w=1.60, α=0.90] training start!\n"
     ]
    },
    {
     "name": "stderr",
     "output_type": "stream",
     "text": [
      "100%|██████████| 15/15 [00:41<00:00,  2.77s/it]\n"
     ]
    },
    {
     "name": "stdout",
     "output_type": "stream",
     "text": [
      "    [save] → models/alpha_0.903_sigmaw_1.600_top50.942.pt\n",
      "    [λ] λ_a=-1.27366e+00, λ_g=+3.01967e-04, \n",
      "    [test init] test init top1=99.05%, test init top5=95.06%, test init loss=4.803\n",
      "    [test] test top1=98.79%, test top5=94.21%, test loss=4.607\n",
      "[σ_w=1.60, α=0.95] training start!\n"
     ]
    },
    {
     "name": "stderr",
     "output_type": "stream",
     "text": [
      "100%|██████████| 15/15 [00:41<00:00,  2.77s/it]\n"
     ]
    },
    {
     "name": "stdout",
     "output_type": "stream",
     "text": [
      "    [save] → models/alpha_0.950_sigmaw_1.600_top50.948.pt\n",
      "    [λ] λ_a=-1.63663e+00, λ_g=+6.96193e-02, \n",
      "    [test init] test init top1=98.95%, test init top5=94.99%, test init loss=4.792\n",
      "    [test] test top1=98.97%, test top5=94.80%, test loss=4.614\n",
      "[σ_w=1.80, α=0.05] training start!\n"
     ]
    },
    {
     "name": "stderr",
     "output_type": "stream",
     "text": [
      "100%|██████████| 15/15 [00:41<00:00,  2.77s/it]\n"
     ]
    },
    {
     "name": "stdout",
     "output_type": "stream",
     "text": [
      "    [save] → models/alpha_0.050_sigmaw_1.800_top50.565.pt\n",
      "    [λ] λ_a=+4.46163e-03, λ_g=+5.19211e-03, \n",
      "    [test init] test init top1=99.20%, test init top5=95.15%, test init loss=4.636\n",
      "    [test] test top1=81.30%, test top5=56.49%, test loss=3.440\n",
      "[σ_w=1.80, α=0.10] training start!\n"
     ]
    },
    {
     "name": "stderr",
     "output_type": "stream",
     "text": [
      "100%|██████████| 15/15 [00:41<00:00,  2.77s/it]\n"
     ]
    },
    {
     "name": "stdout",
     "output_type": "stream",
     "text": [
      "    [save] → models/alpha_0.097_sigmaw_1.800_top50.524.pt\n",
      "    [λ] λ_a=+5.42816e-03, λ_g=+7.17928e-03, \n",
      "    [test init] test init top1=99.09%, test init top5=95.17%, test init loss=4.655\n",
      "    [test] test top1=78.73%, test top5=52.36%, test loss=3.297\n",
      "[σ_w=1.80, α=0.14] training start!\n"
     ]
    },
    {
     "name": "stderr",
     "output_type": "stream",
     "text": [
      "100%|██████████| 15/15 [00:41<00:00,  2.78s/it]\n"
     ]
    },
    {
     "name": "stdout",
     "output_type": "stream",
     "text": [
      "    [save] → models/alpha_0.145_sigmaw_1.800_top50.530.pt\n",
      "    [λ] λ_a=+1.43335e-02, λ_g=+3.25486e-02, \n",
      "    [test init] test init top1=98.96%, test init top5=95.31%, test init loss=4.697\n",
      "    [test] test top1=78.99%, test top5=53.01%, test loss=3.312\n",
      "[σ_w=1.80, α=0.19] training start!\n"
     ]
    },
    {
     "name": "stderr",
     "output_type": "stream",
     "text": [
      "100%|██████████| 15/15 [00:41<00:00,  2.77s/it]\n"
     ]
    },
    {
     "name": "stdout",
     "output_type": "stream",
     "text": [
      "    [save] → models/alpha_0.192_sigmaw_1.800_top50.518.pt\n",
      "    [λ] λ_a=+4.73992e-03, λ_g=+3.51932e-02, \n",
      "    [test init] test init top1=99.04%, test init top5=95.07%, test init loss=4.732\n",
      "    [test] test top1=77.96%, test top5=51.84%, test loss=3.268\n",
      "[σ_w=1.80, α=0.24] training start!\n"
     ]
    },
    {
     "name": "stderr",
     "output_type": "stream",
     "text": [
      "100%|██████████| 15/15 [00:41<00:00,  2.77s/it]\n"
     ]
    },
    {
     "name": "stdout",
     "output_type": "stream",
     "text": [
      "    [save] → models/alpha_0.239_sigmaw_1.800_top50.521.pt\n",
      "    [λ] λ_a=-6.22927e-03, λ_g=+2.84197e-02, \n",
      "    [test init] test init top1=99.04%, test init top5=95.04%, test init loss=4.780\n",
      "    [test] test top1=78.22%, test top5=52.09%, test loss=3.279\n",
      "[σ_w=1.80, α=0.29] training start!\n"
     ]
    },
    {
     "name": "stderr",
     "output_type": "stream",
     "text": [
      "100%|██████████| 15/15 [00:41<00:00,  2.77s/it]\n"
     ]
    },
    {
     "name": "stdout",
     "output_type": "stream",
     "text": [
      "    [save] → models/alpha_0.287_sigmaw_1.800_top50.525.pt\n",
      "    [λ] λ_a=+1.14375e-02, λ_g=+1.25535e-02, \n",
      "    [test init] test init top1=98.99%, test init top5=95.03%, test init loss=4.763\n",
      "    [test] test top1=78.61%, test top5=52.53%, test loss=3.293\n",
      "[σ_w=1.80, α=0.33] training start!\n"
     ]
    },
    {
     "name": "stderr",
     "output_type": "stream",
     "text": [
      "100%|██████████| 15/15 [00:41<00:00,  2.77s/it]\n"
     ]
    },
    {
     "name": "stdout",
     "output_type": "stream",
     "text": [
      "    [save] → models/alpha_0.334_sigmaw_1.800_top50.536.pt\n",
      "    [λ] λ_a=+4.33373e-02, λ_g=+4.88166e-02, \n",
      "    [test init] test init top1=98.93%, test init top5=94.72%, test init loss=4.777\n",
      "    [test] test top1=79.43%, test top5=53.64%, test loss=3.338\n",
      "[σ_w=1.80, α=0.38] training start!\n"
     ]
    },
    {
     "name": "stderr",
     "output_type": "stream",
     "text": [
      "100%|██████████| 15/15 [00:41<00:00,  2.77s/it]\n"
     ]
    },
    {
     "name": "stdout",
     "output_type": "stream",
     "text": [
      "    [save] → models/alpha_0.382_sigmaw_1.800_top50.539.pt\n",
      "    [λ] λ_a=-9.27697e-03, λ_g=+9.04897e-02, \n",
      "    [test init] test init top1=99.18%, test init top5=95.33%, test init loss=4.819\n",
      "    [test] test top1=79.49%, test top5=53.92%, test loss=3.334\n",
      "[σ_w=1.80, α=0.43] training start!\n"
     ]
    },
    {
     "name": "stderr",
     "output_type": "stream",
     "text": [
      "100%|██████████| 15/15 [00:41<00:00,  2.78s/it]\n"
     ]
    },
    {
     "name": "stdout",
     "output_type": "stream",
     "text": [
      "    [save] → models/alpha_0.429_sigmaw_1.800_top50.542.pt\n",
      "    [λ] λ_a=+9.73138e-02, λ_g=+4.79783e-02, \n",
      "    [test init] test init top1=99.00%, test init top5=95.10%, test init loss=4.838\n",
      "    [test] test top1=79.66%, test top5=54.20%, test loss=3.347\n",
      "[σ_w=1.80, α=0.48] training start!\n"
     ]
    },
    {
     "name": "stderr",
     "output_type": "stream",
     "text": [
      "100%|██████████| 15/15 [00:41<00:00,  2.77s/it]\n"
     ]
    },
    {
     "name": "stdout",
     "output_type": "stream",
     "text": [
      "    [save] → models/alpha_0.476_sigmaw_1.800_top50.559.pt\n",
      "    [λ] λ_a=+7.50475e-02, λ_g=+2.38704e-02, \n",
      "    [test init] test init top1=98.91%, test init top5=94.91%, test init loss=4.842\n",
      "    [test] test top1=80.50%, test top5=55.94%, test loss=3.416\n",
      "[σ_w=1.80, α=0.52] training start!\n"
     ]
    },
    {
     "name": "stderr",
     "output_type": "stream",
     "text": [
      "100%|██████████| 15/15 [00:41<00:00,  2.77s/it]\n"
     ]
    },
    {
     "name": "stdout",
     "output_type": "stream",
     "text": [
      "    [save] → models/alpha_0.524_sigmaw_1.800_top50.571.pt\n",
      "    [λ] λ_a=+2.25258e-02, λ_g=+1.42545e-01, \n",
      "    [test init] test init top1=99.03%, test init top5=94.96%, test init loss=4.834\n",
      "    [test] test top1=81.78%, test top5=57.12%, test loss=3.457\n",
      "[σ_w=1.80, α=0.57] training start!\n"
     ]
    },
    {
     "name": "stderr",
     "output_type": "stream",
     "text": [
      "100%|██████████| 15/15 [00:41<00:00,  2.77s/it]\n"
     ]
    },
    {
     "name": "stdout",
     "output_type": "stream",
     "text": [
      "    [save] → models/alpha_0.571_sigmaw_1.800_top50.610.pt\n",
      "    [λ] λ_a=-7.14717e-03, λ_g=+1.29071e-01, \n",
      "    [test init] test init top1=98.97%, test init top5=95.08%, test init loss=4.826\n",
      "    [test] test top1=84.23%, test top5=61.05%, test loss=3.598\n",
      "[σ_w=1.80, α=0.62] training start!\n"
     ]
    },
    {
     "name": "stderr",
     "output_type": "stream",
     "text": [
      "100%|██████████| 15/15 [00:41<00:00,  2.77s/it]\n"
     ]
    },
    {
     "name": "stdout",
     "output_type": "stream",
     "text": [
      "    [save] → models/alpha_0.618_sigmaw_1.800_top50.609.pt\n",
      "    [λ] λ_a=-1.38436e-01, λ_g=+9.23356e-02, \n",
      "    [test init] test init top1=99.09%, test init top5=94.86%, test init loss=4.882\n",
      "    [test] test top1=84.41%, test top5=60.90%, test loss=3.590\n",
      "[σ_w=1.80, α=0.67] training start!\n"
     ]
    },
    {
     "name": "stderr",
     "output_type": "stream",
     "text": [
      "100%|██████████| 15/15 [00:41<00:00,  2.77s/it]\n"
     ]
    },
    {
     "name": "stdout",
     "output_type": "stream",
     "text": [
      "    [save] → models/alpha_0.666_sigmaw_1.800_top50.661.pt\n",
      "    [λ] λ_a=-3.68263e-02, λ_g=+7.90315e-02, \n",
      "    [test init] test init top1=99.05%, test init top5=94.95%, test init loss=4.806\n",
      "    [test] test top1=87.43%, test top5=66.06%, test loss=3.753\n",
      "[σ_w=1.80, α=0.71] training start!\n"
     ]
    },
    {
     "name": "stderr",
     "output_type": "stream",
     "text": [
      "100%|██████████| 15/15 [00:41<00:00,  2.77s/it]\n"
     ]
    },
    {
     "name": "stdout",
     "output_type": "stream",
     "text": [
      "    [save] → models/alpha_0.713_sigmaw_1.800_top50.841.pt\n",
      "    [λ] λ_a=-3.10411e-01, λ_g=-1.82378e-02, \n",
      "    [test init] test init top1=99.18%, test init top5=95.33%, test init loss=4.876\n",
      "    [test] test top1=95.68%, test top5=84.12%, test loss=4.357\n",
      "[σ_w=1.80, α=0.76] training start!\n"
     ]
    },
    {
     "name": "stderr",
     "output_type": "stream",
     "text": [
      "100%|██████████| 15/15 [00:41<00:00,  2.77s/it]\n"
     ]
    },
    {
     "name": "stdout",
     "output_type": "stream",
     "text": [
      "    [save] → models/alpha_0.761_sigmaw_1.800_top50.824.pt\n",
      "    [λ] λ_a=-4.09696e-01, λ_g=+1.65707e-01, \n",
      "    [test init] test init top1=99.01%, test init top5=95.09%, test init loss=4.836\n",
      "    [test] test top1=95.15%, test top5=82.45%, test loss=4.296\n",
      "[σ_w=1.80, α=0.81] training start!\n"
     ]
    },
    {
     "name": "stderr",
     "output_type": "stream",
     "text": [
      "100%|██████████| 15/15 [00:41<00:00,  2.77s/it]\n"
     ]
    },
    {
     "name": "stdout",
     "output_type": "stream",
     "text": [
      "    [save] → models/alpha_0.808_sigmaw_1.800_top50.893.pt\n",
      "    [λ] λ_a=-5.56130e-01, λ_g=+1.71039e-02, \n",
      "    [test init] test init top1=99.06%, test init top5=95.02%, test init loss=4.878\n",
      "    [test] test top1=97.58%, test top5=89.32%, test loss=4.513\n",
      "[σ_w=1.80, α=0.86] training start!\n"
     ]
    },
    {
     "name": "stderr",
     "output_type": "stream",
     "text": [
      "100%|██████████| 15/15 [00:41<00:00,  2.77s/it]\n"
     ]
    },
    {
     "name": "stdout",
     "output_type": "stream",
     "text": [
      "    [save] → models/alpha_0.855_sigmaw_1.800_top50.902.pt\n",
      "    [λ] λ_a=-6.63791e-01, λ_g=+1.59955e-01, \n",
      "    [test init] test init top1=99.02%, test init top5=95.01%, test init loss=4.866\n",
      "    [test] test top1=97.76%, test top5=90.19%, test loss=4.526\n",
      "[σ_w=1.80, α=0.90] training start!\n"
     ]
    },
    {
     "name": "stderr",
     "output_type": "stream",
     "text": [
      "100%|██████████| 15/15 [00:41<00:00,  2.77s/it]\n"
     ]
    },
    {
     "name": "stdout",
     "output_type": "stream",
     "text": [
      "    [save] → models/alpha_0.903_sigmaw_1.800_top50.946.pt\n",
      "    [λ] λ_a=-1.12467e+00, λ_g=+3.41172e-01, \n",
      "    [test init] test init top1=98.97%, test init top5=95.06%, test init loss=4.873\n",
      "    [test] test top1=98.80%, test top5=94.56%, test loss=4.609\n",
      "[σ_w=1.80, α=0.95] training start!\n"
     ]
    },
    {
     "name": "stderr",
     "output_type": "stream",
     "text": [
      "100%|██████████| 15/15 [00:41<00:00,  2.77s/it]\n"
     ]
    },
    {
     "name": "stdout",
     "output_type": "stream",
     "text": [
      "    [save] → models/alpha_0.950_sigmaw_1.800_top50.946.pt\n",
      "    [λ] λ_a=-1.70188e+00, λ_g=+2.53261e-01, \n",
      "    [test init] test init top1=99.05%, test init top5=94.92%, test init loss=4.876\n",
      "    [test] test top1=98.91%, test top5=94.58%, test loss=4.609\n",
      "[σ_w=2.00, α=0.05] training start!\n"
     ]
    },
    {
     "name": "stderr",
     "output_type": "stream",
     "text": [
      "100%|██████████| 15/15 [00:41<00:00,  2.77s/it]\n"
     ]
    },
    {
     "name": "stdout",
     "output_type": "stream",
     "text": [
      "    [save] → models/alpha_0.050_sigmaw_2.000_top50.559.pt\n",
      "    [λ] λ_a=+8.74374e-04, λ_g=+8.83166e-03, \n",
      "    [test init] test init top1=98.82%, test init top5=94.90%, test init loss=4.636\n",
      "    [test] test top1=81.09%, test top5=55.94%, test loss=3.415\n",
      "[σ_w=2.00, α=0.10] training start!\n"
     ]
    },
    {
     "name": "stderr",
     "output_type": "stream",
     "text": [
      "100%|██████████| 15/15 [00:41<00:00,  2.78s/it]\n"
     ]
    },
    {
     "name": "stdout",
     "output_type": "stream",
     "text": [
      "    [save] → models/alpha_0.097_sigmaw_2.000_top50.529.pt\n",
      "    [λ] λ_a=+2.07169e-02, λ_g=+2.70553e-02, \n",
      "    [test init] test init top1=98.94%, test init top5=95.17%, test init loss=4.673\n",
      "    [test] test top1=79.16%, test top5=52.87%, test loss=3.312\n",
      "[σ_w=2.00, α=0.14] training start!\n"
     ]
    },
    {
     "name": "stderr",
     "output_type": "stream",
     "text": [
      "100%|██████████| 15/15 [00:41<00:00,  2.78s/it]\n"
     ]
    },
    {
     "name": "stdout",
     "output_type": "stream",
     "text": [
      "    [save] → models/alpha_0.145_sigmaw_2.000_top50.524.pt\n",
      "    [λ] λ_a=+3.02172e-02, λ_g=+5.76583e-02, \n",
      "    [test init] test init top1=98.92%, test init top5=94.58%, test init loss=4.722\n",
      "    [test] test top1=78.55%, test top5=52.44%, test loss=3.300\n",
      "[σ_w=2.00, α=0.19] training start!\n"
     ]
    },
    {
     "name": "stderr",
     "output_type": "stream",
     "text": [
      "100%|██████████| 15/15 [00:41<00:00,  2.77s/it]\n"
     ]
    },
    {
     "name": "stdout",
     "output_type": "stream",
     "text": [
      "    [save] → models/alpha_0.192_sigmaw_2.000_top50.529.pt\n",
      "    [λ] λ_a=+5.62571e-02, λ_g=+3.14909e-02, \n",
      "    [test init] test init top1=99.07%, test init top5=95.28%, test init loss=4.765\n",
      "    [test] test top1=78.90%, test top5=52.87%, test loss=3.308\n",
      "[σ_w=2.00, α=0.24] training start!\n"
     ]
    },
    {
     "name": "stderr",
     "output_type": "stream",
     "text": [
      "100%|██████████| 15/15 [00:41<00:00,  2.77s/it]\n"
     ]
    },
    {
     "name": "stdout",
     "output_type": "stream",
     "text": [
      "    [save] → models/alpha_0.239_sigmaw_2.000_top50.533.pt\n",
      "    [λ] λ_a=+1.03849e-01, λ_g=+1.50510e-01, \n",
      "    [test init] test init top1=99.01%, test init top5=94.72%, test init loss=4.780\n",
      "    [test] test top1=79.16%, test top5=53.26%, test loss=3.327\n",
      "[σ_w=2.00, α=0.29] training start!\n"
     ]
    },
    {
     "name": "stderr",
     "output_type": "stream",
     "text": [
      "100%|██████████| 15/15 [00:41<00:00,  2.78s/it]\n"
     ]
    },
    {
     "name": "stdout",
     "output_type": "stream",
     "text": [
      "    [save] → models/alpha_0.287_sigmaw_2.000_top50.533.pt\n",
      "    [λ] λ_a=+7.61867e-02, λ_g=+1.24457e-01, \n",
      "    [test init] test init top1=99.14%, test init top5=95.44%, test init loss=4.837\n",
      "    [test] test top1=78.48%, test top5=53.29%, test loss=3.305\n",
      "[σ_w=2.00, α=0.33] training start!\n"
     ]
    },
    {
     "name": "stderr",
     "output_type": "stream",
     "text": [
      "100%|██████████| 15/15 [00:41<00:00,  2.77s/it]\n"
     ]
    },
    {
     "name": "stdout",
     "output_type": "stream",
     "text": [
      "    [save] → models/alpha_0.334_sigmaw_2.000_top50.555.pt\n",
      "    [λ] λ_a=-1.50592e-02, λ_g=+8.10005e-02, \n",
      "    [test init] test init top1=98.91%, test init top5=94.86%, test init loss=4.841\n",
      "    [test] test top1=80.79%, test top5=55.50%, test loss=3.404\n",
      "[σ_w=2.00, α=0.38] training start!\n"
     ]
    },
    {
     "name": "stderr",
     "output_type": "stream",
     "text": [
      "100%|██████████| 15/15 [00:41<00:00,  2.78s/it]\n"
     ]
    },
    {
     "name": "stdout",
     "output_type": "stream",
     "text": [
      "    [save] → models/alpha_0.382_sigmaw_2.000_top50.558.pt\n",
      "    [λ] λ_a=+1.12692e-01, λ_g=+1.11760e-01, \n",
      "    [test init] test init top1=99.01%, test init top5=94.89%, test init loss=4.831\n",
      "    [test] test top1=80.71%, test top5=55.80%, test loss=3.417\n",
      "[σ_w=2.00, α=0.43] training start!\n"
     ]
    },
    {
     "name": "stderr",
     "output_type": "stream",
     "text": [
      "100%|██████████| 15/15 [00:41<00:00,  2.77s/it]\n"
     ]
    },
    {
     "name": "stdout",
     "output_type": "stream",
     "text": [
      "    [save] → models/alpha_0.429_sigmaw_2.000_top50.563.pt\n",
      "    [λ] λ_a=+1.20140e-02, λ_g=+1.30008e-01, \n",
      "    [test init] test init top1=98.86%, test init top5=94.73%, test init loss=4.854\n",
      "    [test] test top1=80.99%, test top5=56.26%, test loss=3.423\n",
      "[σ_w=2.00, α=0.48] training start!\n"
     ]
    },
    {
     "name": "stderr",
     "output_type": "stream",
     "text": [
      "100%|██████████| 15/15 [00:41<00:00,  2.77s/it]\n"
     ]
    },
    {
     "name": "stdout",
     "output_type": "stream",
     "text": [
      "    [save] → models/alpha_0.476_sigmaw_2.000_top50.569.pt\n",
      "    [λ] λ_a=+2.07339e-01, λ_g=+2.28230e-01, \n",
      "    [test init] test init top1=99.11%, test init top5=95.20%, test init loss=4.850\n",
      "    [test] test top1=81.70%, test top5=56.89%, test loss=3.459\n",
      "[σ_w=2.00, α=0.52] training start!\n"
     ]
    },
    {
     "name": "stderr",
     "output_type": "stream",
     "text": [
      "100%|██████████| 15/15 [00:41<00:00,  2.77s/it]\n"
     ]
    },
    {
     "name": "stdout",
     "output_type": "stream",
     "text": [
      "    [save] → models/alpha_0.524_sigmaw_2.000_top50.607.pt\n",
      "    [λ] λ_a=+2.27365e-01, λ_g=+2.13699e-01, \n",
      "    [test init] test init top1=98.95%, test init top5=95.09%, test init loss=4.944\n",
      "    [test] test top1=84.09%, test top5=60.66%, test loss=3.577\n",
      "[σ_w=2.00, α=0.57] training start!\n"
     ]
    },
    {
     "name": "stderr",
     "output_type": "stream",
     "text": [
      "100%|██████████| 15/15 [00:41<00:00,  2.77s/it]\n"
     ]
    },
    {
     "name": "stdout",
     "output_type": "stream",
     "text": [
      "    [save] → models/alpha_0.571_sigmaw_2.000_top50.624.pt\n",
      "    [λ] λ_a=+4.86670e-02, λ_g=+2.21478e-01, \n",
      "    [test init] test init top1=99.00%, test init top5=95.21%, test init loss=4.884\n",
      "    [test] test top1=85.38%, test top5=62.44%, test loss=3.653\n",
      "[σ_w=2.00, α=0.62] training start!\n"
     ]
    },
    {
     "name": "stderr",
     "output_type": "stream",
     "text": [
      "100%|██████████| 15/15 [00:41<00:00,  2.77s/it]\n"
     ]
    },
    {
     "name": "stdout",
     "output_type": "stream",
     "text": [
      "    [save] → models/alpha_0.618_sigmaw_2.000_top50.655.pt\n",
      "    [λ] λ_a=+8.02500e-02, λ_g=+2.72287e-01, \n",
      "    [test init] test init top1=99.11%, test init top5=95.12%, test init loss=4.872\n",
      "    [test] test top1=87.56%, test top5=65.52%, test loss=3.759\n",
      "[σ_w=2.00, α=0.67] training start!\n"
     ]
    },
    {
     "name": "stderr",
     "output_type": "stream",
     "text": [
      "100%|██████████| 15/15 [00:41<00:00,  2.77s/it]\n"
     ]
    },
    {
     "name": "stdout",
     "output_type": "stream",
     "text": [
      "    [save] → models/alpha_0.666_sigmaw_2.000_top50.792.pt\n",
      "    [λ] λ_a=-1.24008e-01, λ_g=+2.42313e-01, \n",
      "    [test init] test init top1=99.08%, test init top5=95.36%, test init loss=4.923\n",
      "    [test] test top1=93.57%, test top5=79.15%, test loss=4.191\n",
      "[σ_w=2.00, α=0.71] training start!\n"
     ]
    },
    {
     "name": "stderr",
     "output_type": "stream",
     "text": [
      "100%|██████████| 15/15 [00:41<00:00,  2.77s/it]\n"
     ]
    },
    {
     "name": "stdout",
     "output_type": "stream",
     "text": [
      "    [save] → models/alpha_0.713_sigmaw_2.000_top50.778.pt\n",
      "    [λ] λ_a=-1.07818e-01, λ_g=+3.62271e-01, \n",
      "    [test init] test init top1=99.16%, test init top5=95.13%, test init loss=4.942\n",
      "    [test] test top1=93.49%, test top5=77.85%, test loss=4.159\n",
      "[σ_w=2.00, α=0.76] training start!\n"
     ]
    },
    {
     "name": "stderr",
     "output_type": "stream",
     "text": [
      "100%|██████████| 15/15 [00:41<00:00,  2.77s/it]\n"
     ]
    },
    {
     "name": "stdout",
     "output_type": "stream",
     "text": [
      "    [save] → models/alpha_0.761_sigmaw_2.000_top50.927.pt\n",
      "    [λ] λ_a=-2.01069e-01, λ_g=+2.44806e-01, \n",
      "    [test init] test init top1=98.99%, test init top5=94.88%, test init loss=4.938\n",
      "    [test] test top1=98.51%, test top5=92.71%, test loss=4.585\n",
      "[σ_w=2.00, α=0.81] training start!\n"
     ]
    },
    {
     "name": "stderr",
     "output_type": "stream",
     "text": [
      "100%|██████████| 15/15 [00:41<00:00,  2.77s/it]\n"
     ]
    },
    {
     "name": "stdout",
     "output_type": "stream",
     "text": [
      "    [save] → models/alpha_0.808_sigmaw_2.000_top50.850.pt\n",
      "    [λ] λ_a=-4.07341e-01, λ_g=+2.96884e-01, \n",
      "    [test init] test init top1=99.09%, test init top5=95.24%, test init loss=4.916\n",
      "    [test] test top1=96.13%, test top5=84.96%, test loss=4.380\n",
      "[σ_w=2.00, α=0.86] training start!\n"
     ]
    },
    {
     "name": "stderr",
     "output_type": "stream",
     "text": [
      "100%|██████████| 15/15 [00:41<00:00,  2.77s/it]\n"
     ]
    },
    {
     "name": "stdout",
     "output_type": "stream",
     "text": [
      "    [save] → models/alpha_0.855_sigmaw_2.000_top50.919.pt\n",
      "    [λ] λ_a=-4.66929e-01, λ_g=+1.40600e-01, \n",
      "    [test init] test init top1=98.97%, test init top5=95.16%, test init loss=4.946\n",
      "    [test] test top1=97.90%, test top5=91.87%, test loss=4.571\n",
      "[σ_w=2.00, α=0.90] training start!\n"
     ]
    },
    {
     "name": "stderr",
     "output_type": "stream",
     "text": [
      "100%|██████████| 15/15 [00:41<00:00,  2.77s/it]\n"
     ]
    },
    {
     "name": "stdout",
     "output_type": "stream",
     "text": [
      "    [save] → models/alpha_0.903_sigmaw_2.000_top50.949.pt\n",
      "    [λ] λ_a=-1.05118e+00, λ_g=+2.36331e-01, \n",
      "    [test init] test init top1=98.99%, test init top5=95.20%, test init loss=4.953\n",
      "    [test] test top1=98.95%, test top5=94.95%, test loss=4.614\n",
      "[σ_w=2.00, α=0.95] training start!\n"
     ]
    },
    {
     "name": "stderr",
     "output_type": "stream",
     "text": [
      "100%|██████████| 15/15 [00:41<00:00,  2.77s/it]\n"
     ]
    },
    {
     "name": "stdout",
     "output_type": "stream",
     "text": [
      "    [save] → models/alpha_0.950_sigmaw_2.000_top50.946.pt\n",
      "    [λ] λ_a=-1.51249e+00, λ_g=+6.59522e-01, \n",
      "    [test init] test init top1=98.99%, test init top5=95.14%, test init loss=4.995\n",
      "    [test] test top1=98.86%, test top5=94.55%, test loss=4.609\n",
      "[σ_w=2.20, α=0.05] training start!\n"
     ]
    },
    {
     "name": "stderr",
     "output_type": "stream",
     "text": [
      "100%|██████████| 15/15 [00:41<00:00,  2.77s/it]\n"
     ]
    },
    {
     "name": "stdout",
     "output_type": "stream",
     "text": [
      "    [save] → models/alpha_0.050_sigmaw_2.200_top50.586.pt\n",
      "    [λ] λ_a=+5.38793e-03, λ_g=+1.03447e-02, \n",
      "    [test init] test init top1=99.03%, test init top5=94.66%, test init loss=4.637\n",
      "    [test] test top1=82.36%, test top5=58.60%, test loss=3.506\n",
      "[σ_w=2.20, α=0.10] training start!\n"
     ]
    },
    {
     "name": "stderr",
     "output_type": "stream",
     "text": [
      "100%|██████████| 15/15 [00:41<00:00,  2.77s/it]\n"
     ]
    },
    {
     "name": "stdout",
     "output_type": "stream",
     "text": [
      "    [save] → models/alpha_0.097_sigmaw_2.200_top50.547.pt\n",
      "    [λ] λ_a=+1.74221e-02, λ_g=+2.68147e-02, \n",
      "    [test init] test init top1=98.82%, test init top5=94.78%, test init loss=4.677\n",
      "    [test] test top1=80.02%, test top5=54.66%, test loss=3.365\n",
      "[σ_w=2.20, α=0.14] training start!\n"
     ]
    },
    {
     "name": "stderr",
     "output_type": "stream",
     "text": [
      "100%|██████████| 15/15 [00:41<00:00,  2.77s/it]\n"
     ]
    },
    {
     "name": "stdout",
     "output_type": "stream",
     "text": [
      "    [save] → models/alpha_0.145_sigmaw_2.200_top50.535.pt\n",
      "    [λ] λ_a=+5.26583e-02, λ_g=+8.48225e-02, \n",
      "    [test init] test init top1=99.03%, test init top5=95.08%, test init loss=4.755\n",
      "    [test] test top1=79.26%, test top5=53.47%, test loss=3.334\n",
      "[σ_w=2.20, α=0.19] training start!\n"
     ]
    },
    {
     "name": "stderr",
     "output_type": "stream",
     "text": [
      "100%|██████████| 15/15 [00:41<00:00,  2.77s/it]\n"
     ]
    },
    {
     "name": "stdout",
     "output_type": "stream",
     "text": [
      "    [save] → models/alpha_0.192_sigmaw_2.200_top50.541.pt\n",
      "    [λ] λ_a=+1.21877e-01, λ_g=+1.07564e-01, \n",
      "    [test init] test init top1=98.87%, test init top5=95.15%, test init loss=4.800\n",
      "    [test] test top1=79.46%, test top5=54.11%, test loss=3.350\n",
      "[σ_w=2.20, α=0.24] training start!\n"
     ]
    },
    {
     "name": "stderr",
     "output_type": "stream",
     "text": [
      "100%|██████████| 15/15 [00:41<00:00,  2.77s/it]\n"
     ]
    },
    {
     "name": "stdout",
     "output_type": "stream",
     "text": [
      "    [save] → models/alpha_0.239_sigmaw_2.200_top50.530.pt\n",
      "    [λ] λ_a=+4.87797e-02, λ_g=+1.94754e-01, \n",
      "    [test init] test init top1=98.89%, test init top5=94.58%, test init loss=4.840\n",
      "    [test] test top1=79.20%, test top5=53.05%, test loss=3.317\n",
      "[σ_w=2.20, α=0.29] training start!\n"
     ]
    },
    {
     "name": "stderr",
     "output_type": "stream",
     "text": [
      "100%|██████████| 15/15 [00:41<00:00,  2.77s/it]\n"
     ]
    },
    {
     "name": "stdout",
     "output_type": "stream",
     "text": [
      "    [save] → models/alpha_0.287_sigmaw_2.200_top50.547.pt\n",
      "    [λ] λ_a=+2.23459e-01, λ_g=+2.19141e-01, \n",
      "    [test init] test init top1=99.05%, test init top5=95.07%, test init loss=4.863\n",
      "    [test] test top1=80.16%, test top5=54.74%, test loss=3.377\n",
      "[σ_w=2.20, α=0.33] training start!\n"
     ]
    },
    {
     "name": "stderr",
     "output_type": "stream",
     "text": [
      "100%|██████████| 15/15 [00:41<00:00,  2.77s/it]\n"
     ]
    },
    {
     "name": "stdout",
     "output_type": "stream",
     "text": [
      "    [save] → models/alpha_0.334_sigmaw_2.200_top50.545.pt\n",
      "    [λ] λ_a=+1.85596e-01, λ_g=+1.88096e-01, \n",
      "    [test init] test init top1=98.98%, test init top5=95.12%, test init loss=4.895\n",
      "    [test] test top1=80.04%, test top5=54.46%, test loss=3.375\n",
      "[σ_w=2.20, α=0.38] training start!\n"
     ]
    },
    {
     "name": "stderr",
     "output_type": "stream",
     "text": [
      "100%|██████████| 15/15 [00:41<00:00,  2.77s/it]\n"
     ]
    },
    {
     "name": "stdout",
     "output_type": "stream",
     "text": [
      "    [save] → models/alpha_0.382_sigmaw_2.200_top50.565.pt\n",
      "    [λ] λ_a=+2.38675e-01, λ_g=+2.58690e-01, \n",
      "    [test init] test init top1=98.93%, test init top5=95.35%, test init loss=4.888\n",
      "    [test] test top1=81.30%, test top5=56.47%, test loss=3.436\n",
      "[σ_w=2.20, α=0.43] training start!\n"
     ]
    },
    {
     "name": "stderr",
     "output_type": "stream",
     "text": [
      "100%|██████████| 15/15 [00:41<00:00,  2.77s/it]\n"
     ]
    },
    {
     "name": "stdout",
     "output_type": "stream",
     "text": [
      "    [save] → models/alpha_0.429_sigmaw_2.200_top50.605.pt\n",
      "    [λ] λ_a=+2.11679e-01, λ_g=+2.07751e-01, \n",
      "    [test init] test init top1=99.19%, test init top5=95.80%, test init loss=4.942\n",
      "    [test] test top1=83.67%, test top5=60.54%, test loss=3.574\n",
      "[σ_w=2.20, α=0.48] training start!\n"
     ]
    },
    {
     "name": "stderr",
     "output_type": "stream",
     "text": [
      "100%|██████████| 15/15 [00:41<00:00,  2.77s/it]\n"
     ]
    },
    {
     "name": "stdout",
     "output_type": "stream",
     "text": [
      "    [save] → models/alpha_0.476_sigmaw_2.200_top50.599.pt\n",
      "    [λ] λ_a=+1.72601e-01, λ_g=+4.52802e-01, \n",
      "    [test init] test init top1=99.06%, test init top5=95.31%, test init loss=4.932\n",
      "    [test] test top1=83.77%, test top5=59.90%, test loss=3.556\n",
      "[σ_w=2.20, α=0.52] training start!\n"
     ]
    },
    {
     "name": "stderr",
     "output_type": "stream",
     "text": [
      "100%|██████████| 15/15 [00:41<00:00,  2.77s/it]\n"
     ]
    },
    {
     "name": "stdout",
     "output_type": "stream",
     "text": [
      "    [save] → models/alpha_0.524_sigmaw_2.200_top50.637.pt\n",
      "    [λ] λ_a=+2.94310e-01, λ_g=+3.70398e-01, \n",
      "    [test init] test init top1=99.04%, test init top5=95.23%, test init loss=4.954\n",
      "    [test] test top1=86.24%, test top5=63.65%, test loss=3.706\n",
      "[σ_w=2.20, α=0.57] training start!\n"
     ]
    },
    {
     "name": "stderr",
     "output_type": "stream",
     "text": [
      "100%|██████████| 15/15 [00:41<00:00,  2.77s/it]\n"
     ]
    },
    {
     "name": "stdout",
     "output_type": "stream",
     "text": [
      "    [save] → models/alpha_0.571_sigmaw_2.200_top50.654.pt\n",
      "    [λ] λ_a=+1.71825e-01, λ_g=+4.68078e-01, \n",
      "    [test init] test init top1=98.98%, test init top5=94.88%, test init loss=4.924\n",
      "    [test] test top1=86.72%, test top5=65.40%, test loss=3.744\n",
      "[σ_w=2.20, α=0.62] training start!\n"
     ]
    },
    {
     "name": "stderr",
     "output_type": "stream",
     "text": [
      "100%|██████████| 15/15 [00:41<00:00,  2.77s/it]\n"
     ]
    },
    {
     "name": "stdout",
     "output_type": "stream",
     "text": [
      "    [save] → models/alpha_0.618_sigmaw_2.200_top50.737.pt\n",
      "    [λ] λ_a=+3.62656e-01, λ_g=+2.99476e-01, \n",
      "    [test init] test init top1=98.95%, test init top5=94.93%, test init loss=4.927\n",
      "    [test] test top1=91.54%, test top5=73.71%, test loss=4.029\n",
      "[σ_w=2.20, α=0.67] training start!\n"
     ]
    },
    {
     "name": "stderr",
     "output_type": "stream",
     "text": [
      "100%|██████████| 15/15 [00:41<00:00,  2.77s/it]\n"
     ]
    },
    {
     "name": "stdout",
     "output_type": "stream",
     "text": [
      "    [save] → models/alpha_0.666_sigmaw_2.200_top50.806.pt\n",
      "    [λ] λ_a=+5.54422e-02, λ_g=+4.45007e-01, \n",
      "    [test init] test init top1=98.94%, test init top5=94.72%, test init loss=4.909\n",
      "    [test] test top1=94.43%, test top5=80.60%, test loss=4.262\n",
      "[σ_w=2.20, α=0.71] training start!\n"
     ]
    },
    {
     "name": "stderr",
     "output_type": "stream",
     "text": [
      "100%|██████████| 15/15 [00:41<00:00,  2.77s/it]\n"
     ]
    },
    {
     "name": "stdout",
     "output_type": "stream",
     "text": [
      "    [save] → models/alpha_0.713_sigmaw_2.200_top50.841.pt\n",
      "    [λ] λ_a=-4.16432e-02, λ_g=+6.23821e-01, \n",
      "    [test init] test init top1=99.18%, test init top5=95.41%, test init loss=5.008\n",
      "    [test] test top1=95.68%, test top5=84.06%, test loss=4.366\n",
      "[σ_w=2.20, α=0.76] training start!\n"
     ]
    },
    {
     "name": "stderr",
     "output_type": "stream",
     "text": [
      "100%|██████████| 15/15 [00:41<00:00,  2.77s/it]\n"
     ]
    },
    {
     "name": "stdout",
     "output_type": "stream",
     "text": [
      "    [save] → models/alpha_0.761_sigmaw_2.200_top50.912.pt\n",
      "    [λ] λ_a=-1.32221e-01, λ_g=+3.72437e-01, \n",
      "    [test init] test init top1=99.08%, test init top5=94.93%, test init loss=4.957\n",
      "    [test] test top1=98.04%, test top5=91.19%, test loss=4.548\n",
      "[σ_w=2.20, α=0.81] training start!\n"
     ]
    },
    {
     "name": "stderr",
     "output_type": "stream",
     "text": [
      "100%|██████████| 15/15 [00:41<00:00,  2.77s/it]\n"
     ]
    },
    {
     "name": "stdout",
     "output_type": "stream",
     "text": [
      "    [save] → models/alpha_0.808_sigmaw_2.200_top50.886.pt\n",
      "    [λ] λ_a=-2.56275e-01, λ_g=+5.32297e-01, \n",
      "    [test init] test init top1=98.93%, test init top5=95.07%, test init loss=4.981\n",
      "    [test] test top1=97.13%, test top5=88.65%, test loss=4.459\n",
      "[σ_w=2.20, α=0.86] training start!\n"
     ]
    },
    {
     "name": "stderr",
     "output_type": "stream",
     "text": [
      "100%|██████████| 15/15 [00:41<00:00,  2.77s/it]\n"
     ]
    },
    {
     "name": "stdout",
     "output_type": "stream",
     "text": [
      "    [save] → models/alpha_0.855_sigmaw_2.200_top50.919.pt\n",
      "    [λ] λ_a=-4.69251e-01, λ_g=+4.12869e-01, \n",
      "    [test init] test init top1=98.88%, test init top5=95.09%, test init loss=5.003\n",
      "    [test] test top1=98.30%, test top5=91.92%, test loss=4.563\n",
      "[σ_w=2.20, α=0.90] training start!\n"
     ]
    },
    {
     "name": "stderr",
     "output_type": "stream",
     "text": [
      "100%|██████████| 15/15 [00:41<00:00,  2.77s/it]\n"
     ]
    },
    {
     "name": "stdout",
     "output_type": "stream",
     "text": [
      "    [save] → models/alpha_0.903_sigmaw_2.200_top50.917.pt\n",
      "    [λ] λ_a=-7.84914e-01, λ_g=+4.33947e-01, \n",
      "    [test init] test init top1=98.99%, test init top5=94.91%, test init loss=5.013\n",
      "    [test] test top1=98.10%, test top5=91.73%, test loss=4.553\n",
      "[σ_w=2.20, α=0.95] training start!\n"
     ]
    },
    {
     "name": "stderr",
     "output_type": "stream",
     "text": [
      "100%|██████████| 15/15 [00:41<00:00,  2.78s/it]\n"
     ]
    },
    {
     "name": "stdout",
     "output_type": "stream",
     "text": [
      "    [save] → models/alpha_0.950_sigmaw_2.200_top50.948.pt\n",
      "    [λ] λ_a=-1.27749e+00, λ_g=+5.60239e-01, \n",
      "    [test init] test init top1=99.02%, test init top5=95.03%, test init loss=5.039\n",
      "    [test] test top1=98.94%, test top5=94.82%, test loss=4.616\n",
      "[σ_w=2.40, α=0.05] training start!\n"
     ]
    },
    {
     "name": "stderr",
     "output_type": "stream",
     "text": [
      "100%|██████████| 15/15 [00:41<00:00,  2.77s/it]\n"
     ]
    },
    {
     "name": "stdout",
     "output_type": "stream",
     "text": [
      "    [save] → models/alpha_0.050_sigmaw_2.400_top50.577.pt\n",
      "    [λ] λ_a=+1.64822e-02, λ_g=+1.51217e-02, \n",
      "    [test init] test init top1=99.14%, test init top5=95.33%, test init loss=4.650\n",
      "    [test] test top1=82.17%, test top5=57.75%, test loss=3.499\n",
      "[σ_w=2.40, α=0.10] training start!\n"
     ]
    },
    {
     "name": "stderr",
     "output_type": "stream",
     "text": [
      "100%|██████████| 15/15 [00:41<00:00,  2.77s/it]\n"
     ]
    },
    {
     "name": "stdout",
     "output_type": "stream",
     "text": [
      "    [save] → models/alpha_0.097_sigmaw_2.400_top50.557.pt\n",
      "    [λ] λ_a=+3.01682e-02, λ_g=+5.64016e-02, \n",
      "    [test init] test init top1=99.03%, test init top5=95.13%, test init loss=4.713\n",
      "    [test] test top1=80.60%, test top5=55.70%, test loss=3.402\n",
      "[σ_w=2.40, α=0.14] training start!\n"
     ]
    },
    {
     "name": "stderr",
     "output_type": "stream",
     "text": [
      "100%|██████████| 15/15 [00:41<00:00,  2.77s/it]\n"
     ]
    },
    {
     "name": "stdout",
     "output_type": "stream",
     "text": [
      "    [save] → models/alpha_0.145_sigmaw_2.400_top50.547.pt\n",
      "    [λ] λ_a=+1.05587e-01, λ_g=+1.14777e-01, \n",
      "    [test init] test init top1=98.95%, test init top5=95.18%, test init loss=4.810\n",
      "    [test] test top1=79.96%, test top5=54.67%, test loss=3.370\n",
      "[σ_w=2.40, α=0.19] training start!\n"
     ]
    },
    {
     "name": "stderr",
     "output_type": "stream",
     "text": [
      "100%|██████████| 15/15 [00:41<00:00,  2.77s/it]\n"
     ]
    },
    {
     "name": "stdout",
     "output_type": "stream",
     "text": [
      "    [save] → models/alpha_0.192_sigmaw_2.400_top50.564.pt\n",
      "    [λ] λ_a=+1.42359e-01, λ_g=+1.22249e-01, \n",
      "    [test init] test init top1=98.99%, test init top5=94.95%, test init loss=4.841\n",
      "    [test] test top1=80.85%, test top5=56.36%, test loss=3.430\n",
      "[σ_w=2.40, α=0.24] training start!\n"
     ]
    },
    {
     "name": "stderr",
     "output_type": "stream",
     "text": [
      "100%|██████████| 15/15 [00:41<00:00,  2.77s/it]\n"
     ]
    },
    {
     "name": "stdout",
     "output_type": "stream",
     "text": [
      "    [save] → models/alpha_0.239_sigmaw_2.400_top50.563.pt\n",
      "    [λ] λ_a=+2.08526e-01, λ_g=+2.14285e-01, \n",
      "    [test init] test init top1=99.06%, test init top5=95.30%, test init loss=4.861\n",
      "    [test] test top1=81.09%, test top5=56.30%, test loss=3.426\n",
      "[σ_w=2.40, α=0.29] training start!\n"
     ]
    },
    {
     "name": "stderr",
     "output_type": "stream",
     "text": [
      "100%|██████████| 15/15 [00:41<00:00,  2.77s/it]\n"
     ]
    },
    {
     "name": "stdout",
     "output_type": "stream",
     "text": [
      "    [save] → models/alpha_0.287_sigmaw_2.400_top50.573.pt\n",
      "    [λ] λ_a=+2.92880e-01, λ_g=+2.88590e-01, \n",
      "    [test init] test init top1=99.05%, test init top5=95.22%, test init loss=4.967\n",
      "    [test] test top1=81.63%, test top5=57.29%, test loss=3.467\n",
      "[σ_w=2.40, α=0.33] training start!\n"
     ]
    },
    {
     "name": "stderr",
     "output_type": "stream",
     "text": [
      "100%|██████████| 15/15 [00:41<00:00,  2.77s/it]\n"
     ]
    },
    {
     "name": "stdout",
     "output_type": "stream",
     "text": [
      "    [save] → models/alpha_0.334_sigmaw_2.400_top50.587.pt\n",
      "    [λ] λ_a=+2.98970e-01, λ_g=+2.92302e-01, \n",
      "    [test init] test init top1=99.00%, test init top5=94.94%, test init loss=4.965\n",
      "    [test] test top1=82.52%, test top5=58.68%, test loss=3.510\n",
      "[σ_w=2.40, α=0.38] training start!\n"
     ]
    },
    {
     "name": "stderr",
     "output_type": "stream",
     "text": [
      "100%|██████████| 15/15 [00:41<00:00,  2.77s/it]\n"
     ]
    },
    {
     "name": "stdout",
     "output_type": "stream",
     "text": [
      "    [save] → models/alpha_0.382_sigmaw_2.400_top50.615.pt\n",
      "    [λ] λ_a=+4.09583e-01, λ_g=+3.85775e-01, \n",
      "    [test init] test init top1=99.01%, test init top5=95.28%, test init loss=4.961\n",
      "    [test] test top1=84.64%, test top5=61.50%, test loss=3.618\n",
      "[σ_w=2.40, α=0.43] training start!\n"
     ]
    },
    {
     "name": "stderr",
     "output_type": "stream",
     "text": [
      "100%|██████████| 15/15 [00:41<00:00,  2.77s/it]\n"
     ]
    },
    {
     "name": "stdout",
     "output_type": "stream",
     "text": [
      "    [save] → models/alpha_0.429_sigmaw_2.400_top50.599.pt\n",
      "    [λ] λ_a=+3.39488e-01, λ_g=+4.54537e-01, \n",
      "    [test init] test init top1=99.12%, test init top5=95.19%, test init loss=4.989\n",
      "    [test] test top1=83.12%, test top5=59.94%, test loss=3.562\n",
      "[σ_w=2.40, α=0.48] training start!\n"
     ]
    },
    {
     "name": "stderr",
     "output_type": "stream",
     "text": [
      "100%|██████████| 15/15 [00:41<00:00,  2.77s/it]\n"
     ]
    },
    {
     "name": "stdout",
     "output_type": "stream",
     "text": [
      "    [save] → models/alpha_0.476_sigmaw_2.400_top50.657.pt\n",
      "    [λ] λ_a=+3.26284e-01, λ_g=+5.38953e-01, \n",
      "    [test init] test init top1=98.95%, test init top5=95.06%, test init loss=4.953\n",
      "    [test] test top1=87.26%, test top5=65.66%, test loss=3.770\n",
      "[σ_w=2.40, α=0.52] training start!\n"
     ]
    },
    {
     "name": "stderr",
     "output_type": "stream",
     "text": [
      "100%|██████████| 15/15 [00:41<00:00,  2.77s/it]\n"
     ]
    },
    {
     "name": "stdout",
     "output_type": "stream",
     "text": [
      "    [save] → models/alpha_0.524_sigmaw_2.400_top50.706.pt\n",
      "    [λ] λ_a=+4.96266e-01, λ_g=+4.12678e-01, \n",
      "    [test init] test init top1=98.84%, test init top5=94.69%, test init loss=4.976\n",
      "    [test] test top1=90.11%, test top5=70.61%, test loss=3.936\n",
      "[σ_w=2.40, α=0.57] training start!\n"
     ]
    },
    {
     "name": "stderr",
     "output_type": "stream",
     "text": [
      "100%|██████████| 15/15 [00:41<00:00,  2.77s/it]\n"
     ]
    },
    {
     "name": "stdout",
     "output_type": "stream",
     "text": [
      "    [save] → models/alpha_0.571_sigmaw_2.400_top50.744.pt\n",
      "    [λ] λ_a=+2.04585e-01, λ_g=+6.74547e-01, \n",
      "    [test init] test init top1=98.98%, test init top5=95.07%, test init loss=5.020\n",
      "    [test] test top1=91.79%, test top5=74.39%, test loss=4.057\n",
      "[σ_w=2.40, α=0.62] training start!\n"
     ]
    },
    {
     "name": "stderr",
     "output_type": "stream",
     "text": [
      "100%|██████████| 15/15 [00:41<00:00,  2.77s/it]\n"
     ]
    },
    {
     "name": "stdout",
     "output_type": "stream",
     "text": [
      "    [save] → models/alpha_0.618_sigmaw_2.400_top50.765.pt\n",
      "    [λ] λ_a=+2.87119e-01, λ_g=+5.56388e-01, \n",
      "    [test init] test init top1=99.07%, test init top5=95.18%, test init loss=5.022\n",
      "    [test] test top1=92.54%, test top5=76.51%, test loss=4.117\n",
      "[σ_w=2.40, α=0.67] training start!\n"
     ]
    },
    {
     "name": "stderr",
     "output_type": "stream",
     "text": [
      "100%|██████████| 15/15 [00:41<00:00,  2.77s/it]\n"
     ]
    },
    {
     "name": "stdout",
     "output_type": "stream",
     "text": [
      "    [save] → models/alpha_0.666_sigmaw_2.400_top50.839.pt\n",
      "    [λ] λ_a=+8.78279e-02, λ_g=+6.04575e-01, \n",
      "    [test init] test init top1=99.10%, test init top5=95.22%, test init loss=5.037\n",
      "    [test] test top1=95.32%, test top5=83.86%, test loss=4.348\n",
      "[σ_w=2.40, α=0.71] training start!\n"
     ]
    },
    {
     "name": "stderr",
     "output_type": "stream",
     "text": [
      "100%|██████████| 15/15 [00:41<00:00,  2.77s/it]\n"
     ]
    },
    {
     "name": "stdout",
     "output_type": "stream",
     "text": [
      "    [save] → models/alpha_0.713_sigmaw_2.400_top50.810.pt\n",
      "    [λ] λ_a=+4.19813e-02, λ_g=+6.06792e-01, \n",
      "    [test init] test init top1=99.09%, test init top5=95.18%, test init loss=5.022\n",
      "    [test] test top1=94.50%, test top5=81.01%, test loss=4.246\n",
      "[σ_w=2.40, α=0.76] training start!\n"
     ]
    },
    {
     "name": "stderr",
     "output_type": "stream",
     "text": [
      "100%|██████████| 15/15 [00:41<00:00,  2.77s/it]\n"
     ]
    },
    {
     "name": "stdout",
     "output_type": "stream",
     "text": [
      "    [save] → models/alpha_0.761_sigmaw_2.400_top50.888.pt\n",
      "    [λ] λ_a=-7.68641e-02, λ_g=+6.59104e-01, \n",
      "    [test init] test init top1=98.97%, test init top5=95.15%, test init loss=5.031\n",
      "    [test] test top1=97.22%, test top5=88.83%, test loss=4.491\n",
      "[σ_w=2.40, α=0.81] training start!\n"
     ]
    },
    {
     "name": "stderr",
     "output_type": "stream",
     "text": [
      "100%|██████████| 15/15 [00:41<00:00,  2.77s/it]\n"
     ]
    },
    {
     "name": "stdout",
     "output_type": "stream",
     "text": [
      "    [save] → models/alpha_0.808_sigmaw_2.400_top50.920.pt\n",
      "    [λ] λ_a=-4.06375e-01, λ_g=+6.34896e-01, \n",
      "    [test init] test init top1=99.02%, test init top5=94.88%, test init loss=5.061\n",
      "    [test] test top1=98.28%, test top5=92.02%, test loss=4.579\n",
      "[σ_w=2.40, α=0.86] training start!\n"
     ]
    },
    {
     "name": "stderr",
     "output_type": "stream",
     "text": [
      "100%|██████████| 15/15 [00:41<00:00,  2.77s/it]\n"
     ]
    },
    {
     "name": "stdout",
     "output_type": "stream",
     "text": [
      "    [save] → models/alpha_0.855_sigmaw_2.400_top50.926.pt\n",
      "    [λ] λ_a=-4.23295e-01, λ_g=+4.26914e-01, \n",
      "    [test init] test init top1=99.05%, test init top5=95.31%, test init loss=5.097\n",
      "    [test] test top1=98.34%, test top5=92.58%, test loss=4.571\n",
      "[σ_w=2.40, α=0.90] training start!\n"
     ]
    },
    {
     "name": "stderr",
     "output_type": "stream",
     "text": [
      "100%|██████████| 15/15 [00:41<00:00,  2.77s/it]\n"
     ]
    },
    {
     "name": "stdout",
     "output_type": "stream",
     "text": [
      "    [save] → models/alpha_0.903_sigmaw_2.400_top50.949.pt\n",
      "    [λ] λ_a=-8.01490e-01, λ_g=+6.57297e-01, \n",
      "    [test init] test init top1=99.14%, test init top5=95.19%, test init loss=5.084\n",
      "    [test] test top1=98.99%, test top5=94.92%, test loss=4.618\n",
      "[σ_w=2.40, α=0.95] training start!\n"
     ]
    },
    {
     "name": "stderr",
     "output_type": "stream",
     "text": [
      "100%|██████████| 15/15 [00:41<00:00,  2.77s/it]\n"
     ]
    },
    {
     "name": "stdout",
     "output_type": "stream",
     "text": [
      "    [save] → models/alpha_0.950_sigmaw_2.400_top50.948.pt\n",
      "    [λ] λ_a=-1.27448e+00, λ_g=+6.39011e-01, \n",
      "    [test init] test init top1=99.07%, test init top5=95.16%, test init loss=5.150\n",
      "    [test] test top1=98.84%, test top5=94.78%, test loss=4.615\n",
      "[σ_w=2.60, α=0.05] training start!\n"
     ]
    },
    {
     "name": "stderr",
     "output_type": "stream",
     "text": [
      "100%|██████████| 15/15 [00:41<00:00,  2.78s/it]\n"
     ]
    },
    {
     "name": "stdout",
     "output_type": "stream",
     "text": [
      "    [save] → models/alpha_0.050_sigmaw_2.600_top50.581.pt\n",
      "    [λ] λ_a=+1.65892e-02, λ_g=+2.24066e-02, \n",
      "    [test init] test init top1=98.82%, test init top5=94.79%, test init loss=4.647\n",
      "    [test] test top1=82.20%, test top5=58.07%, test loss=3.499\n",
      "[σ_w=2.60, α=0.10] training start!\n"
     ]
    },
    {
     "name": "stderr",
     "output_type": "stream",
     "text": [
      "100%|██████████| 15/15 [00:41<00:00,  2.78s/it]\n"
     ]
    },
    {
     "name": "stdout",
     "output_type": "stream",
     "text": [
      "    [save] → models/alpha_0.097_sigmaw_2.600_top50.559.pt\n",
      "    [λ] λ_a=+5.31438e-02, λ_g=+7.34158e-02, \n",
      "    [test init] test init top1=99.10%, test init top5=95.03%, test init loss=4.738\n",
      "    [test] test top1=80.85%, test top5=55.87%, test loss=3.416\n",
      "[σ_w=2.60, α=0.14] training start!\n"
     ]
    },
    {
     "name": "stderr",
     "output_type": "stream",
     "text": [
      "100%|██████████| 15/15 [00:41<00:00,  2.78s/it]\n"
     ]
    },
    {
     "name": "stdout",
     "output_type": "stream",
     "text": [
      "    [save] → models/alpha_0.145_sigmaw_2.600_top50.573.pt\n",
      "    [λ] λ_a=+1.54928e-01, λ_g=+1.11969e-01, \n",
      "    [test init] test init top1=98.95%, test init top5=94.70%, test init loss=4.795\n",
      "    [test] test top1=81.70%, test top5=57.29%, test loss=3.460\n",
      "[σ_w=2.60, α=0.19] training start!\n"
     ]
    },
    {
     "name": "stderr",
     "output_type": "stream",
     "text": [
      "100%|██████████| 15/15 [00:41<00:00,  2.77s/it]\n"
     ]
    },
    {
     "name": "stdout",
     "output_type": "stream",
     "text": [
      "    [save] → models/alpha_0.192_sigmaw_2.600_top50.576.pt\n",
      "    [λ] λ_a=+1.98369e-01, λ_g=+2.73765e-01, \n",
      "    [test init] test init top1=98.97%, test init top5=95.02%, test init loss=4.913\n",
      "    [test] test top1=81.89%, test top5=57.62%, test loss=3.471\n",
      "[σ_w=2.60, α=0.24] training start!\n"
     ]
    },
    {
     "name": "stderr",
     "output_type": "stream",
     "text": [
      "100%|██████████| 15/15 [00:41<00:00,  2.78s/it]\n"
     ]
    },
    {
     "name": "stdout",
     "output_type": "stream",
     "text": [
      "    [save] → models/alpha_0.239_sigmaw_2.600_top50.578.pt\n",
      "    [λ] λ_a=+2.67363e-01, λ_g=+2.62960e-01, \n",
      "    [test init] test init top1=99.03%, test init top5=95.45%, test init loss=4.962\n",
      "    [test] test top1=81.81%, test top5=57.79%, test loss=3.480\n",
      "[σ_w=2.60, α=0.29] training start!\n"
     ]
    },
    {
     "name": "stderr",
     "output_type": "stream",
     "text": [
      "100%|██████████| 15/15 [00:41<00:00,  2.77s/it]\n"
     ]
    },
    {
     "name": "stdout",
     "output_type": "stream",
     "text": [
      "    [save] → models/alpha_0.287_sigmaw_2.600_top50.596.pt\n",
      "    [λ] λ_a=+3.61973e-01, λ_g=+3.68077e-01, \n",
      "    [test init] test init top1=99.07%, test init top5=95.12%, test init loss=5.008\n",
      "    [test] test top1=83.29%, test top5=59.60%, test loss=3.542\n",
      "[σ_w=2.60, α=0.33] training start!\n"
     ]
    },
    {
     "name": "stderr",
     "output_type": "stream",
     "text": [
      "100%|██████████| 15/15 [00:41<00:00,  2.77s/it]\n"
     ]
    },
    {
     "name": "stdout",
     "output_type": "stream",
     "text": [
      "    [save] → models/alpha_0.334_sigmaw_2.600_top50.600.pt\n",
      "    [λ] λ_a=+3.92271e-01, λ_g=+4.48128e-01, \n",
      "    [test init] test init top1=99.00%, test init top5=94.97%, test init loss=5.105\n",
      "    [test] test top1=84.07%, test top5=60.05%, test loss=3.561\n",
      "[σ_w=2.60, α=0.38] training start!\n"
     ]
    },
    {
     "name": "stderr",
     "output_type": "stream",
     "text": [
      "100%|██████████| 15/15 [00:41<00:00,  2.79s/it]\n"
     ]
    },
    {
     "name": "stdout",
     "output_type": "stream",
     "text": [
      "    [save] → models/alpha_0.382_sigmaw_2.600_top50.654.pt\n",
      "    [λ] λ_a=+4.34650e-01, λ_g=+4.66209e-01, \n",
      "    [test init] test init top1=98.86%, test init top5=95.16%, test init loss=5.024\n",
      "    [test] test top1=86.93%, test top5=65.37%, test loss=3.755\n",
      "[σ_w=2.60, α=0.43] training start!\n"
     ]
    },
    {
     "name": "stderr",
     "output_type": "stream",
     "text": [
      "100%|██████████| 15/15 [00:41<00:00,  2.78s/it]\n"
     ]
    },
    {
     "name": "stdout",
     "output_type": "stream",
     "text": [
      "    [save] → models/alpha_0.429_sigmaw_2.600_top50.689.pt\n",
      "    [λ] λ_a=+4.04413e-01, λ_g=+4.34386e-01, \n",
      "    [test init] test init top1=99.04%, test init top5=95.06%, test init loss=5.050\n",
      "    [test] test top1=88.63%, test top5=68.94%, test loss=3.877\n",
      "[σ_w=2.60, α=0.48] training start!\n"
     ]
    },
    {
     "name": "stderr",
     "output_type": "stream",
     "text": [
      "100%|██████████| 15/15 [00:41<00:00,  2.78s/it]\n"
     ]
    },
    {
     "name": "stdout",
     "output_type": "stream",
     "text": [
      "    [save] → models/alpha_0.476_sigmaw_2.600_top50.696.pt\n",
      "    [λ] λ_a=+5.32889e-01, λ_g=+6.31099e-01, \n",
      "    [test init] test init top1=98.95%, test init top5=94.89%, test init loss=5.077\n",
      "    [test] test top1=89.27%, test top5=69.64%, test loss=3.910\n",
      "[σ_w=2.60, α=0.52] training start!\n"
     ]
    },
    {
     "name": "stderr",
     "output_type": "stream",
     "text": [
      "100%|██████████| 15/15 [00:41<00:00,  2.77s/it]\n"
     ]
    },
    {
     "name": "stdout",
     "output_type": "stream",
     "text": [
      "    [save] → models/alpha_0.524_sigmaw_2.600_top50.712.pt\n",
      "    [λ] λ_a=+5.55389e-01, λ_g=+7.08297e-01, \n",
      "    [test init] test init top1=98.95%, test init top5=95.03%, test init loss=5.045\n",
      "    [test] test top1=90.22%, test top5=71.20%, test loss=3.957\n",
      "[σ_w=2.60, α=0.57] training start!\n"
     ]
    },
    {
     "name": "stderr",
     "output_type": "stream",
     "text": [
      "100%|██████████| 15/15 [00:41<00:00,  2.78s/it]\n"
     ]
    },
    {
     "name": "stdout",
     "output_type": "stream",
     "text": [
      "    [save] → models/alpha_0.571_sigmaw_2.600_top50.817.pt\n",
      "    [λ] λ_a=+5.05669e-01, λ_g=+7.37804e-01, \n",
      "    [test init] test init top1=98.90%, test init top5=94.79%, test init loss=5.088\n",
      "    [test] test top1=94.69%, test top5=81.71%, test loss=4.293\n",
      "[σ_w=2.60, α=0.62] training start!\n"
     ]
    },
    {
     "name": "stderr",
     "output_type": "stream",
     "text": [
      "100%|██████████| 15/15 [00:41<00:00,  2.78s/it]\n"
     ]
    },
    {
     "name": "stdout",
     "output_type": "stream",
     "text": [
      "    [save] → models/alpha_0.618_sigmaw_2.600_top50.864.pt\n",
      "    [λ] λ_a=+4.44117e-01, λ_g=+7.80969e-01, \n",
      "    [test init] test init top1=98.94%, test init top5=95.14%, test init loss=5.091\n",
      "    [test] test top1=96.49%, test top5=86.43%, test loss=4.421\n",
      "[σ_w=2.60, α=0.67] training start!\n"
     ]
    },
    {
     "name": "stderr",
     "output_type": "stream",
     "text": [
      "100%|██████████| 15/15 [00:41<00:00,  2.78s/it]\n"
     ]
    },
    {
     "name": "stdout",
     "output_type": "stream",
     "text": [
      "    [save] → models/alpha_0.666_sigmaw_2.600_top50.875.pt\n",
      "    [λ] λ_a=+4.30838e-01, λ_g=+8.25503e-01, \n",
      "    [test init] test init top1=99.03%, test init top5=95.02%, test init loss=5.114\n",
      "    [test] test top1=96.85%, test top5=87.50%, test loss=4.462\n",
      "[σ_w=2.60, α=0.71] training start!\n"
     ]
    },
    {
     "name": "stderr",
     "output_type": "stream",
     "text": [
      "100%|██████████| 15/15 [00:41<00:00,  2.78s/it]\n"
     ]
    },
    {
     "name": "stdout",
     "output_type": "stream",
     "text": [
      "    [save] → models/alpha_0.713_sigmaw_2.600_top50.879.pt\n",
      "    [λ] λ_a=+3.68120e-01, λ_g=+7.23560e-01, \n",
      "    [test init] test init top1=98.84%, test init top5=94.80%, test init loss=5.125\n",
      "    [test] test top1=97.01%, test top5=87.94%, test loss=4.468\n",
      "[σ_w=2.60, α=0.76] training start!\n"
     ]
    },
    {
     "name": "stderr",
     "output_type": "stream",
     "text": [
      "100%|██████████| 15/15 [00:41<00:00,  2.79s/it]\n"
     ]
    },
    {
     "name": "stdout",
     "output_type": "stream",
     "text": [
      "    [save] → models/alpha_0.761_sigmaw_2.600_top50.893.pt\n",
      "    [λ] λ_a=-5.48757e-03, λ_g=+9.83364e-01, \n",
      "    [test init] test init top1=99.01%, test init top5=95.12%, test init loss=5.136\n",
      "    [test] test top1=97.49%, test top5=89.28%, test loss=4.490\n",
      "[σ_w=2.60, α=0.81] training start!\n"
     ]
    },
    {
     "name": "stderr",
     "output_type": "stream",
     "text": [
      "100%|██████████| 15/15 [00:41<00:00,  2.78s/it]\n"
     ]
    },
    {
     "name": "stdout",
     "output_type": "stream",
     "text": [
      "    [save] → models/alpha_0.808_sigmaw_2.600_top50.913.pt\n",
      "    [λ] λ_a=+3.53868e-02, λ_g=+6.13126e-01, \n",
      "    [test init] test init top1=98.92%, test init top5=94.95%, test init loss=5.159\n",
      "    [test] test top1=97.96%, test top5=91.27%, test loss=4.549\n",
      "[σ_w=2.60, α=0.86] training start!\n"
     ]
    },
    {
     "name": "stderr",
     "output_type": "stream",
     "text": [
      "100%|██████████| 15/15 [00:41<00:00,  2.77s/it]\n"
     ]
    },
    {
     "name": "stdout",
     "output_type": "stream",
     "text": [
      "    [save] → models/alpha_0.855_sigmaw_2.600_top50.945.pt\n",
      "    [λ] λ_a=-3.09702e-01, λ_g=+6.61393e-01, \n",
      "    [test init] test init top1=98.96%, test init top5=95.16%, test init loss=5.170\n",
      "    [test] test top1=98.93%, test top5=94.55%, test loss=4.614\n",
      "[σ_w=2.60, α=0.90] training start!\n"
     ]
    },
    {
     "name": "stderr",
     "output_type": "stream",
     "text": [
      "100%|██████████| 15/15 [00:41<00:00,  2.77s/it]\n"
     ]
    },
    {
     "name": "stdout",
     "output_type": "stream",
     "text": [
      "    [save] → models/alpha_0.903_sigmaw_2.600_top50.917.pt\n",
      "    [λ] λ_a=-5.70300e-01, λ_g=+7.01422e-01, \n",
      "    [test init] test init top1=99.05%, test init top5=94.91%, test init loss=5.220\n",
      "    [test] test top1=98.30%, test top5=91.72%, test loss=4.570\n",
      "[σ_w=2.60, α=0.95] training start!\n"
     ]
    },
    {
     "name": "stderr",
     "output_type": "stream",
     "text": [
      "100%|██████████| 15/15 [00:41<00:00,  2.77s/it]\n"
     ]
    },
    {
     "name": "stdout",
     "output_type": "stream",
     "text": [
      "    [save] → models/alpha_0.950_sigmaw_2.600_top50.948.pt\n",
      "    [λ] λ_a=-1.32339e+00, λ_g=+1.06285e+00, \n",
      "    [test init] test init top1=99.00%, test init top5=95.21%, test init loss=5.291\n",
      "    [test] test top1=98.91%, test top5=94.78%, test loss=4.615\n",
      "[σ_w=2.80, α=0.05] training start!\n"
     ]
    },
    {
     "name": "stderr",
     "output_type": "stream",
     "text": [
      "100%|██████████| 15/15 [00:41<00:00,  2.77s/it]\n"
     ]
    },
    {
     "name": "stdout",
     "output_type": "stream",
     "text": [
      "    [save] → models/alpha_0.050_sigmaw_2.800_top50.575.pt\n",
      "    [λ] λ_a=+4.00592e-02, λ_g=+3.93763e-02, \n",
      "    [test init] test init top1=99.12%, test init top5=95.24%, test init loss=4.666\n",
      "    [test] test top1=82.07%, test top5=57.53%, test loss=3.486\n",
      "[σ_w=2.80, α=0.10] training start!\n"
     ]
    },
    {
     "name": "stderr",
     "output_type": "stream",
     "text": [
      "100%|██████████| 15/15 [00:41<00:00,  2.77s/it]\n"
     ]
    },
    {
     "name": "stdout",
     "output_type": "stream",
     "text": [
      "    [save] → models/alpha_0.097_sigmaw_2.800_top50.577.pt\n",
      "    [λ] λ_a=+1.35456e-01, λ_g=+1.16932e-01, \n",
      "    [test init] test init top1=99.10%, test init top5=95.33%, test init loss=4.749\n",
      "    [test] test top1=82.18%, test top5=57.75%, test loss=3.482\n",
      "[σ_w=2.80, α=0.14] training start!\n"
     ]
    },
    {
     "name": "stderr",
     "output_type": "stream",
     "text": [
      "100%|██████████| 15/15 [00:41<00:00,  2.77s/it]\n"
     ]
    },
    {
     "name": "stdout",
     "output_type": "stream",
     "text": [
      "    [save] → models/alpha_0.145_sigmaw_2.800_top50.576.pt\n",
      "    [λ] λ_a=+2.43040e-01, λ_g=+1.79631e-01, \n",
      "    [test init] test init top1=99.05%, test init top5=95.22%, test init loss=4.866\n",
      "    [test] test top1=81.86%, test top5=57.64%, test loss=3.487\n",
      "[σ_w=2.80, α=0.19] training start!\n"
     ]
    },
    {
     "name": "stderr",
     "output_type": "stream",
     "text": [
      "100%|██████████| 15/15 [00:41<00:00,  2.77s/it]\n"
     ]
    },
    {
     "name": "stdout",
     "output_type": "stream",
     "text": [
      "    [save] → models/alpha_0.192_sigmaw_2.800_top50.585.pt\n",
      "    [λ] λ_a=+3.18434e-01, λ_g=+3.84572e-01, \n",
      "    [test init] test init top1=99.07%, test init top5=94.87%, test init loss=4.962\n",
      "    [test] test top1=82.40%, test top5=58.51%, test loss=3.507\n",
      "[σ_w=2.80, α=0.24] training start!\n"
     ]
    },
    {
     "name": "stderr",
     "output_type": "stream",
     "text": [
      "100%|██████████| 15/15 [00:41<00:00,  2.78s/it]\n"
     ]
    },
    {
     "name": "stdout",
     "output_type": "stream",
     "text": [
      "    [save] → models/alpha_0.239_sigmaw_2.800_top50.598.pt\n",
      "    [λ] λ_a=+3.42126e-01, λ_g=+3.72439e-01, \n",
      "    [test init] test init top1=98.96%, test init top5=94.86%, test init loss=5.019\n",
      "    [test] test top1=83.37%, test top5=59.79%, test loss=3.557\n",
      "[σ_w=2.80, α=0.29] training start!\n"
     ]
    },
    {
     "name": "stderr",
     "output_type": "stream",
     "text": [
      "100%|██████████| 15/15 [00:41<00:00,  2.79s/it]\n"
     ]
    },
    {
     "name": "stdout",
     "output_type": "stream",
     "text": [
      "    [save] → models/alpha_0.287_sigmaw_2.800_top50.618.pt\n",
      "    [λ] λ_a=+3.76054e-01, λ_g=+3.27492e-01, \n",
      "    [test init] test init top1=99.00%, test init top5=95.17%, test init loss=5.056\n",
      "    [test] test top1=84.74%, test top5=61.77%, test loss=3.621\n",
      "[σ_w=2.80, α=0.33] training start!\n"
     ]
    },
    {
     "name": "stderr",
     "output_type": "stream",
     "text": [
      "100%|██████████| 15/15 [00:41<00:00,  2.78s/it]\n"
     ]
    },
    {
     "name": "stdout",
     "output_type": "stream",
     "text": [
      "    [save] → models/alpha_0.334_sigmaw_2.800_top50.631.pt\n",
      "    [λ] λ_a=+5.32777e-01, λ_g=+4.32632e-01, \n",
      "    [test init] test init top1=99.03%, test init top5=94.86%, test init loss=5.053\n",
      "    [test] test top1=85.41%, test top5=63.07%, test loss=3.674\n",
      "[σ_w=2.80, α=0.38] training start!\n"
     ]
    },
    {
     "name": "stderr",
     "output_type": "stream",
     "text": [
      "100%|██████████| 15/15 [00:41<00:00,  2.78s/it]\n"
     ]
    },
    {
     "name": "stdout",
     "output_type": "stream",
     "text": [
      "    [save] → models/alpha_0.382_sigmaw_2.800_top50.706.pt\n",
      "    [λ] λ_a=+6.45335e-01, λ_g=+5.87494e-01, \n",
      "    [test init] test init top1=98.85%, test init top5=94.89%, test init loss=5.122\n",
      "    [test] test top1=89.76%, test top5=70.57%, test loss=3.921\n",
      "[σ_w=2.80, α=0.43] training start!\n"
     ]
    },
    {
     "name": "stderr",
     "output_type": "stream",
     "text": [
      "100%|██████████| 15/15 [00:41<00:00,  2.77s/it]\n"
     ]
    },
    {
     "name": "stdout",
     "output_type": "stream",
     "text": [
      "    [save] → models/alpha_0.429_sigmaw_2.800_top50.708.pt\n",
      "    [λ] λ_a=+6.09064e-01, λ_g=+6.63426e-01, \n",
      "    [test init] test init top1=98.99%, test init top5=95.23%, test init loss=5.097\n",
      "    [test] test top1=89.96%, test top5=70.75%, test loss=3.941\n",
      "[σ_w=2.80, α=0.48] training start!\n"
     ]
    },
    {
     "name": "stderr",
     "output_type": "stream",
     "text": [
      "100%|██████████| 15/15 [00:41<00:00,  2.78s/it]\n"
     ]
    },
    {
     "name": "stdout",
     "output_type": "stream",
     "text": [
      "    [save] → models/alpha_0.476_sigmaw_2.800_top50.739.pt\n",
      "    [λ] λ_a=+5.75254e-01, λ_g=+6.86948e-01, \n",
      "    [test init] test init top1=99.02%, test init top5=95.11%, test init loss=5.145\n",
      "    [test] test top1=91.50%, test top5=73.92%, test loss=4.041\n",
      "[σ_w=2.80, α=0.52] training start!\n"
     ]
    },
    {
     "name": "stderr",
     "output_type": "stream",
     "text": [
      "100%|██████████| 15/15 [00:41<00:00,  2.77s/it]\n"
     ]
    },
    {
     "name": "stdout",
     "output_type": "stream",
     "text": [
      "    [save] → models/alpha_0.524_sigmaw_2.800_top50.795.pt\n",
      "    [λ] λ_a=+5.80261e-01, λ_g=+9.00243e-01, \n",
      "    [test init] test init top1=99.15%, test init top5=95.30%, test init loss=5.146\n",
      "    [test] test top1=93.93%, test top5=79.53%, test loss=4.226\n",
      "[σ_w=2.80, α=0.57] training start!\n"
     ]
    },
    {
     "name": "stderr",
     "output_type": "stream",
     "text": [
      "100%|██████████| 15/15 [00:41<00:00,  2.78s/it]\n"
     ]
    },
    {
     "name": "stdout",
     "output_type": "stream",
     "text": [
      "    [save] → models/alpha_0.571_sigmaw_2.800_top50.855.pt\n",
      "    [λ] λ_a=+5.24721e-01, λ_g=+7.80651e-01, \n",
      "    [test init] test init top1=99.06%, test init top5=95.12%, test init loss=5.146\n",
      "    [test] test top1=96.21%, test top5=85.54%, test loss=4.401\n",
      "[σ_w=2.80, α=0.62] training start!\n"
     ]
    },
    {
     "name": "stderr",
     "output_type": "stream",
     "text": [
      "100%|██████████| 15/15 [00:41<00:00,  2.78s/it]\n"
     ]
    },
    {
     "name": "stdout",
     "output_type": "stream",
     "text": [
      "    [save] → models/alpha_0.618_sigmaw_2.800_top50.846.pt\n",
      "    [λ] λ_a=+4.93719e-01, λ_g=+8.18439e-01, \n",
      "    [test init] test init top1=99.05%, test init top5=95.33%, test init loss=5.211\n",
      "    [test] test top1=96.08%, test top5=84.55%, test loss=4.378\n",
      "[σ_w=2.80, α=0.67] training start!\n"
     ]
    },
    {
     "name": "stderr",
     "output_type": "stream",
     "text": [
      "100%|██████████| 15/15 [00:41<00:00,  2.77s/it]\n"
     ]
    },
    {
     "name": "stdout",
     "output_type": "stream",
     "text": [
      "    [save] → models/alpha_0.666_sigmaw_2.800_top50.901.pt\n",
      "    [λ] λ_a=+4.06406e-01, λ_g=+1.02836e+00, \n",
      "    [test init] test init top1=99.03%, test init top5=95.16%, test init loss=5.186\n",
      "    [test] test top1=97.68%, test top5=90.07%, test loss=4.527\n",
      "[σ_w=2.80, α=0.71] training start!\n"
     ]
    },
    {
     "name": "stderr",
     "output_type": "stream",
     "text": [
      "100%|██████████| 15/15 [00:41<00:00,  2.77s/it]\n"
     ]
    },
    {
     "name": "stdout",
     "output_type": "stream",
     "text": [
      "    [save] → models/alpha_0.713_sigmaw_2.800_top50.895.pt\n",
      "    [λ] λ_a=+5.70940e-01, λ_g=+9.45899e-01, \n",
      "    [test init] test init top1=98.97%, test init top5=95.17%, test init loss=5.314\n",
      "    [test] test top1=97.72%, test top5=89.47%, test loss=4.501\n",
      "[σ_w=2.80, α=0.76] training start!\n"
     ]
    },
    {
     "name": "stderr",
     "output_type": "stream",
     "text": [
      "100%|██████████| 15/15 [00:41<00:00,  2.78s/it]\n"
     ]
    },
    {
     "name": "stdout",
     "output_type": "stream",
     "text": [
      "    [save] → models/alpha_0.761_sigmaw_2.800_top50.908.pt\n",
      "    [λ] λ_a=+1.58481e-01, λ_g=+1.09627e+00, \n",
      "    [test init] test init top1=99.08%, test init top5=95.09%, test init loss=5.259\n",
      "    [test] test top1=97.92%, test top5=90.83%, test loss=4.551\n",
      "[σ_w=2.80, α=0.81] training start!\n"
     ]
    },
    {
     "name": "stderr",
     "output_type": "stream",
     "text": [
      "100%|██████████| 15/15 [00:41<00:00,  2.78s/it]\n"
     ]
    },
    {
     "name": "stdout",
     "output_type": "stream",
     "text": [
      "    [save] → models/alpha_0.808_sigmaw_2.800_top50.933.pt\n",
      "    [λ] λ_a=+1.40434e-02, λ_g=+1.07017e+00, \n",
      "    [test init] test init top1=98.93%, test init top5=95.06%, test init loss=5.223\n",
      "    [test] test top1=98.53%, test top5=93.28%, test loss=4.607\n",
      "[σ_w=2.80, α=0.86] training start!\n"
     ]
    },
    {
     "name": "stderr",
     "output_type": "stream",
     "text": [
      "100%|██████████| 15/15 [00:41<00:00,  2.77s/it]\n"
     ]
    },
    {
     "name": "stdout",
     "output_type": "stream",
     "text": [
      "    [save] → models/alpha_0.855_sigmaw_2.800_top50.929.pt\n",
      "    [λ] λ_a=-2.10079e-01, λ_g=+9.12677e-01, \n",
      "    [test init] test init top1=99.05%, test init top5=95.10%, test init loss=5.348\n",
      "    [test] test top1=98.42%, test top5=92.91%, test loss=4.590\n",
      "[σ_w=2.80, α=0.90] training start!\n"
     ]
    },
    {
     "name": "stderr",
     "output_type": "stream",
     "text": [
      "100%|██████████| 15/15 [00:41<00:00,  2.77s/it]\n"
     ]
    },
    {
     "name": "stdout",
     "output_type": "stream",
     "text": [
      "    [save] → models/alpha_0.903_sigmaw_2.800_top50.935.pt\n",
      "    [λ] λ_a=-7.20502e-01, λ_g=+7.47388e-01, \n",
      "    [test init] test init top1=99.07%, test init top5=95.08%, test init loss=5.466\n",
      "    [test] test top1=98.64%, test top5=93.51%, test loss=4.596\n",
      "[σ_w=2.80, α=0.95] training start!\n"
     ]
    },
    {
     "name": "stderr",
     "output_type": "stream",
     "text": [
      "100%|██████████| 15/15 [00:41<00:00,  2.77s/it]\n"
     ]
    },
    {
     "name": "stdout",
     "output_type": "stream",
     "text": [
      "    [save] → models/alpha_0.950_sigmaw_2.800_top50.949.pt\n",
      "    [λ] λ_a=-1.20078e+00, λ_g=+9.33157e-01, \n",
      "    [test init] test init top1=99.03%, test init top5=94.91%, test init loss=5.376\n",
      "    [test] test top1=98.98%, test top5=94.94%, test loss=4.617\n",
      "[σ_w=3.00, α=0.05] training start!\n"
     ]
    },
    {
     "name": "stderr",
     "output_type": "stream",
     "text": [
      "100%|██████████| 15/15 [00:41<00:00,  2.77s/it]\n"
     ]
    },
    {
     "name": "stdout",
     "output_type": "stream",
     "text": [
      "    [save] → models/alpha_0.050_sigmaw_3.000_top50.588.pt\n",
      "    [λ] λ_a=+3.24309e-02, λ_g=+7.84859e-02, \n",
      "    [test init] test init top1=99.02%, test init top5=95.03%, test init loss=4.671\n",
      "    [test] test top1=82.89%, test top5=58.82%, test loss=3.528\n",
      "[σ_w=3.00, α=0.10] training start!\n"
     ]
    },
    {
     "name": "stderr",
     "output_type": "stream",
     "text": [
      "100%|██████████| 15/15 [00:41<00:00,  2.78s/it]\n"
     ]
    },
    {
     "name": "stdout",
     "output_type": "stream",
     "text": [
      "    [save] → models/alpha_0.097_sigmaw_3.000_top50.586.pt\n",
      "    [λ] λ_a=+1.19025e-01, λ_g=+1.16680e-01, \n",
      "    [test init] test init top1=99.05%, test init top5=95.05%, test init loss=4.745\n",
      "    [test] test top1=82.84%, test top5=58.63%, test loss=3.518\n",
      "[σ_w=3.00, α=0.14] training start!\n"
     ]
    },
    {
     "name": "stderr",
     "output_type": "stream",
     "text": [
      "100%|██████████| 15/15 [00:41<00:00,  2.78s/it]\n"
     ]
    },
    {
     "name": "stdout",
     "output_type": "stream",
     "text": [
      "    [save] → models/alpha_0.145_sigmaw_3.000_top50.582.pt\n",
      "    [λ] λ_a=+2.88477e-01, λ_g=+2.06389e-01, \n",
      "    [test init] test init top1=99.04%, test init top5=95.18%, test init loss=4.904\n",
      "    [test] test top1=82.50%, test top5=58.25%, test loss=3.501\n",
      "[σ_w=3.00, α=0.19] training start!\n"
     ]
    },
    {
     "name": "stderr",
     "output_type": "stream",
     "text": [
      "100%|██████████| 15/15 [00:41<00:00,  2.77s/it]\n"
     ]
    },
    {
     "name": "stdout",
     "output_type": "stream",
     "text": [
      "    [save] → models/alpha_0.192_sigmaw_3.000_top50.607.pt\n",
      "    [λ] λ_a=+3.83853e-01, λ_g=+2.50021e-01, \n",
      "    [test init] test init top1=98.86%, test init top5=94.67%, test init loss=4.964\n",
      "    [test] test top1=84.07%, test top5=60.73%, test loss=3.595\n",
      "[σ_w=3.00, α=0.24] training start!\n"
     ]
    },
    {
     "name": "stderr",
     "output_type": "stream",
     "text": [
      "100%|██████████| 15/15 [00:41<00:00,  2.78s/it]\n"
     ]
    },
    {
     "name": "stdout",
     "output_type": "stream",
     "text": [
      "    [save] → models/alpha_0.239_sigmaw_3.000_top50.617.pt\n",
      "    [λ] λ_a=+4.12731e-01, λ_g=+4.43797e-01, \n",
      "    [test init] test init top1=99.00%, test init top5=95.30%, test init loss=5.019\n",
      "    [test] test top1=84.36%, test top5=61.71%, test loss=3.624\n",
      "[σ_w=3.00, α=0.29] training start!\n"
     ]
    },
    {
     "name": "stderr",
     "output_type": "stream",
     "text": [
      "100%|██████████| 15/15 [00:41<00:00,  2.77s/it]\n"
     ]
    },
    {
     "name": "stdout",
     "output_type": "stream",
     "text": [
      "    [save] → models/alpha_0.287_sigmaw_3.000_top50.633.pt\n",
      "    [λ] λ_a=+5.31427e-01, λ_g=+5.02526e-01, \n",
      "    [test init] test init top1=99.06%, test init top5=95.43%, test init loss=5.242\n",
      "    [test] test top1=85.52%, test top5=63.28%, test loss=3.679\n",
      "[σ_w=3.00, α=0.33] training start!\n"
     ]
    },
    {
     "name": "stderr",
     "output_type": "stream",
     "text": [
      "100%|██████████| 15/15 [00:41<00:00,  2.78s/it]\n"
     ]
    },
    {
     "name": "stdout",
     "output_type": "stream",
     "text": [
      "    [save] → models/alpha_0.334_sigmaw_3.000_top50.668.pt\n",
      "    [λ] λ_a=+6.11366e-01, λ_g=+5.81406e-01, \n",
      "    [test init] test init top1=99.04%, test init top5=95.10%, test init loss=5.229\n",
      "    [test] test top1=87.69%, test top5=66.76%, test loss=3.806\n",
      "[σ_w=3.00, α=0.38] training start!\n"
     ]
    },
    {
     "name": "stderr",
     "output_type": "stream",
     "text": [
      "100%|██████████| 15/15 [00:41<00:00,  2.77s/it]\n"
     ]
    },
    {
     "name": "stdout",
     "output_type": "stream",
     "text": [
      "    [save] → models/alpha_0.382_sigmaw_3.000_top50.724.pt\n",
      "    [λ] λ_a=+7.56330e-01, λ_g=+6.37020e-01, \n",
      "    [test init] test init top1=99.19%, test init top5=95.31%, test init loss=5.148\n",
      "    [test] test top1=90.59%, test top5=72.43%, test loss=3.997\n",
      "[σ_w=3.00, α=0.43] training start!\n"
     ]
    },
    {
     "name": "stderr",
     "output_type": "stream",
     "text": [
      "100%|██████████| 15/15 [00:41<00:00,  2.78s/it]\n"
     ]
    },
    {
     "name": "stdout",
     "output_type": "stream",
     "text": [
      "    [save] → models/alpha_0.429_sigmaw_3.000_top50.739.pt\n",
      "    [λ] λ_a=+6.23886e-01, λ_g=+7.40939e-01, \n",
      "    [test init] test init top1=99.08%, test init top5=95.23%, test init loss=5.223\n",
      "    [test] test top1=91.33%, test top5=73.87%, test loss=4.048\n",
      "[σ_w=3.00, α=0.48] training start!\n"
     ]
    },
    {
     "name": "stderr",
     "output_type": "stream",
     "text": [
      "100%|██████████| 15/15 [00:41<00:00,  2.77s/it]\n"
     ]
    },
    {
     "name": "stdout",
     "output_type": "stream",
     "text": [
      "    [save] → models/alpha_0.476_sigmaw_3.000_top50.778.pt\n",
      "    [λ] λ_a=+7.41311e-01, λ_g=+7.28573e-01, \n",
      "    [test init] test init top1=99.13%, test init top5=95.20%, test init loss=5.198\n",
      "    [test] test top1=93.20%, test top5=77.81%, test loss=4.167\n",
      "[σ_w=3.00, α=0.52] training start!\n"
     ]
    },
    {
     "name": "stderr",
     "output_type": "stream",
     "text": [
      "100%|██████████| 15/15 [00:41<00:00,  2.78s/it]\n"
     ]
    },
    {
     "name": "stdout",
     "output_type": "stream",
     "text": [
      "    [save] → models/alpha_0.524_sigmaw_3.000_top50.880.pt\n",
      "    [λ] λ_a=+5.91230e-01, λ_g=+9.17677e-01, \n",
      "    [test init] test init top1=98.94%, test init top5=94.93%, test init loss=5.197\n",
      "    [test] test top1=97.12%, test top5=88.04%, test loss=4.479\n",
      "[σ_w=3.00, α=0.57] training start!\n"
     ]
    },
    {
     "name": "stderr",
     "output_type": "stream",
     "text": [
      "100%|██████████| 15/15 [00:41<00:00,  2.77s/it]\n"
     ]
    },
    {
     "name": "stdout",
     "output_type": "stream",
     "text": [
      "    [save] → models/alpha_0.571_sigmaw_3.000_top50.887.pt\n",
      "    [λ] λ_a=+7.83262e-01, λ_g=+1.02025e+00, \n",
      "    [test init] test init top1=98.94%, test init top5=94.90%, test init loss=5.249\n",
      "    [test] test top1=97.27%, test top5=88.74%, test loss=4.490\n",
      "[σ_w=3.00, α=0.62] training start!\n"
     ]
    },
    {
     "name": "stderr",
     "output_type": "stream",
     "text": [
      "100%|██████████| 15/15 [00:41<00:00,  2.77s/it]\n"
     ]
    },
    {
     "name": "stdout",
     "output_type": "stream",
     "text": [
      "    [save] → models/alpha_0.618_sigmaw_3.000_top50.854.pt\n",
      "    [λ] λ_a=+5.12415e-01, λ_g=+9.71105e-01, \n",
      "    [test init] test init top1=99.12%, test init top5=95.13%, test init loss=5.282\n",
      "    [test] test top1=96.38%, test top5=85.42%, test loss=4.402\n",
      "[σ_w=3.00, α=0.67] training start!\n"
     ]
    },
    {
     "name": "stderr",
     "output_type": "stream",
     "text": [
      "100%|██████████| 15/15 [00:41<00:00,  2.78s/it]\n"
     ]
    },
    {
     "name": "stdout",
     "output_type": "stream",
     "text": [
      "    [save] → models/alpha_0.666_sigmaw_3.000_top50.892.pt\n",
      "    [λ] λ_a=+6.74809e-01, λ_g=+1.04772e+00, \n",
      "    [test init] test init top1=99.09%, test init top5=95.20%, test init loss=5.266\n",
      "    [test] test top1=97.35%, test top5=89.17%, test loss=4.506\n",
      "[σ_w=3.00, α=0.71] training start!\n"
     ]
    },
    {
     "name": "stderr",
     "output_type": "stream",
     "text": [
      "100%|██████████| 15/15 [00:41<00:00,  2.78s/it]\n"
     ]
    },
    {
     "name": "stdout",
     "output_type": "stream",
     "text": [
      "    [save] → models/alpha_0.713_sigmaw_3.000_top50.943.pt\n",
      "    [λ] λ_a=+5.14775e-01, λ_g=+1.15928e+00, \n",
      "    [test init] test init top1=98.86%, test init top5=94.95%, test init loss=5.235\n",
      "    [test] test top1=98.76%, test top5=94.35%, test loss=4.621\n",
      "[σ_w=3.00, α=0.76] training start!\n"
     ]
    },
    {
     "name": "stderr",
     "output_type": "stream",
     "text": [
      "100%|██████████| 15/15 [00:41<00:00,  2.77s/it]\n"
     ]
    },
    {
     "name": "stdout",
     "output_type": "stream",
     "text": [
      "    [save] → models/alpha_0.761_sigmaw_3.000_top50.941.pt\n",
      "    [λ] λ_a=+3.34158e-01, λ_g=+9.79988e-01, \n",
      "    [test init] test init top1=99.03%, test init top5=95.25%, test init loss=5.375\n",
      "    [test] test top1=98.79%, test top5=94.06%, test loss=4.612\n",
      "[σ_w=3.00, α=0.81] training start!\n"
     ]
    },
    {
     "name": "stderr",
     "output_type": "stream",
     "text": [
      "100%|██████████| 15/15 [00:41<00:00,  2.77s/it]\n"
     ]
    },
    {
     "name": "stdout",
     "output_type": "stream",
     "text": [
      "    [save] → models/alpha_0.808_sigmaw_3.000_top50.939.pt\n",
      "    [λ] λ_a=+2.79130e-01, λ_g=+1.10164e+00, \n",
      "    [test init] test init top1=99.09%, test init top5=95.06%, test init loss=5.347\n",
      "    [test] test top1=98.78%, test top5=93.85%, test loss=4.613\n",
      "[σ_w=3.00, α=0.86] training start!\n"
     ]
    },
    {
     "name": "stderr",
     "output_type": "stream",
     "text": [
      "100%|██████████| 15/15 [00:41<00:00,  2.77s/it]\n"
     ]
    },
    {
     "name": "stdout",
     "output_type": "stream",
     "text": [
      "    [save] → models/alpha_0.855_sigmaw_3.000_top50.936.pt\n",
      "    [λ] λ_a=-1.66504e-01, λ_g=+1.07077e+00, \n",
      "    [test init] test init top1=99.01%, test init top5=95.07%, test init loss=5.459\n",
      "    [test] test top1=98.81%, test top5=93.65%, test loss=4.606\n",
      "[σ_w=3.00, α=0.90] training start!\n"
     ]
    },
    {
     "name": "stderr",
     "output_type": "stream",
     "text": [
      "100%|██████████| 15/15 [00:41<00:00,  2.79s/it]\n"
     ]
    },
    {
     "name": "stdout",
     "output_type": "stream",
     "text": [
      "    [save] → models/alpha_0.903_sigmaw_3.000_top50.918.pt\n",
      "    [λ] λ_a=-4.12840e-01, λ_g=+7.69543e-01, \n",
      "    [test init] test init top1=99.02%, test init top5=95.31%, test init loss=5.528\n",
      "    [test] test top1=98.23%, test top5=91.82%, test loss=4.566\n",
      "[σ_w=3.00, α=0.95] training start!\n"
     ]
    },
    {
     "name": "stderr",
     "output_type": "stream",
     "text": [
      "100%|██████████| 15/15 [00:41<00:00,  2.78s/it]\n"
     ]
    },
    {
     "name": "stdout",
     "output_type": "stream",
     "text": [
      "    [save] → models/alpha_0.950_sigmaw_3.000_top50.947.pt\n",
      "    [λ] λ_a=-9.70633e-01, λ_g=+7.30566e-01, \n",
      "    [test init] test init top1=98.93%, test init top5=94.88%, test init loss=5.580\n",
      "    [test] test top1=98.97%, test top5=94.69%, test loss=4.617\n",
      "[σ_w=3.20, α=0.05] training start!\n"
     ]
    },
    {
     "name": "stderr",
     "output_type": "stream",
     "text": [
      "100%|██████████| 15/15 [00:41<00:00,  2.78s/it]\n"
     ]
    },
    {
     "name": "stdout",
     "output_type": "stream",
     "text": [
      "    [save] → models/alpha_0.050_sigmaw_3.200_top50.596.pt\n",
      "    [λ] λ_a=+6.48871e-02, λ_g=+5.32006e-02, \n",
      "    [test init] test init top1=99.17%, test init top5=95.22%, test init loss=4.672\n",
      "    [test] test top1=83.49%, test top5=59.60%, test loss=3.557\n",
      "[σ_w=3.20, α=0.10] training start!\n"
     ]
    },
    {
     "name": "stderr",
     "output_type": "stream",
     "text": [
      "100%|██████████| 15/15 [00:41<00:00,  2.78s/it]\n"
     ]
    },
    {
     "name": "stdout",
     "output_type": "stream",
     "text": [
      "    [save] → models/alpha_0.097_sigmaw_3.200_top50.600.pt\n",
      "    [λ] λ_a=+1.52985e-01, λ_g=+2.21042e-01, \n",
      "    [test init] test init top1=98.95%, test init top5=94.95%, test init loss=4.772\n",
      "    [test] test top1=83.90%, test top5=60.03%, test loss=3.578\n",
      "[σ_w=3.20, α=0.14] training start!\n"
     ]
    },
    {
     "name": "stderr",
     "output_type": "stream",
     "text": [
      "100%|██████████| 15/15 [00:41<00:00,  2.78s/it]\n"
     ]
    },
    {
     "name": "stdout",
     "output_type": "stream",
     "text": [
      "    [save] → models/alpha_0.145_sigmaw_3.200_top50.611.pt\n",
      "    [λ] λ_a=+2.85217e-01, λ_g=+1.79621e-01, \n",
      "    [test init] test init top1=99.09%, test init top5=95.10%, test init loss=4.937\n",
      "    [test] test top1=84.29%, test top5=61.11%, test loss=3.609\n",
      "[σ_w=3.20, α=0.19] training start!\n"
     ]
    },
    {
     "name": "stderr",
     "output_type": "stream",
     "text": [
      "100%|██████████| 15/15 [00:41<00:00,  2.78s/it]\n"
     ]
    },
    {
     "name": "stdout",
     "output_type": "stream",
     "text": [
      "    [save] → models/alpha_0.192_sigmaw_3.200_top50.606.pt\n",
      "    [λ] λ_a=+4.48318e-01, λ_g=+3.93169e-01, \n",
      "    [test init] test init top1=99.15%, test init top5=95.40%, test init loss=5.029\n",
      "    [test] test top1=83.93%, test top5=60.60%, test loss=3.583\n",
      "[σ_w=3.20, α=0.24] training start!\n"
     ]
    },
    {
     "name": "stderr",
     "output_type": "stream",
     "text": [
      "100%|██████████| 15/15 [00:41<00:00,  2.77s/it]\n"
     ]
    },
    {
     "name": "stdout",
     "output_type": "stream",
     "text": [
      "    [save] → models/alpha_0.239_sigmaw_3.200_top50.624.pt\n",
      "    [λ] λ_a=+7.01058e-01, λ_g=+4.61918e-01, \n",
      "    [test init] test init top1=98.94%, test init top5=95.01%, test init loss=5.121\n",
      "    [test] test top1=85.08%, test top5=62.42%, test loss=3.645\n",
      "[σ_w=3.20, α=0.29] training start!\n"
     ]
    },
    {
     "name": "stderr",
     "output_type": "stream",
     "text": [
      "100%|██████████| 15/15 [00:41<00:00,  2.78s/it]\n"
     ]
    },
    {
     "name": "stdout",
     "output_type": "stream",
     "text": [
      "    [save] → models/alpha_0.287_sigmaw_3.200_top50.675.pt\n",
      "    [λ] λ_a=+7.09309e-01, λ_g=+5.42304e-01, \n",
      "    [test init] test init top1=98.90%, test init top5=94.86%, test init loss=5.172\n",
      "    [test] test top1=88.19%, test top5=67.50%, test loss=3.830\n",
      "[σ_w=3.20, α=0.33] training start!\n"
     ]
    },
    {
     "name": "stderr",
     "output_type": "stream",
     "text": [
      "100%|██████████| 15/15 [00:41<00:00,  2.78s/it]\n"
     ]
    },
    {
     "name": "stdout",
     "output_type": "stream",
     "text": [
      "    [save] → models/alpha_0.334_sigmaw_3.200_top50.711.pt\n",
      "    [λ] λ_a=+8.40755e-01, λ_g=+7.30082e-01, \n",
      "    [test init] test init top1=99.03%, test init top5=94.89%, test init loss=5.187\n",
      "    [test] test top1=89.99%, test top5=71.05%, test loss=3.959\n",
      "[σ_w=3.20, α=0.38] training start!\n"
     ]
    },
    {
     "name": "stderr",
     "output_type": "stream",
     "text": [
      "100%|██████████| 15/15 [00:41<00:00,  2.77s/it]\n"
     ]
    },
    {
     "name": "stdout",
     "output_type": "stream",
     "text": [
      "    [save] → models/alpha_0.382_sigmaw_3.200_top50.763.pt\n",
      "    [λ] λ_a=+8.00612e-01, λ_g=+7.27983e-01, \n",
      "    [test init] test init top1=98.87%, test init top5=94.89%, test init loss=5.269\n",
      "    [test] test top1=92.81%, test top5=76.31%, test loss=4.124\n",
      "[σ_w=3.20, α=0.43] training start!\n"
     ]
    },
    {
     "name": "stderr",
     "output_type": "stream",
     "text": [
      "100%|██████████| 15/15 [00:41<00:00,  2.78s/it]\n"
     ]
    },
    {
     "name": "stdout",
     "output_type": "stream",
     "text": [
      "    [save] → models/alpha_0.429_sigmaw_3.200_top50.818.pt\n",
      "    [λ] λ_a=+8.42065e-01, λ_g=+8.95091e-01, \n",
      "    [test init] test init top1=98.98%, test init top5=95.10%, test init loss=5.317\n",
      "    [test] test top1=94.82%, test top5=81.76%, test loss=4.295\n",
      "[σ_w=3.20, α=0.48] training start!\n"
     ]
    },
    {
     "name": "stderr",
     "output_type": "stream",
     "text": [
      "100%|██████████| 15/15 [00:41<00:00,  2.78s/it]\n"
     ]
    },
    {
     "name": "stdout",
     "output_type": "stream",
     "text": [
      "    [save] → models/alpha_0.476_sigmaw_3.200_top50.852.pt\n",
      "    [λ] λ_a=+9.45139e-01, λ_g=+9.29937e-01, \n",
      "    [test init] test init top1=99.05%, test init top5=95.14%, test init loss=5.339\n",
      "    [test] test top1=95.96%, test top5=85.23%, test loss=4.385\n",
      "[σ_w=3.20, α=0.52] training start!\n"
     ]
    },
    {
     "name": "stderr",
     "output_type": "stream",
     "text": [
      "100%|██████████| 15/15 [00:41<00:00,  2.78s/it]\n"
     ]
    },
    {
     "name": "stdout",
     "output_type": "stream",
     "text": [
      "    [save] → models/alpha_0.524_sigmaw_3.200_top50.864.pt\n",
      "    [λ] λ_a=+8.68426e-01, λ_g=+9.74474e-01, \n",
      "    [test init] test init top1=98.99%, test init top5=94.90%, test init loss=5.329\n",
      "    [test] test top1=96.63%, test top5=86.41%, test loss=4.433\n",
      "[σ_w=3.20, α=0.57] training start!\n"
     ]
    },
    {
     "name": "stderr",
     "output_type": "stream",
     "text": [
      "100%|██████████| 15/15 [00:41<00:00,  2.77s/it]\n"
     ]
    },
    {
     "name": "stdout",
     "output_type": "stream",
     "text": [
      "    [save] → models/alpha_0.571_sigmaw_3.200_top50.880.pt\n",
      "    [λ] λ_a=+1.01798e+00, λ_g=+1.22154e+00, \n",
      "    [test init] test init top1=98.92%, test init top5=94.95%, test init loss=5.362\n",
      "    [test] test top1=97.10%, test top5=88.04%, test loss=4.477\n",
      "[σ_w=3.20, α=0.62] training start!\n"
     ]
    },
    {
     "name": "stderr",
     "output_type": "stream",
     "text": [
      "100%|██████████| 15/15 [00:41<00:00,  2.77s/it]\n"
     ]
    },
    {
     "name": "stdout",
     "output_type": "stream",
     "text": [
      "    [save] → models/alpha_0.618_sigmaw_3.200_top50.894.pt\n",
      "    [λ] λ_a=+8.94425e-01, λ_g=+1.09969e+00, \n",
      "    [test init] test init top1=98.99%, test init top5=95.24%, test init loss=5.419\n",
      "    [test] test top1=97.52%, test top5=89.45%, test loss=4.515\n",
      "[σ_w=3.20, α=0.67] training start!\n"
     ]
    },
    {
     "name": "stderr",
     "output_type": "stream",
     "text": [
      "100%|██████████| 15/15 [00:41<00:00,  2.78s/it]\n"
     ]
    },
    {
     "name": "stdout",
     "output_type": "stream",
     "text": [
      "    [save] → models/alpha_0.666_sigmaw_3.200_top50.922.pt\n",
      "    [λ] λ_a=+6.73366e-01, λ_g=+1.19708e+00, \n",
      "    [test init] test init top1=99.08%, test init top5=95.05%, test init loss=5.525\n",
      "    [test] test top1=98.37%, test top5=92.23%, test loss=4.580\n",
      "[σ_w=3.20, α=0.71] training start!\n"
     ]
    },
    {
     "name": "stderr",
     "output_type": "stream",
     "text": [
      "100%|██████████| 15/15 [00:41<00:00,  2.78s/it]\n"
     ]
    },
    {
     "name": "stdout",
     "output_type": "stream",
     "text": [
      "    [save] → models/alpha_0.713_sigmaw_3.200_top50.940.pt\n",
      "    [λ] λ_a=+7.76225e-01, λ_g=+1.18912e+00, \n",
      "    [test init] test init top1=99.02%, test init top5=95.03%, test init loss=5.403\n",
      "    [test] test top1=98.67%, test top5=93.97%, test loss=4.611\n",
      "[σ_w=3.20, α=0.76] training start!\n"
     ]
    },
    {
     "name": "stderr",
     "output_type": "stream",
     "text": [
      "100%|██████████| 15/15 [00:41<00:00,  2.78s/it]\n"
     ]
    },
    {
     "name": "stdout",
     "output_type": "stream",
     "text": [
      "    [save] → models/alpha_0.761_sigmaw_3.200_top50.928.pt\n",
      "    [λ] λ_a=+4.50082e-01, λ_g=+1.26689e+00, \n",
      "    [test init] test init top1=98.96%, test init top5=94.89%, test init loss=5.616\n",
      "    [test] test top1=98.56%, test top5=92.82%, test loss=4.593\n",
      "[σ_w=3.20, α=0.81] training start!\n"
     ]
    },
    {
     "name": "stderr",
     "output_type": "stream",
     "text": [
      "100%|██████████| 15/15 [00:41<00:00,  2.77s/it]\n"
     ]
    },
    {
     "name": "stdout",
     "output_type": "stream",
     "text": [
      "    [save] → models/alpha_0.808_sigmaw_3.200_top50.941.pt\n",
      "    [λ] λ_a=+3.60501e-01, λ_g=+1.15713e+00, \n",
      "    [test init] test init top1=98.95%, test init top5=95.00%, test init loss=5.466\n",
      "    [test] test top1=98.89%, test top5=94.07%, test loss=4.614\n",
      "[σ_w=3.20, α=0.86] training start!\n"
     ]
    },
    {
     "name": "stderr",
     "output_type": "stream",
     "text": [
      "100%|██████████| 15/15 [00:41<00:00,  2.77s/it]\n"
     ]
    },
    {
     "name": "stdout",
     "output_type": "stream",
     "text": [
      "    [save] → models/alpha_0.855_sigmaw_3.200_top50.944.pt\n",
      "    [λ] λ_a=+1.23542e-01, λ_g=+1.06642e+00, \n",
      "    [test init] test init top1=98.99%, test init top5=94.90%, test init loss=5.545\n",
      "    [test] test top1=98.83%, test top5=94.37%, test loss=4.614\n",
      "[σ_w=3.20, α=0.90] training start!\n"
     ]
    },
    {
     "name": "stderr",
     "output_type": "stream",
     "text": [
      "100%|██████████| 15/15 [00:41<00:00,  2.77s/it]\n"
     ]
    },
    {
     "name": "stdout",
     "output_type": "stream",
     "text": [
      "    [save] → models/alpha_0.903_sigmaw_3.200_top50.945.pt\n",
      "    [λ] λ_a=-3.15247e-01, λ_g=+9.80962e-01, \n",
      "    [test init] test init top1=99.10%, test init top5=95.07%, test init loss=5.632\n",
      "    [test] test top1=98.91%, test top5=94.53%, test loss=4.616\n",
      "[σ_w=3.20, α=0.95] training start!\n"
     ]
    },
    {
     "name": "stderr",
     "output_type": "stream",
     "text": [
      "100%|██████████| 15/15 [00:41<00:00,  2.77s/it]\n"
     ]
    },
    {
     "name": "stdout",
     "output_type": "stream",
     "text": [
      "    [save] → models/alpha_0.950_sigmaw_3.200_top50.948.pt\n",
      "    [λ] λ_a=-8.31411e-01, λ_g=+1.01695e+00, \n",
      "    [test init] test init top1=99.05%, test init top5=94.99%, test init loss=5.802\n",
      "    [test] test top1=98.88%, test top5=94.78%, test loss=4.619\n",
      "[σ_w=3.40, α=0.05] training start!\n"
     ]
    },
    {
     "name": "stderr",
     "output_type": "stream",
     "text": [
      "100%|██████████| 15/15 [00:41<00:00,  2.77s/it]\n"
     ]
    },
    {
     "name": "stdout",
     "output_type": "stream",
     "text": [
      "    [save] → models/alpha_0.050_sigmaw_3.400_top50.609.pt\n",
      "    [λ] λ_a=+6.97326e-02, λ_g=+8.86840e-02, \n",
      "    [test init] test init top1=98.99%, test init top5=94.85%, test init loss=4.692\n",
      "    [test] test top1=84.09%, test top5=60.89%, test loss=3.592\n",
      "[σ_w=3.40, α=0.10] training start!\n"
     ]
    },
    {
     "name": "stderr",
     "output_type": "stream",
     "text": [
      "100%|██████████| 15/15 [00:41<00:00,  2.77s/it]\n"
     ]
    },
    {
     "name": "stdout",
     "output_type": "stream",
     "text": [
      "    [save] → models/alpha_0.097_sigmaw_3.400_top50.614.pt\n",
      "    [λ] λ_a=+2.03856e-01, λ_g=+2.43008e-01, \n",
      "    [test init] test init top1=99.04%, test init top5=94.88%, test init loss=4.819\n",
      "    [test] test top1=84.43%, test top5=61.39%, test loss=3.613\n",
      "[σ_w=3.40, α=0.14] training start!\n"
     ]
    },
    {
     "name": "stderr",
     "output_type": "stream",
     "text": [
      "100%|██████████| 15/15 [00:41<00:00,  2.77s/it]\n"
     ]
    },
    {
     "name": "stdout",
     "output_type": "stream",
     "text": [
      "    [save] → models/alpha_0.145_sigmaw_3.400_top50.638.pt\n",
      "    [λ] λ_a=+3.78532e-01, λ_g=+3.26836e-01, \n",
      "    [test init] test init top1=98.94%, test init top5=94.92%, test init loss=4.943\n",
      "    [test] test top1=85.83%, test top5=63.85%, test loss=3.705\n",
      "[σ_w=3.40, α=0.19] training start!\n"
     ]
    },
    {
     "name": "stderr",
     "output_type": "stream",
     "text": [
      "100%|██████████| 15/15 [00:41<00:00,  2.77s/it]\n"
     ]
    },
    {
     "name": "stdout",
     "output_type": "stream",
     "text": [
      "    [save] → models/alpha_0.192_sigmaw_3.400_top50.641.pt\n",
      "    [λ] λ_a=+5.13506e-01, λ_g=+4.90393e-01, \n",
      "    [test init] test init top1=99.05%, test init top5=95.14%, test init loss=5.189\n",
      "    [test] test top1=85.93%, test top5=64.15%, test loss=3.715\n",
      "[σ_w=3.40, α=0.24] training start!\n"
     ]
    },
    {
     "name": "stderr",
     "output_type": "stream",
     "text": [
      "100%|██████████| 15/15 [00:41<00:00,  2.77s/it]\n"
     ]
    },
    {
     "name": "stdout",
     "output_type": "stream",
     "text": [
      "    [save] → models/alpha_0.239_sigmaw_3.400_top50.654.pt\n",
      "    [λ] λ_a=+7.16872e-01, λ_g=+5.07966e-01, \n",
      "    [test init] test init top1=99.03%, test init top5=94.85%, test init loss=5.258\n",
      "    [test] test top1=86.84%, test top5=65.37%, test loss=3.752\n",
      "[σ_w=3.40, α=0.29] training start!\n"
     ]
    },
    {
     "name": "stderr",
     "output_type": "stream",
     "text": [
      "100%|██████████| 15/15 [00:41<00:00,  2.78s/it]\n"
     ]
    },
    {
     "name": "stdout",
     "output_type": "stream",
     "text": [
      "    [save] → models/alpha_0.287_sigmaw_3.400_top50.699.pt\n",
      "    [λ] λ_a=+8.18337e-01, λ_g=+6.55934e-01, \n",
      "    [test init] test init top1=99.01%, test init top5=95.17%, test init loss=5.315\n",
      "    [test] test top1=89.60%, test top5=69.88%, test loss=3.913\n",
      "[σ_w=3.40, α=0.33] training start!\n"
     ]
    },
    {
     "name": "stderr",
     "output_type": "stream",
     "text": [
      "100%|██████████| 15/15 [00:41<00:00,  2.77s/it]\n"
     ]
    },
    {
     "name": "stdout",
     "output_type": "stream",
     "text": [
      "    [save] → models/alpha_0.334_sigmaw_3.400_top50.768.pt\n",
      "    [λ] λ_a=+9.32397e-01, λ_g=+7.26126e-01, \n",
      "    [test init] test init top1=98.96%, test init top5=95.02%, test init loss=5.304\n",
      "    [test] test top1=92.60%, test top5=76.75%, test loss=4.136\n",
      "[σ_w=3.40, α=0.38] training start!\n"
     ]
    },
    {
     "name": "stderr",
     "output_type": "stream",
     "text": [
      "100%|██████████| 15/15 [00:41<00:00,  2.77s/it]\n"
     ]
    },
    {
     "name": "stdout",
     "output_type": "stream",
     "text": [
      "    [save] → models/alpha_0.382_sigmaw_3.400_top50.794.pt\n",
      "    [λ] λ_a=+7.80386e-01, λ_g=+8.73591e-01, \n",
      "    [test init] test init top1=98.94%, test init top5=94.89%, test init loss=5.370\n",
      "    [test] test top1=93.81%, test top5=79.37%, test loss=4.219\n",
      "[σ_w=3.40, α=0.43] training start!\n"
     ]
    },
    {
     "name": "stderr",
     "output_type": "stream",
     "text": [
      "100%|██████████| 15/15 [00:41<00:00,  2.78s/it]\n"
     ]
    },
    {
     "name": "stdout",
     "output_type": "stream",
     "text": [
      "    [save] → models/alpha_0.429_sigmaw_3.400_top50.811.pt\n",
      "    [λ] λ_a=+8.58410e-01, λ_g=+8.32921e-01, \n",
      "    [test init] test init top1=99.01%, test init top5=95.00%, test init loss=5.372\n",
      "    [test] test top1=94.39%, test top5=81.15%, test loss=4.269\n",
      "[σ_w=3.40, α=0.48] training start!\n"
     ]
    },
    {
     "name": "stderr",
     "output_type": "stream",
     "text": [
      "100%|██████████| 15/15 [00:41<00:00,  2.77s/it]\n"
     ]
    },
    {
     "name": "stdout",
     "output_type": "stream",
     "text": [
      "    [save] → models/alpha_0.476_sigmaw_3.400_top50.861.pt\n",
      "    [λ] λ_a=+1.00579e+00, λ_g=+1.04309e+00, \n",
      "    [test init] test init top1=98.94%, test init top5=95.06%, test init loss=5.423\n",
      "    [test] test top1=96.52%, test top5=86.06%, test loss=4.406\n",
      "[σ_w=3.40, α=0.52] training start!\n"
     ]
    },
    {
     "name": "stderr",
     "output_type": "stream",
     "text": [
      "100%|██████████| 15/15 [00:41<00:00,  2.78s/it]\n"
     ]
    },
    {
     "name": "stdout",
     "output_type": "stream",
     "text": [
      "    [save] → models/alpha_0.524_sigmaw_3.400_top50.906.pt\n",
      "    [λ] λ_a=+8.18616e-01, λ_g=+1.08619e+00, \n",
      "    [test init] test init top1=98.94%, test init top5=94.91%, test init loss=5.414\n",
      "    [test] test top1=97.91%, test top5=90.63%, test loss=4.539\n",
      "[σ_w=3.40, α=0.57] training start!\n"
     ]
    },
    {
     "name": "stderr",
     "output_type": "stream",
     "text": [
      "100%|██████████| 15/15 [00:41<00:00,  2.78s/it]\n"
     ]
    },
    {
     "name": "stdout",
     "output_type": "stream",
     "text": [
      "    [save] → models/alpha_0.571_sigmaw_3.400_top50.890.pt\n",
      "    [λ] λ_a=+8.96548e-01, λ_g=+1.18525e+00, \n",
      "    [test init] test init top1=98.99%, test init top5=95.05%, test init loss=5.438\n",
      "    [test] test top1=97.34%, test top5=89.01%, test loss=4.493\n",
      "[σ_w=3.40, α=0.62] training start!\n"
     ]
    },
    {
     "name": "stderr",
     "output_type": "stream",
     "text": [
      "100%|██████████| 15/15 [00:41<00:00,  2.79s/it]\n"
     ]
    },
    {
     "name": "stdout",
     "output_type": "stream",
     "text": [
      "    [save] → models/alpha_0.618_sigmaw_3.400_top50.914.pt\n",
      "    [λ] λ_a=+9.93164e-01, λ_g=+1.14063e+00, \n",
      "    [test init] test init top1=99.03%, test init top5=95.07%, test init loss=5.463\n",
      "    [test] test top1=97.94%, test top5=91.40%, test loss=4.565\n",
      "[σ_w=3.40, α=0.67] training start!\n"
     ]
    },
    {
     "name": "stderr",
     "output_type": "stream",
     "text": [
      "100%|██████████| 15/15 [00:41<00:00,  2.78s/it]\n"
     ]
    },
    {
     "name": "stdout",
     "output_type": "stream",
     "text": [
      "    [save] → models/alpha_0.666_sigmaw_3.400_top50.925.pt\n",
      "    [λ] λ_a=+7.20867e-01, λ_g=+1.22277e+00, \n",
      "    [test init] test init top1=99.09%, test init top5=95.21%, test init loss=5.473\n",
      "    [test] test top1=98.39%, test top5=92.48%, test loss=4.576\n",
      "[σ_w=3.40, α=0.71] training start!\n"
     ]
    },
    {
     "name": "stderr",
     "output_type": "stream",
     "text": [
      "100%|██████████| 15/15 [00:41<00:00,  2.77s/it]\n"
     ]
    },
    {
     "name": "stdout",
     "output_type": "stream",
     "text": [
      "    [save] → models/alpha_0.713_sigmaw_3.400_top50.914.pt\n",
      "    [λ] λ_a=+7.21295e-01, λ_g=+1.21875e+00, \n",
      "    [test init] test init top1=98.97%, test init top5=95.09%, test init loss=5.539\n",
      "    [test] test top1=98.05%, test top5=91.37%, test loss=4.559\n",
      "[σ_w=3.40, α=0.76] training start!\n"
     ]
    },
    {
     "name": "stderr",
     "output_type": "stream",
     "text": [
      "100%|██████████| 15/15 [00:41<00:00,  2.78s/it]\n"
     ]
    },
    {
     "name": "stdout",
     "output_type": "stream",
     "text": [
      "    [save] → models/alpha_0.761_sigmaw_3.400_top50.936.pt\n",
      "    [λ] λ_a=+7.50995e-01, λ_g=+1.34500e+00, \n",
      "    [test init] test init top1=99.05%, test init top5=95.27%, test init loss=5.583\n",
      "    [test] test top1=98.63%, test top5=93.56%, test loss=4.611\n",
      "[σ_w=3.40, α=0.81] training start!\n"
     ]
    },
    {
     "name": "stderr",
     "output_type": "stream",
     "text": [
      "100%|██████████| 15/15 [00:41<00:00,  2.79s/it]\n"
     ]
    },
    {
     "name": "stdout",
     "output_type": "stream",
     "text": [
      "    [save] → models/alpha_0.808_sigmaw_3.400_top50.926.pt\n",
      "    [λ] λ_a=+4.10673e-01, λ_g=+1.43231e+00, \n",
      "    [test init] test init top1=98.99%, test init top5=94.92%, test init loss=5.628\n",
      "    [test] test top1=98.33%, test top5=92.61%, test loss=4.580\n",
      "[σ_w=3.40, α=0.86] training start!\n"
     ]
    },
    {
     "name": "stderr",
     "output_type": "stream",
     "text": [
      "100%|██████████| 15/15 [00:41<00:00,  2.78s/it]\n"
     ]
    },
    {
     "name": "stdout",
     "output_type": "stream",
     "text": [
      "    [save] → models/alpha_0.855_sigmaw_3.400_top50.947.pt\n",
      "    [λ] λ_a=+6.55156e-02, λ_g=+1.40473e+00, \n",
      "    [test init] test init top1=98.95%, test init top5=95.22%, test init loss=5.673\n",
      "    [test] test top1=98.85%, test top5=94.70%, test loss=4.625\n",
      "[σ_w=3.40, α=0.90] training start!\n"
     ]
    },
    {
     "name": "stderr",
     "output_type": "stream",
     "text": [
      "100%|██████████| 15/15 [00:41<00:00,  2.77s/it]\n"
     ]
    },
    {
     "name": "stdout",
     "output_type": "stream",
     "text": [
      "    [save] → models/alpha_0.903_sigmaw_3.400_top50.952.pt\n",
      "    [λ] λ_a=-1.69869e-01, λ_g=+1.36122e+00, \n",
      "    [test init] test init top1=99.13%, test init top5=95.10%, test init loss=5.728\n",
      "    [test] test top1=99.05%, test top5=95.20%, test loss=4.620\n",
      "[σ_w=3.40, α=0.95] training start!\n"
     ]
    },
    {
     "name": "stderr",
     "output_type": "stream",
     "text": [
      "100%|██████████| 15/15 [00:41<00:00,  2.77s/it]\n"
     ]
    },
    {
     "name": "stdout",
     "output_type": "stream",
     "text": [
      "    [save] → models/alpha_0.950_sigmaw_3.400_top50.948.pt\n",
      "    [λ] λ_a=-7.50097e-01, λ_g=+1.22057e+00, \n",
      "    [test init] test init top1=99.01%, test init top5=95.10%, test init loss=5.724\n",
      "    [test] test top1=98.93%, test top5=94.84%, test loss=4.615\n",
      "[σ_w=3.60, α=0.05] training start!\n"
     ]
    },
    {
     "name": "stderr",
     "output_type": "stream",
     "text": [
      "100%|██████████| 15/15 [00:41<00:00,  2.77s/it]\n"
     ]
    },
    {
     "name": "stdout",
     "output_type": "stream",
     "text": [
      "    [save] → models/alpha_0.050_sigmaw_3.600_top50.621.pt\n",
      "    [λ] λ_a=+6.59721e-02, λ_g=+8.98313e-02, \n",
      "    [test init] test init top1=99.10%, test init top5=95.12%, test init loss=4.697\n",
      "    [test] test top1=84.87%, test top5=62.10%, test loss=3.634\n",
      "[σ_w=3.60, α=0.10] training start!\n"
     ]
    },
    {
     "name": "stderr",
     "output_type": "stream",
     "text": [
      "100%|██████████| 15/15 [00:41<00:00,  2.77s/it]\n"
     ]
    },
    {
     "name": "stdout",
     "output_type": "stream",
     "text": [
      "    [save] → models/alpha_0.097_sigmaw_3.600_top50.636.pt\n",
      "    [λ] λ_a=+2.24291e-01, λ_g=+2.75454e-01, \n",
      "    [test init] test init top1=99.10%, test init top5=95.03%, test init loss=4.820\n",
      "    [test] test top1=85.85%, test top5=63.63%, test loss=3.691\n",
      "[σ_w=3.60, α=0.14] training start!\n"
     ]
    },
    {
     "name": "stderr",
     "output_type": "stream",
     "text": [
      "100%|██████████| 15/15 [00:41<00:00,  2.78s/it]\n"
     ]
    },
    {
     "name": "stdout",
     "output_type": "stream",
     "text": [
      "    [save] → models/alpha_0.145_sigmaw_3.600_top50.632.pt\n",
      "    [λ] λ_a=+4.99387e-01, λ_g=+3.86197e-01, \n",
      "    [test init] test init top1=99.12%, test init top5=95.11%, test init loss=5.084\n",
      "    [test] test top1=85.59%, test top5=63.17%, test loss=3.678\n",
      "[σ_w=3.60, α=0.19] training start!\n"
     ]
    },
    {
     "name": "stderr",
     "output_type": "stream",
     "text": [
      "100%|██████████| 15/15 [00:41<00:00,  2.77s/it]\n"
     ]
    },
    {
     "name": "stdout",
     "output_type": "stream",
     "text": [
      "    [save] → models/alpha_0.192_sigmaw_3.600_top50.666.pt\n",
      "    [λ] λ_a=+5.86379e-01, λ_g=+4.90300e-01, \n",
      "    [test init] test init top1=99.05%, test init top5=95.27%, test init loss=5.212\n",
      "    [test] test top1=87.16%, test top5=66.57%, test loss=3.788\n",
      "[σ_w=3.60, α=0.24] training start!\n"
     ]
    },
    {
     "name": "stderr",
     "output_type": "stream",
     "text": [
      "100%|██████████| 15/15 [00:41<00:00,  2.77s/it]\n"
     ]
    },
    {
     "name": "stdout",
     "output_type": "stream",
     "text": [
      "    [save] → models/alpha_0.239_sigmaw_3.600_top50.690.pt\n",
      "    [λ] λ_a=+7.86313e-01, λ_g=+5.70312e-01, \n",
      "    [test init] test init top1=99.05%, test init top5=95.10%, test init loss=5.324\n",
      "    [test] test top1=89.42%, test top5=69.01%, test loss=3.893\n",
      "[σ_w=3.60, α=0.29] training start!\n"
     ]
    },
    {
     "name": "stderr",
     "output_type": "stream",
     "text": [
      "100%|██████████| 15/15 [00:41<00:00,  2.77s/it]\n"
     ]
    },
    {
     "name": "stdout",
     "output_type": "stream",
     "text": [
      "    [save] → models/alpha_0.287_sigmaw_3.600_top50.744.pt\n",
      "    [λ] λ_a=+8.82686e-01, λ_g=+7.88332e-01, \n",
      "    [test init] test init top1=98.95%, test init top5=94.65%, test init loss=5.373\n",
      "    [test] test top1=91.73%, test top5=74.40%, test loss=4.066\n",
      "[σ_w=3.60, α=0.33] training start!\n"
     ]
    },
    {
     "name": "stderr",
     "output_type": "stream",
     "text": [
      "100%|██████████| 15/15 [00:41<00:00,  2.77s/it]\n"
     ]
    },
    {
     "name": "stdout",
     "output_type": "stream",
     "text": [
      "    [save] → models/alpha_0.334_sigmaw_3.600_top50.779.pt\n",
      "    [λ] λ_a=+1.01811e+00, λ_g=+9.61252e-01, \n",
      "    [test init] test init top1=99.12%, test init top5=95.24%, test init loss=5.426\n",
      "    [test] test top1=93.22%, test top5=77.86%, test loss=4.171\n",
      "[σ_w=3.60, α=0.38] training start!\n"
     ]
    },
    {
     "name": "stderr",
     "output_type": "stream",
     "text": [
      "100%|██████████| 15/15 [00:41<00:00,  2.77s/it]\n"
     ]
    },
    {
     "name": "stdout",
     "output_type": "stream",
     "text": [
      "    [save] → models/alpha_0.382_sigmaw_3.600_top50.811.pt\n",
      "    [λ] λ_a=+9.52387e-01, λ_g=+9.00935e-01, \n",
      "    [test init] test init top1=99.07%, test init top5=94.94%, test init loss=5.442\n",
      "    [test] test top1=94.31%, test top5=81.07%, test loss=4.277\n",
      "[σ_w=3.60, α=0.43] training start!\n"
     ]
    },
    {
     "name": "stderr",
     "output_type": "stream",
     "text": [
      "100%|██████████| 15/15 [00:41<00:00,  2.77s/it]\n"
     ]
    },
    {
     "name": "stdout",
     "output_type": "stream",
     "text": [
      "    [save] → models/alpha_0.429_sigmaw_3.600_top50.857.pt\n",
      "    [λ] λ_a=+8.19948e-01, λ_g=+9.75845e-01, \n",
      "    [test init] test init top1=98.93%, test init top5=94.97%, test init loss=5.468\n",
      "    [test] test top1=96.14%, test top5=85.68%, test loss=4.412\n",
      "[σ_w=3.60, α=0.48] training start!\n"
     ]
    },
    {
     "name": "stderr",
     "output_type": "stream",
     "text": [
      "100%|██████████| 15/15 [00:41<00:00,  2.77s/it]\n"
     ]
    },
    {
     "name": "stdout",
     "output_type": "stream",
     "text": [
      "    [save] → models/alpha_0.476_sigmaw_3.600_top50.877.pt\n",
      "    [λ] λ_a=+9.80310e-01, λ_g=+1.14944e+00, \n",
      "    [test init] test init top1=99.02%, test init top5=95.16%, test init loss=5.491\n",
      "    [test] test top1=96.99%, test top5=87.73%, test loss=4.466\n",
      "[σ_w=3.60, α=0.52] training start!\n"
     ]
    },
    {
     "name": "stderr",
     "output_type": "stream",
     "text": [
      "100%|██████████| 15/15 [00:41<00:00,  2.77s/it]\n"
     ]
    },
    {
     "name": "stdout",
     "output_type": "stream",
     "text": [
      "    [save] → models/alpha_0.524_sigmaw_3.600_top50.896.pt\n",
      "    [λ] λ_a=+1.17014e+00, λ_g=+1.16140e+00, \n",
      "    [test init] test init top1=99.10%, test init top5=95.40%, test init loss=5.513\n",
      "    [test] test top1=97.51%, test top5=89.60%, test loss=4.505\n",
      "[σ_w=3.60, α=0.57] training start!\n"
     ]
    },
    {
     "name": "stderr",
     "output_type": "stream",
     "text": [
      "100%|██████████| 15/15 [00:41<00:00,  2.77s/it]\n"
     ]
    },
    {
     "name": "stdout",
     "output_type": "stream",
     "text": [
      "    [save] → models/alpha_0.571_sigmaw_3.600_top50.926.pt\n",
      "    [λ] λ_a=+6.59221e-01, λ_g=+1.30416e+00, \n",
      "    [test init] test init top1=98.98%, test init top5=95.14%, test init loss=5.597\n",
      "    [test] test top1=98.58%, test top5=92.63%, test loss=4.586\n",
      "[σ_w=3.60, α=0.62] training start!\n"
     ]
    },
    {
     "name": "stderr",
     "output_type": "stream",
     "text": [
      "100%|██████████| 15/15 [00:41<00:00,  2.77s/it]\n"
     ]
    },
    {
     "name": "stdout",
     "output_type": "stream",
     "text": [
      "    [save] → models/alpha_0.618_sigmaw_3.600_top50.925.pt\n",
      "    [λ] λ_a=+9.63002e-01, λ_g=+1.28688e+00, \n",
      "    [test init] test init top1=98.94%, test init top5=94.99%, test init loss=5.600\n",
      "    [test] test top1=98.43%, test top5=92.53%, test loss=4.581\n",
      "[σ_w=3.60, α=0.67] training start!\n"
     ]
    },
    {
     "name": "stderr",
     "output_type": "stream",
     "text": [
      "100%|██████████| 15/15 [00:41<00:00,  2.78s/it]\n"
     ]
    },
    {
     "name": "stdout",
     "output_type": "stream",
     "text": [
      "    [save] → models/alpha_0.666_sigmaw_3.600_top50.925.pt\n",
      "    [λ] λ_a=+8.23137e-01, λ_g=+1.39254e+00, \n",
      "    [test init] test init top1=99.10%, test init top5=95.14%, test init loss=5.531\n",
      "    [test] test top1=98.34%, test top5=92.46%, test loss=4.582\n",
      "[σ_w=3.60, α=0.71] training start!\n"
     ]
    },
    {
     "name": "stderr",
     "output_type": "stream",
     "text": [
      "100%|██████████| 15/15 [00:41<00:00,  2.77s/it]\n"
     ]
    },
    {
     "name": "stdout",
     "output_type": "stream",
     "text": [
      "    [save] → models/alpha_0.713_sigmaw_3.600_top50.933.pt\n",
      "    [λ] λ_a=+8.65896e-01, λ_g=+1.55279e+00, \n",
      "    [test init] test init top1=99.07%, test init top5=95.14%, test init loss=5.725\n",
      "    [test] test top1=98.40%, test top5=93.28%, test loss=4.598\n",
      "[σ_w=3.60, α=0.76] training start!\n"
     ]
    },
    {
     "name": "stderr",
     "output_type": "stream",
     "text": [
      "100%|██████████| 15/15 [00:41<00:00,  2.77s/it]\n"
     ]
    },
    {
     "name": "stdout",
     "output_type": "stream",
     "text": [
      "    [save] → models/alpha_0.761_sigmaw_3.600_top50.939.pt\n",
      "    [λ] λ_a=+6.91939e-01, λ_g=+1.59078e+00, \n",
      "    [test init] test init top1=98.88%, test init top5=94.84%, test init loss=5.648\n",
      "    [test] test top1=98.71%, test top5=93.86%, test loss=4.606\n",
      "[σ_w=3.60, α=0.81] training start!\n"
     ]
    },
    {
     "name": "stderr",
     "output_type": "stream",
     "text": [
      "100%|██████████| 15/15 [00:41<00:00,  2.77s/it]\n"
     ]
    },
    {
     "name": "stdout",
     "output_type": "stream",
     "text": [
      "    [save] → models/alpha_0.808_sigmaw_3.600_top50.935.pt\n",
      "    [λ] λ_a=+4.91836e-01, λ_g=+1.45891e+00, \n",
      "    [test init] test init top1=99.00%, test init top5=95.24%, test init loss=5.794\n",
      "    [test] test top1=98.58%, test top5=93.47%, test loss=4.606\n",
      "[σ_w=3.60, α=0.86] training start!\n"
     ]
    },
    {
     "name": "stderr",
     "output_type": "stream",
     "text": [
      "100%|██████████| 15/15 [00:41<00:00,  2.77s/it]\n"
     ]
    },
    {
     "name": "stdout",
     "output_type": "stream",
     "text": [
      "    [save] → models/alpha_0.855_sigmaw_3.600_top50.948.pt\n",
      "    [λ] λ_a=+1.65765e-01, λ_g=+1.39213e+00, \n",
      "    [test init] test init top1=98.99%, test init top5=95.03%, test init loss=5.873\n",
      "    [test] test top1=98.99%, test top5=94.81%, test loss=4.626\n",
      "[σ_w=3.60, α=0.90] training start!\n"
     ]
    },
    {
     "name": "stderr",
     "output_type": "stream",
     "text": [
      "100%|██████████| 15/15 [00:41<00:00,  2.77s/it]\n"
     ]
    },
    {
     "name": "stdout",
     "output_type": "stream",
     "text": [
      "    [save] → models/alpha_0.903_sigmaw_3.600_top50.942.pt\n",
      "    [λ] λ_a=-3.13906e-01, λ_g=+1.35215e+00, \n",
      "    [test init] test init top1=98.99%, test init top5=95.31%, test init loss=6.043\n",
      "    [test] test top1=98.82%, test top5=94.19%, test loss=4.614\n",
      "[σ_w=3.60, α=0.95] training start!\n"
     ]
    },
    {
     "name": "stderr",
     "output_type": "stream",
     "text": [
      "100%|██████████| 15/15 [00:41<00:00,  2.77s/it]\n"
     ]
    },
    {
     "name": "stdout",
     "output_type": "stream",
     "text": [
      "    [save] → models/alpha_0.950_sigmaw_3.600_top50.944.pt\n",
      "    [λ] λ_a=-8.07277e-01, λ_g=+1.08082e+00, \n",
      "    [test init] test init top1=99.09%, test init top5=95.33%, test init loss=6.003\n",
      "    [test] test top1=98.87%, test top5=94.44%, test loss=4.615\n",
      "[σ_w=3.80, α=0.05] training start!\n"
     ]
    },
    {
     "name": "stderr",
     "output_type": "stream",
     "text": [
      "100%|██████████| 15/15 [00:41<00:00,  2.78s/it]\n"
     ]
    },
    {
     "name": "stdout",
     "output_type": "stream",
     "text": [
      "    [save] → models/alpha_0.050_sigmaw_3.800_top50.632.pt\n",
      "    [λ] λ_a=+9.11692e-02, λ_g=+1.59222e-01, \n",
      "    [test init] test init top1=98.97%, test init top5=94.63%, test init loss=4.683\n",
      "    [test] test top1=85.67%, test top5=63.18%, test loss=3.679\n",
      "[σ_w=3.80, α=0.10] training start!\n"
     ]
    },
    {
     "name": "stderr",
     "output_type": "stream",
     "text": [
      "100%|██████████| 15/15 [00:41<00:00,  2.77s/it]\n"
     ]
    },
    {
     "name": "stdout",
     "output_type": "stream",
     "text": [
      "    [save] → models/alpha_0.097_sigmaw_3.800_top50.639.pt\n",
      "    [λ] λ_a=+3.46192e-01, λ_g=+3.86980e-01, \n",
      "    [test init] test init top1=98.99%, test init top5=95.20%, test init loss=4.866\n",
      "    [test] test top1=86.20%, test top5=63.94%, test loss=3.707\n",
      "[σ_w=3.80, α=0.14] training start!\n"
     ]
    },
    {
     "name": "stderr",
     "output_type": "stream",
     "text": [
      "100%|██████████| 15/15 [00:41<00:00,  2.78s/it]\n"
     ]
    },
    {
     "name": "stdout",
     "output_type": "stream",
     "text": [
      "    [save] → models/alpha_0.145_sigmaw_3.800_top50.675.pt\n",
      "    [λ] λ_a=+6.39152e-01, λ_g=+4.33473e-01, \n",
      "    [test init] test init top1=99.06%, test init top5=95.12%, test init loss=5.017\n",
      "    [test] test top1=88.28%, test top5=67.51%, test loss=3.839\n",
      "[σ_w=3.80, α=0.19] training start!\n"
     ]
    },
    {
     "name": "stderr",
     "output_type": "stream",
     "text": [
      "100%|██████████| 15/15 [00:41<00:00,  2.77s/it]\n"
     ]
    },
    {
     "name": "stdout",
     "output_type": "stream",
     "text": [
      "    [save] → models/alpha_0.192_sigmaw_3.800_top50.728.pt\n",
      "    [λ] λ_a=+6.82594e-01, λ_g=+5.09784e-01, \n",
      "    [test init] test init top1=99.16%, test init top5=95.42%, test init loss=5.278\n",
      "    [test] test top1=90.70%, test top5=72.77%, test loss=3.995\n",
      "[σ_w=3.80, α=0.24] training start!\n"
     ]
    },
    {
     "name": "stderr",
     "output_type": "stream",
     "text": [
      "100%|██████████| 15/15 [00:41<00:00,  2.77s/it]\n"
     ]
    },
    {
     "name": "stdout",
     "output_type": "stream",
     "text": [
      "    [save] → models/alpha_0.239_sigmaw_3.800_top50.721.pt\n",
      "    [λ] λ_a=+8.28435e-01, λ_g=+7.33106e-01, \n",
      "    [test init] test init top1=99.05%, test init top5=94.99%, test init loss=5.326\n",
      "    [test] test top1=90.53%, test top5=72.06%, test loss=3.993\n",
      "[σ_w=3.80, α=0.29] training start!\n"
     ]
    },
    {
     "name": "stderr",
     "output_type": "stream",
     "text": [
      "100%|██████████| 15/15 [00:41<00:00,  2.77s/it]\n"
     ]
    },
    {
     "name": "stdout",
     "output_type": "stream",
     "text": [
      "    [save] → models/alpha_0.287_sigmaw_3.800_top50.780.pt\n",
      "    [λ] λ_a=+1.04034e+00, λ_g=+6.58900e-01, \n",
      "    [test init] test init top1=99.00%, test init top5=95.12%, test init loss=5.537\n",
      "    [test] test top1=93.07%, test top5=78.03%, test loss=4.179\n",
      "[σ_w=3.80, α=0.33] training start!\n"
     ]
    },
    {
     "name": "stderr",
     "output_type": "stream",
     "text": [
      "100%|██████████| 15/15 [00:41<00:00,  2.77s/it]\n"
     ]
    },
    {
     "name": "stdout",
     "output_type": "stream",
     "text": [
      "    [save] → models/alpha_0.334_sigmaw_3.800_top50.804.pt\n",
      "    [λ] λ_a=+1.08873e+00, λ_g=+9.62562e-01, \n",
      "    [test init] test init top1=99.12%, test init top5=95.10%, test init loss=5.503\n",
      "    [test] test top1=94.20%, test top5=80.43%, test loss=4.252\n",
      "[σ_w=3.80, α=0.38] training start!\n"
     ]
    },
    {
     "name": "stderr",
     "output_type": "stream",
     "text": [
      "100%|██████████| 15/15 [00:41<00:00,  2.77s/it]\n"
     ]
    },
    {
     "name": "stdout",
     "output_type": "stream",
     "text": [
      "    [save] → models/alpha_0.382_sigmaw_3.800_top50.875.pt\n",
      "    [λ] λ_a=+1.15857e+00, λ_g=+9.64388e-01, \n",
      "    [test init] test init top1=99.01%, test init top5=94.67%, test init loss=5.606\n",
      "    [test] test top1=97.07%, test top5=87.48%, test loss=4.453\n",
      "[σ_w=3.80, α=0.43] training start!\n"
     ]
    },
    {
     "name": "stderr",
     "output_type": "stream",
     "text": [
      "100%|██████████| 15/15 [00:41<00:00,  2.77s/it]\n"
     ]
    },
    {
     "name": "stdout",
     "output_type": "stream",
     "text": [
      "    [save] → models/alpha_0.429_sigmaw_3.800_top50.893.pt\n",
      "    [λ] λ_a=+1.07740e+00, λ_g=+1.03711e+00, \n",
      "    [test init] test init top1=98.97%, test init top5=94.95%, test init loss=5.621\n",
      "    [test] test top1=97.30%, test top5=89.30%, test loss=4.501\n",
      "[σ_w=3.80, α=0.48] training start!\n"
     ]
    },
    {
     "name": "stderr",
     "output_type": "stream",
     "text": [
      "100%|██████████| 15/15 [00:41<00:00,  2.77s/it]\n"
     ]
    },
    {
     "name": "stdout",
     "output_type": "stream",
     "text": [
      "    [save] → models/alpha_0.476_sigmaw_3.800_top50.915.pt\n",
      "    [λ] λ_a=+1.21665e+00, λ_g=+1.21208e+00, \n",
      "    [test init] test init top1=99.00%, test init top5=94.90%, test init loss=5.622\n",
      "    [test] test top1=98.12%, test top5=91.49%, test loss=4.558\n",
      "[σ_w=3.80, α=0.52] training start!\n"
     ]
    },
    {
     "name": "stderr",
     "output_type": "stream",
     "text": [
      "100%|██████████| 15/15 [00:41<00:00,  2.77s/it]\n"
     ]
    },
    {
     "name": "stdout",
     "output_type": "stream",
     "text": [
      "    [save] → models/alpha_0.524_sigmaw_3.800_top50.910.pt\n",
      "    [λ] λ_a=+9.55540e-01, λ_g=+1.36172e+00, \n",
      "    [test init] test init top1=98.97%, test init top5=95.05%, test init loss=5.583\n",
      "    [test] test top1=97.92%, test top5=91.01%, test loss=4.552\n",
      "[σ_w=3.80, α=0.57] training start!\n"
     ]
    },
    {
     "name": "stderr",
     "output_type": "stream",
     "text": [
      "100%|██████████| 15/15 [00:41<00:00,  2.77s/it]\n"
     ]
    },
    {
     "name": "stdout",
     "output_type": "stream",
     "text": [
      "    [save] → models/alpha_0.571_sigmaw_3.800_top50.935.pt\n",
      "    [λ] λ_a=+9.73412e-01, λ_g=+1.35319e+00, \n",
      "    [test init] test init top1=99.12%, test init top5=95.25%, test init loss=5.770\n",
      "    [test] test top1=98.59%, test top5=93.54%, test loss=4.606\n",
      "[σ_w=3.80, α=0.62] training start!\n"
     ]
    },
    {
     "name": "stderr",
     "output_type": "stream",
     "text": [
      "100%|██████████| 15/15 [00:41<00:00,  2.78s/it]\n"
     ]
    },
    {
     "name": "stdout",
     "output_type": "stream",
     "text": [
      "    [save] → models/alpha_0.618_sigmaw_3.800_top50.930.pt\n",
      "    [λ] λ_a=+9.86128e-01, λ_g=+1.44111e+00, \n",
      "    [test init] test init top1=99.11%, test init top5=95.18%, test init loss=5.739\n",
      "    [test] test top1=98.55%, test top5=92.99%, test loss=4.598\n",
      "[σ_w=3.80, α=0.67] training start!\n"
     ]
    },
    {
     "name": "stderr",
     "output_type": "stream",
     "text": [
      "100%|██████████| 15/15 [00:41<00:00,  2.77s/it]\n"
     ]
    },
    {
     "name": "stdout",
     "output_type": "stream",
     "text": [
      "    [save] → models/alpha_0.666_sigmaw_3.800_top50.929.pt\n",
      "    [λ] λ_a=+1.11814e+00, λ_g=+1.34497e+00, \n",
      "    [test init] test init top1=98.97%, test init top5=94.90%, test init loss=5.696\n",
      "    [test] test top1=98.48%, test top5=92.91%, test loss=4.600\n",
      "[σ_w=3.80, α=0.71] training start!\n"
     ]
    },
    {
     "name": "stderr",
     "output_type": "stream",
     "text": [
      "100%|██████████| 15/15 [00:41<00:00,  2.77s/it]\n"
     ]
    },
    {
     "name": "stdout",
     "output_type": "stream",
     "text": [
      "    [save] → models/alpha_0.713_sigmaw_3.800_top50.933.pt\n",
      "    [λ] λ_a=+8.75883e-01, λ_g=+1.55857e+00, \n",
      "    [test init] test init top1=98.94%, test init top5=95.14%, test init loss=5.799\n",
      "    [test] test top1=98.57%, test top5=93.29%, test loss=4.603\n",
      "[σ_w=3.80, α=0.76] training start!\n"
     ]
    },
    {
     "name": "stderr",
     "output_type": "stream",
     "text": [
      "100%|██████████| 15/15 [00:41<00:00,  2.77s/it]\n"
     ]
    },
    {
     "name": "stdout",
     "output_type": "stream",
     "text": [
      "    [save] → models/alpha_0.761_sigmaw_3.800_top50.931.pt\n",
      "    [λ] λ_a=+3.44922e-01, λ_g=+1.56855e+00, \n",
      "    [test init] test init top1=99.08%, test init top5=95.05%, test init loss=5.952\n",
      "    [test] test top1=98.46%, test top5=93.12%, test loss=4.598\n",
      "[σ_w=3.80, α=0.81] training start!\n"
     ]
    },
    {
     "name": "stderr",
     "output_type": "stream",
     "text": [
      "100%|██████████| 15/15 [00:41<00:00,  2.77s/it]\n"
     ]
    },
    {
     "name": "stdout",
     "output_type": "stream",
     "text": [
      "    [save] → models/alpha_0.808_sigmaw_3.800_top50.946.pt\n",
      "    [λ] λ_a=+3.58567e-01, λ_g=+1.61446e+00, \n",
      "    [test init] test init top1=98.86%, test init top5=95.07%, test init loss=5.962\n",
      "    [test] test top1=98.96%, test top5=94.63%, test loss=4.622\n",
      "[σ_w=3.80, α=0.86] training start!\n"
     ]
    },
    {
     "name": "stderr",
     "output_type": "stream",
     "text": [
      "100%|██████████| 15/15 [00:41<00:00,  2.77s/it]\n"
     ]
    },
    {
     "name": "stdout",
     "output_type": "stream",
     "text": [
      "    [save] → models/alpha_0.855_sigmaw_3.800_top50.937.pt\n",
      "    [λ] λ_a=+1.20918e-01, λ_g=+1.56704e+00, \n",
      "    [test init] test init top1=99.07%, test init top5=95.14%, test init loss=5.925\n",
      "    [test] test top1=98.57%, test top5=93.73%, test loss=4.608\n",
      "[σ_w=3.80, α=0.90] training start!\n"
     ]
    },
    {
     "name": "stderr",
     "output_type": "stream",
     "text": [
      "100%|██████████| 15/15 [00:41<00:00,  2.77s/it]\n"
     ]
    },
    {
     "name": "stdout",
     "output_type": "stream",
     "text": [
      "    [save] → models/alpha_0.903_sigmaw_3.800_top50.949.pt\n",
      "    [λ] λ_a=-1.40979e-03, λ_g=+1.32339e+00, \n",
      "    [test init] test init top1=99.12%, test init top5=95.18%, test init loss=6.124\n",
      "    [test] test top1=98.91%, test top5=94.86%, test loss=4.633\n",
      "[σ_w=3.80, α=0.95] training start!\n"
     ]
    },
    {
     "name": "stderr",
     "output_type": "stream",
     "text": [
      "100%|██████████| 15/15 [00:41<00:00,  2.77s/it]\n"
     ]
    },
    {
     "name": "stdout",
     "output_type": "stream",
     "text": [
      "    [save] → models/alpha_0.950_sigmaw_3.800_top50.946.pt\n",
      "    [λ] λ_a=-4.47229e-01, λ_g=+1.37602e+00, \n",
      "    [test init] test init top1=99.07%, test init top5=95.22%, test init loss=6.270\n",
      "    [test] test top1=98.82%, test top5=94.60%, test loss=4.616\n",
      "[σ_w=4.00, α=0.05] training start!\n"
     ]
    },
    {
     "name": "stderr",
     "output_type": "stream",
     "text": [
      "100%|██████████| 15/15 [00:41<00:00,  2.77s/it]\n"
     ]
    },
    {
     "name": "stdout",
     "output_type": "stream",
     "text": [
      "    [save] → models/alpha_0.050_sigmaw_4.000_top50.655.pt\n",
      "    [λ] λ_a=+1.11834e-01, λ_g=+1.19418e-01, \n",
      "    [test init] test init top1=99.12%, test init top5=95.18%, test init loss=4.696\n",
      "    [test] test top1=87.00%, test top5=65.53%, test loss=3.759\n",
      "[σ_w=4.00, α=0.10] training start!\n"
     ]
    },
    {
     "name": "stderr",
     "output_type": "stream",
     "text": [
      "100%|██████████| 15/15 [00:41<00:00,  2.77s/it]\n"
     ]
    },
    {
     "name": "stdout",
     "output_type": "stream",
     "text": [
      "    [save] → models/alpha_0.097_sigmaw_4.000_top50.674.pt\n",
      "    [λ] λ_a=+3.65992e-01, λ_g=+4.54432e-01, \n",
      "    [test init] test init top1=98.99%, test init top5=95.02%, test init loss=4.893\n",
      "    [test] test top1=88.02%, test top5=67.40%, test loss=3.818\n",
      "[σ_w=4.00, α=0.14] training start!\n"
     ]
    },
    {
     "name": "stderr",
     "output_type": "stream",
     "text": [
      "100%|██████████| 15/15 [00:41<00:00,  2.77s/it]\n"
     ]
    },
    {
     "name": "stdout",
     "output_type": "stream",
     "text": [
      "    [save] → models/alpha_0.145_sigmaw_4.000_top50.688.pt\n",
      "    [λ] λ_a=+5.68464e-01, λ_g=+6.70206e-01, \n",
      "    [test init] test init top1=98.95%, test init top5=95.18%, test init loss=5.177\n",
      "    [test] test top1=88.62%, test top5=68.80%, test loss=3.880\n",
      "[σ_w=4.00, α=0.19] training start!\n"
     ]
    },
    {
     "name": "stderr",
     "output_type": "stream",
     "text": [
      "100%|██████████| 15/15 [00:41<00:00,  2.78s/it]\n"
     ]
    },
    {
     "name": "stdout",
     "output_type": "stream",
     "text": [
      "    [save] → models/alpha_0.192_sigmaw_4.000_top50.723.pt\n",
      "    [λ] λ_a=+8.53466e-01, λ_g=+6.81674e-01, \n",
      "    [test init] test init top1=99.00%, test init top5=94.90%, test init loss=5.347\n",
      "    [test] test top1=90.50%, test top5=72.26%, test loss=3.995\n",
      "[σ_w=4.00, α=0.24] training start!\n"
     ]
    },
    {
     "name": "stderr",
     "output_type": "stream",
     "text": [
      "100%|██████████| 15/15 [00:41<00:00,  2.78s/it]\n"
     ]
    },
    {
     "name": "stdout",
     "output_type": "stream",
     "text": [
      "    [save] → models/alpha_0.239_sigmaw_4.000_top50.756.pt\n",
      "    [λ] λ_a=+1.08073e+00, λ_g=+8.25368e-01, \n",
      "    [test init] test init top1=98.96%, test init top5=94.93%, test init loss=5.624\n",
      "    [test] test top1=92.06%, test top5=75.61%, test loss=4.114\n",
      "[σ_w=4.00, α=0.29] training start!\n"
     ]
    },
    {
     "name": "stderr",
     "output_type": "stream",
     "text": [
      "100%|██████████| 15/15 [00:41<00:00,  2.77s/it]\n"
     ]
    },
    {
     "name": "stdout",
     "output_type": "stream",
     "text": [
      "    [save] → models/alpha_0.287_sigmaw_4.000_top50.801.pt\n",
      "    [λ] λ_a=+9.62422e-01, λ_g=+9.34003e-01, \n",
      "    [test init] test init top1=98.95%, test init top5=95.07%, test init loss=5.605\n",
      "    [test] test top1=94.31%, test top5=80.11%, test loss=4.256\n",
      "[σ_w=4.00, α=0.33] training start!\n"
     ]
    },
    {
     "name": "stderr",
     "output_type": "stream",
     "text": [
      "100%|██████████| 15/15 [00:41<00:00,  2.77s/it]\n"
     ]
    },
    {
     "name": "stdout",
     "output_type": "stream",
     "text": [
      "    [save] → models/alpha_0.334_sigmaw_4.000_top50.878.pt\n",
      "    [λ] λ_a=+1.22631e+00, λ_g=+9.93297e-01, \n",
      "    [test init] test init top1=98.99%, test init top5=94.73%, test init loss=5.605\n",
      "    [test] test top1=97.08%, test top5=87.81%, test loss=4.455\n",
      "[σ_w=4.00, α=0.38] training start!\n"
     ]
    },
    {
     "name": "stderr",
     "output_type": "stream",
     "text": [
      "100%|██████████| 15/15 [00:41<00:00,  2.78s/it]\n"
     ]
    },
    {
     "name": "stdout",
     "output_type": "stream",
     "text": [
      "    [save] → models/alpha_0.382_sigmaw_4.000_top50.883.pt\n",
      "    [λ] λ_a=+1.06319e+00, λ_g=+1.00803e+00, \n",
      "    [test init] test init top1=98.99%, test init top5=95.31%, test init loss=5.750\n",
      "    [test] test top1=97.09%, test top5=88.30%, test loss=4.475\n",
      "[σ_w=4.00, α=0.43] training start!\n"
     ]
    },
    {
     "name": "stderr",
     "output_type": "stream",
     "text": [
      "100%|██████████| 15/15 [00:41<00:00,  2.77s/it]\n"
     ]
    },
    {
     "name": "stdout",
     "output_type": "stream",
     "text": [
      "    [save] → models/alpha_0.429_sigmaw_4.000_top50.905.pt\n",
      "    [λ] λ_a=+1.24913e+00, λ_g=+1.09914e+00, \n",
      "    [test init] test init top1=99.01%, test init top5=95.07%, test init loss=5.645\n",
      "    [test] test top1=97.60%, test top5=90.46%, test loss=4.536\n",
      "[σ_w=4.00, α=0.48] training start!\n"
     ]
    },
    {
     "name": "stderr",
     "output_type": "stream",
     "text": [
      "100%|██████████| 15/15 [00:41<00:00,  2.77s/it]\n"
     ]
    },
    {
     "name": "stdout",
     "output_type": "stream",
     "text": [
      "    [save] → models/alpha_0.476_sigmaw_4.000_top50.910.pt\n",
      "    [λ] λ_a=+1.29199e+00, λ_g=+1.25922e+00, \n",
      "    [test init] test init top1=98.91%, test init top5=94.78%, test init loss=5.759\n",
      "    [test] test top1=97.90%, test top5=90.99%, test loss=4.546\n",
      "[σ_w=4.00, α=0.52] training start!\n"
     ]
    },
    {
     "name": "stderr",
     "output_type": "stream",
     "text": [
      "100%|██████████| 15/15 [00:41<00:00,  2.78s/it]\n"
     ]
    },
    {
     "name": "stdout",
     "output_type": "stream",
     "text": [
      "    [save] → models/alpha_0.524_sigmaw_4.000_top50.926.pt\n",
      "    [λ] λ_a=+1.14128e+00, λ_g=+1.48125e+00, \n",
      "    [test init] test init top1=99.02%, test init top5=95.14%, test init loss=5.703\n",
      "    [test] test top1=98.34%, test top5=92.64%, test loss=4.592\n",
      "[σ_w=4.00, α=0.57] training start!\n"
     ]
    },
    {
     "name": "stderr",
     "output_type": "stream",
     "text": [
      "100%|██████████| 15/15 [00:41<00:00,  2.77s/it]\n"
     ]
    },
    {
     "name": "stdout",
     "output_type": "stream",
     "text": [
      "    [save] → models/alpha_0.571_sigmaw_4.000_top50.921.pt\n",
      "    [λ] λ_a=+1.02423e+00, λ_g=+1.23660e+00, \n",
      "    [test init] test init top1=98.99%, test init top5=95.21%, test init loss=5.771\n",
      "    [test] test top1=98.10%, test top5=92.13%, test loss=4.581\n",
      "[σ_w=4.00, α=0.62] training start!\n"
     ]
    },
    {
     "name": "stderr",
     "output_type": "stream",
     "text": [
      "100%|██████████| 15/15 [00:41<00:00,  2.77s/it]\n"
     ]
    },
    {
     "name": "stdout",
     "output_type": "stream",
     "text": [
      "    [save] → models/alpha_0.618_sigmaw_4.000_top50.939.pt\n",
      "    [λ] λ_a=+1.12664e+00, λ_g=+1.53481e+00, \n",
      "    [test init] test init top1=99.03%, test init top5=95.24%, test init loss=5.811\n",
      "    [test] test top1=98.67%, test top5=93.85%, test loss=4.612\n",
      "[σ_w=4.00, α=0.67] training start!\n"
     ]
    },
    {
     "name": "stderr",
     "output_type": "stream",
     "text": [
      "100%|██████████| 15/15 [00:41<00:00,  2.77s/it]\n"
     ]
    },
    {
     "name": "stdout",
     "output_type": "stream",
     "text": [
      "    [save] → models/alpha_0.666_sigmaw_4.000_top50.928.pt\n",
      "    [λ] λ_a=+1.07573e+00, λ_g=+1.51774e+00, \n",
      "    [test init] test init top1=98.96%, test init top5=95.14%, test init loss=5.917\n",
      "    [test] test top1=98.36%, test top5=92.76%, test loss=4.594\n",
      "[σ_w=4.00, α=0.71] training start!\n"
     ]
    },
    {
     "name": "stderr",
     "output_type": "stream",
     "text": [
      "100%|██████████| 15/15 [00:41<00:00,  2.77s/it]\n"
     ]
    },
    {
     "name": "stdout",
     "output_type": "stream",
     "text": [
      "    [save] → models/alpha_0.713_sigmaw_4.000_top50.943.pt\n",
      "    [λ] λ_a=+7.42640e-01, λ_g=+1.84599e+00, \n",
      "    [test init] test init top1=99.12%, test init top5=95.10%, test init loss=6.014\n",
      "    [test] test top1=98.85%, test top5=94.27%, test loss=4.623\n",
      "[σ_w=4.00, α=0.76] training start!\n"
     ]
    },
    {
     "name": "stderr",
     "output_type": "stream",
     "text": [
      "100%|██████████| 15/15 [00:41<00:00,  2.77s/it]\n"
     ]
    },
    {
     "name": "stdout",
     "output_type": "stream",
     "text": [
      "    [save] → models/alpha_0.761_sigmaw_4.000_top50.951.pt\n",
      "    [λ] λ_a=+8.33559e-01, λ_g=+1.67184e+00, \n",
      "    [test init] test init top1=98.93%, test init top5=94.90%, test init loss=6.027\n",
      "    [test] test top1=99.13%, test top5=95.10%, test loss=4.627\n",
      "[σ_w=4.00, α=0.81] training start!\n"
     ]
    },
    {
     "name": "stderr",
     "output_type": "stream",
     "text": [
      "100%|██████████| 15/15 [00:41<00:00,  2.77s/it]\n"
     ]
    },
    {
     "name": "stdout",
     "output_type": "stream",
     "text": [
      "    [save] → models/alpha_0.808_sigmaw_4.000_top50.948.pt\n",
      "    [λ] λ_a=+6.69470e-01, λ_g=+1.70543e+00, \n",
      "    [test init] test init top1=98.95%, test init top5=95.18%, test init loss=6.124\n",
      "    [test] test top1=98.99%, test top5=94.79%, test loss=4.631\n",
      "[σ_w=4.00, α=0.86] training start!\n"
     ]
    },
    {
     "name": "stderr",
     "output_type": "stream",
     "text": [
      "100%|██████████| 15/15 [00:41<00:00,  2.77s/it]\n"
     ]
    },
    {
     "name": "stdout",
     "output_type": "stream",
     "text": [
      "    [save] → models/alpha_0.855_sigmaw_4.000_top50.943.pt\n",
      "    [λ] λ_a=+2.50612e-01, λ_g=+1.86210e+00, \n",
      "    [test init] test init top1=99.01%, test init top5=94.87%, test init loss=6.109\n",
      "    [test] test top1=98.75%, test top5=94.35%, test loss=4.619\n",
      "[σ_w=4.00, α=0.90] training start!\n"
     ]
    },
    {
     "name": "stderr",
     "output_type": "stream",
     "text": [
      "100%|██████████| 15/15 [00:41<00:00,  2.77s/it]\n"
     ]
    },
    {
     "name": "stdout",
     "output_type": "stream",
     "text": [
      "    [save] → models/alpha_0.903_sigmaw_4.000_top50.950.pt\n",
      "    [λ] λ_a=-1.75277e-01, λ_g=+1.78204e+00, \n",
      "    [test init] test init top1=98.99%, test init top5=95.18%, test init loss=6.269\n",
      "    [test] test top1=98.98%, test top5=94.99%, test loss=4.618\n",
      "[σ_w=4.00, α=0.95] training start!\n"
     ]
    },
    {
     "name": "stderr",
     "output_type": "stream",
     "text": [
      "100%|██████████| 15/15 [00:41<00:00,  2.77s/it]\n"
     ]
    },
    {
     "name": "stdout",
     "output_type": "stream",
     "text": [
      "    [save] → models/alpha_0.950_sigmaw_4.000_top50.947.pt\n",
      "    [λ] λ_a=-5.97707e-01, λ_g=+1.57018e+00, \n",
      "    [test init] test init top1=99.12%, test init top5=95.18%, test init loss=6.365\n",
      "    [test] test top1=98.99%, test top5=94.75%, test loss=4.622\n"
     ]
    }
   ],
   "source": [
    "# ---------------------------------------------------------------------\n",
    "# 6.  Grid sweep   (α, σ_w)\n",
    "# ---------------------------------------------------------------------\n",
    "seed = 2025\n",
    "n_init = 1             # number of independent trials for each hyperparameters\n",
    "L = 16                 # depth of NN\n",
    "d = 64                 # token dimension\n",
    "sigma_A = 1.0          # Q,K,V std variance\n",
    "\n",
    "set_global_seed(seed)\n",
    "\n",
    "device = torch.device('cuda')\n",
    "train_loader, test_loader = food101_loaders(Path('data/').expanduser(),\n",
    "                                            batch_size=256, num_workers=0)\n",
    "alphas  = np.linspace(0.05, 0.95, 20)\n",
    "sigmasw = np.linspace(0.2, 4.0, 20)\n",
    "\n",
    "lambda_a_grid = np.zeros((len(sigmasw), len(alphas)))\n",
    "lambda_g_grid = np.zeros_like(lambda_a_grid)\n",
    "top1_grid    = np.zeros_like(lambda_a_grid)\n",
    "top5_grid    = np.zeros_like(lambda_a_grid)\n",
    "loss_grid    = np.zeros_like(lambda_a_grid)\n",
    "top1_init_grid    = np.zeros_like(lambda_a_grid)\n",
    "top5_init_grid    = np.zeros_like(lambda_a_grid)\n",
    "loss_init_grid    = np.zeros_like(lambda_a_grid)\n",
    "\n",
    "for i, sw in enumerate(sigmasw):\n",
    "    for j, a in enumerate(alphas):\n",
    "        lambda_a_lst, lambda_g_lst = [], []\n",
    "        top1_lst, top5_lst, loss_lst = [], [], []\n",
    "        top1_init_lst, top5_init_lst, loss_init_lst = [], [], []\n",
    "        for _ in range(n_init):\n",
    "            # initalize full network\n",
    "            net = TinyViT(L=L, d=d, sigma_A=sigma_A, sigma_w=sw, alpha=a).to(device)\n",
    "            # compute λ_a & λ_g at initialization\n",
    "            lambda_a_lst.append(estimate_lambda_a(net, d=64, n_tokens=256, cos_init=.99, device=device))\n",
    "            lambda_g_lst.append(estimate_lambda_g(net, d=64, n_tokens=256, cos_init=.99, device=device))\n",
    "            # training\n",
    "            metrics, metrics_init = train_eval(model=net, loaders=(train_loader,test_loader), \n",
    "                                               device=device, epochs=15,\n",
    "                                               alpha=a, sigma_w=sw, save_dir=\"models\")\n",
    "            top1_lst.append(metrics['top1'])\n",
    "            top5_lst.append(metrics['top5'])\n",
    "            loss_lst.append(metrics['loss'])\n",
    "            top1_init_lst.append(metrics_init['top1'])\n",
    "            top5_init_lst.append(metrics_init['top5'])\n",
    "            loss_init_lst.append(metrics_init['loss'])\n",
    "            \n",
    "            torch.cuda.empty_cache()\n",
    "            \n",
    "        lambda_a_grid[i,j] = np.mean(lambda_a_lst)\n",
    "        lambda_g_grid[i,j] = np.mean(lambda_g_lst)\n",
    "        top1_init_grid[i,j]      = np.mean(top1_init_lst)\n",
    "        top5_init_grid[i,j]      = np.mean(top5_init_lst)\n",
    "        loss_init_grid[i,j]     = np.mean(loss_init_lst)\n",
    "        top1_grid[i,j]      = np.mean(top1_lst)\n",
    "        top5_grid[i,j]      = np.mean(top5_lst)\n",
    "        loss_grid[i,j]     = np.mean(loss_lst)\n",
    "\n",
    "        # quick feedback\n",
    "        print(f\"    [λ] λ_a={lambda_a_grid[i,j]:+2.5e}, λ_g={lambda_g_grid[i,j]:+2.5e}, \", flush=True)\n",
    "        print(f\"    [test init] test init top1={top1_init_grid[i,j]:4.2%}, test init top5={top5_init_grid[i,j]:4.2%}, test init loss={loss_init_grid[i,j]:5.3f}\", flush=True)\n",
    "        print(f\"    [test] test top1={top1_grid[i,j]:4.2%}, test top5={top5_grid[i,j]:4.2%}, test loss={loss_grid[i,j]:5.3f}\", flush=True)\n",
    "\n",
    "\n",
    "dir_path = Path(\"grid/\")\n",
    "dir_path.mkdir(parents=True, exist_ok=True)\n",
    "np.savez('grid/lambda_a_grid.npz', alphas=alphas, sigmasw=sigmasw, data=lambda_a_grid)\n",
    "np.savez('grid/lambda_g_grid.npz', alphas=alphas, sigmasw=sigmasw, data=lambda_g_grid)\n",
    "np.savez('grid/testtop1_init_grid.npz',  alphas=alphas, sigmasw=sigmasw, data=top1_init_grid)\n",
    "np.savez('grid/testtop5_init_grid.npz',  alphas=alphas, sigmasw=sigmasw, data=top5_init_grid)\n",
    "np.savez('grid/testloss_init_grid.npz',  alphas=alphas, sigmasw=sigmasw, data=loss_init_grid)\n",
    "np.savez('grid/testtop1_grid.npz',  alphas=alphas, sigmasw=sigmasw, data=top1_grid)\n",
    "np.savez('grid/testtop5_grid.npz',  alphas=alphas, sigmasw=sigmasw, data=top5_grid)\n",
    "np.savez('grid/testloss_grid.npz',  alphas=alphas, sigmasw=sigmasw, data=loss_grid)\n",
    "\n"
   ]
  },
  {
   "cell_type": "code",
   "execution_count": 11,
   "id": "51cf1909-df76-4400-988d-84275990becf",
   "metadata": {},
   "outputs": [
    {
     "data": {
      "image/png": "[encoded data removed]",
      "text/plain": [
       "<Figure size 1440x540 with 2 Axes>"
      ]
     },
     "metadata": {},
     "output_type": "display_data"
    }
   ],
   "source": [
    "##### plot test loss vs lambda_a / lambda_g scatters\n",
    "# ── 1. load data ─────────────────────────────────────────────\n",
    "la  = np.load('grid/lambda_a_grid.npz')['data'].ravel()\n",
    "lg  = np.load('grid/lambda_g_grid.npz')['data'].ravel()\n",
    "tl = np.load('grid/testloss_grid.npz')['data'].ravel()\n",
    "tli = np.load('grid/testloss_init_grid.npz')['data'].ravel()\n",
    "\n",
    "# ── 2. plot ──────────────────────────────────────────────────────────\n",
    "# plt.figure(figsize=(6, 4.5), dpi=120)\n",
    "fig, (ax1, ax2) = plt.subplots(1, 2, figsize=(12, 4.5), dpi=120)\n",
    "\n",
    "# main scatter\n",
    "scatter_kw = dict(\n",
    "    s=20,              # 30-pt marker in area units\n",
    "    lw=0.4, edgecolor='k',\n",
    "    alpha=0.6, facecolor='#2CA089'\n",
    ")\n",
    "\n",
    "ax1.scatter(la, tl, **scatter_kw)\n",
    "ax2.scatter(lg, tl, **scatter_kw)\n",
    "\n",
    "# baseline dashed line (top of the cloud)\n",
    "y_ref = math.log(101)          # or any constant you wish\n",
    "ax1.axhline(y_ref, ls='--', lw=1.4, color='#D95F8B')\n",
    "ax2.axhline(y_ref, ls='--', lw=1.4, color='#D95F8B')\n",
    "\n",
    "# ── cosmetics ─────────────────────────────────────────────────────────\n",
    "for ax in (ax1, ax2):\n",
    "    ax.axhline(y_ref, ls='--', lw=1.4, color='#D95F8B')\n",
    "    ax.set_ylim(tl.min() - .1, tl.max() + .2)\n",
    "    ax.tick_params(labelsize=12)\n",
    "\n",
    "ax1.set_xlabel(r'$\\lambda_a$', fontsize=15)\n",
    "ax1.set_ylabel(r'Test Loss',   fontsize=15)\n",
    "ax1.set_title(r'Test Loss versus $\\lambda_a$', fontsize=16, pad=12)\n",
    "ax1.set_xlim(la.min() - .3, la.max() + .3)\n",
    "\n",
    "ax2.set_xlabel(r'$\\lambda_g$', fontsize=15)\n",
    "ax2.set_ylabel(r'Test Loss',   fontsize=15)\n",
    "ax2.set_title(r'Test Loss versus $\\lambda_g$', fontsize=16, pad=12)\n",
    "ax2.set_xlim(lg.min() - .3, lg.max() + .3)\n",
    "\n",
    "fig.tight_layout()\n",
    "\n",
    "plt.show()\n",
    "\n",
    "fig.savefig(f\"testloss_vs_lambda_sA{sigma_A:.1f}.pdf\", format=\"pdf\")   # or give a full path"
   ]
  },
  {
   "cell_type": "code",
   "execution_count": 12,
   "id": "2813583f-7071-4f64-b3f9-e72c401adb85",
   "metadata": {},
   "outputs": [
    {
     "data": {
      "image/png": "[encoded data removed]",
      "text/plain": [
       "<Figure size 720x600 with 2 Axes>"
      ]
     },
     "metadata": {},
     "output_type": "display_data"
    }
   ],
   "source": [
    "import matplotlib.tri as mtri\n",
    "\n",
    "# ── 1. load your 1-D data vectors ────────────────────────────────────\n",
    "la = np.load('grid/lambda_a_grid.npz')['data'].ravel()      # λ_a\n",
    "lg = np.load('grid/lambda_g_grid.npz')['data'].ravel()      # λ_g\n",
    "tl = np.load('grid/testloss_grid.npz')['data'].ravel()      # test loss\n",
    "\n",
    "# ── 2. triangulation (Delaunay in 2-D) ───────────────────────────────\n",
    "tri = mtri.Triangulation(la, lg)\n",
    "\n",
    "# ── 3. plot ──────────────────────────────────────────────────────────\n",
    "fig, ax = plt.subplots(figsize=(6, 5), dpi=120)\n",
    "\n",
    "# filled contour (25 levels by default)\n",
    "cntr = ax.tricontourf(tri, tl, levels=25, cmap='viridis_r')\n",
    "\n",
    "# white wire-frame overlay\n",
    "ax.triplot(tri, lw=0.4, color='white', alpha=0.6)\n",
    "\n",
    "# colour-bar\n",
    "cbar = fig.colorbar(cntr, ax=ax)\n",
    "cbar.set_label(r'Test Loss', fontsize=12)\n",
    "\n",
    "# ── 4. cosmetics & log axes ─────────────────────────────────────────\n",
    "ax.set_xlabel(r'$\\lambda_a$', fontsize=14)\n",
    "ax.set_ylabel(r'$\\lambda_g$', fontsize=14)\n",
    "ax.set_title(r'Test Loss Basin', fontsize=16, pad=10)\n",
    "\n",
    "# symmetric-log so negative & positive region both stretch\n",
    "ax.set_xscale('symlog', linthresh=1e-2)\n",
    "ax.set_yscale('symlog', linthresh=1e-2)\n",
    "\n",
    "ax.tick_params(labelsize=11)\n",
    "ax.set_xlim(la.min()*1.1, la.max()*1.1)\n",
    "ax.set_ylim(lg.min()*1.1, lg.max()*1.1)\n",
    "\n",
    "plt.tight_layout()\n",
    "plt.show()\n",
    "\n",
    "fig.savefig(f\"testloss_basin_sA{sigma_A:.1f}.pdf\", format=\"pdf\")   # or give a full path"
   ]
  },
  {
   "cell_type": "code",
   "execution_count": null,
   "id": "553a1c5b-1c4a-48a2-a0ef-294dae156711",
   "metadata": {},
   "outputs": [],
   "source": []
  }
 ],
 "metadata": {
  "kernelspec": {
   "display_name": "Python 3 (ipykernel)",
   "language": "python",
   "name": "python3"
  },
  "language_info": {
   "codemirror_mode": {
    "name": "ipython",
    "version": 3
   },
   "file_extension": ".py",
   "mimetype": "text/x-python",
   "name": "python",
   "nbconvert_exporter": "python",
   "pygments_lexer": "ipython3",
   "version": "3.12.2"
  }
 },
 "nbformat": 4,
 "nbformat_minor": 5
}
